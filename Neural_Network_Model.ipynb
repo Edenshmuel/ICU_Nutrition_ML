{
  "nbformat": 4,
  "nbformat_minor": 0,
  "metadata": {
    "colab": {
      "provenance": [],
      "authorship_tag": "ABX9TyOBtpOg6Oze18wgMi4LodKK",
      "include_colab_link": true
    },
    "kernelspec": {
      "name": "python3",
      "display_name": "Python 3"
    },
    "language_info": {
      "name": "python"
    }
  },
  "cells": [
    {
      "cell_type": "markdown",
      "metadata": {
        "id": "view-in-github",
        "colab_type": "text"
      },
      "source": [
        "<a href=\"https://colab.research.google.com/github/Edenshmuel/ICU_Nutrition_ML/blob/main/Neural_Network_Model.ipynb\" target=\"_parent\"><img src=\"https://colab.research.google.com/assets/colab-badge.svg\" alt=\"Open In Colab\"/></a>"
      ]
    },
    {
      "cell_type": "code",
      "execution_count": 1,
      "metadata": {
        "id": "4thHdg2IztdQ"
      },
      "outputs": [],
      "source": [
        "import copy\n",
        "import numpy as np\n",
        "import pandas as pd\n",
        "from sklearn.pipeline import Pipeline\n",
        "from sklearn.impute import SimpleImputer\n",
        "from sklearn.compose import ColumnTransformer\n",
        "from sklearn.metrics import mean_absolute_error\n",
        "from sklearn.model_selection import train_test_split\n",
        "from sklearn.preprocessing import FunctionTransformer\n",
        "from sklearn.base import BaseEstimator, TransformerMixin\n",
        "from sklearn.preprocessing import StandardScaler, OneHotEncoder"
      ]
    },
    {
      "cell_type": "code",
      "source": [
        "!git clone https://github.com/Edenshmuel/ICU_Nutrition_ML.git"
      ],
      "metadata": {
        "colab": {
          "base_uri": "https://localhost:8080/"
        },
        "id": "-i810gpGzz2r",
        "outputId": "36c8b9f8-4bde-4632-f25d-01e278bd98a6"
      },
      "execution_count": 2,
      "outputs": [
        {
          "output_type": "stream",
          "name": "stdout",
          "text": [
            "fatal: destination path 'ICU_Nutrition_ML' already exists and is not an empty directory.\n"
          ]
        }
      ]
    },
    {
      "cell_type": "code",
      "source": [
        "df = pd.read_csv(\"https://raw.githubusercontent.com/Edenshmuel/ICU_Nutrition_ML/refs/heads/main/Food_and_Nutrition__.csv\")\n",
        "df.head()"
      ],
      "metadata": {
        "colab": {
          "base_uri": "https://localhost:8080/",
          "height": 573
        },
        "id": "IiK4Bf1oz4GD",
        "outputId": "f048a717-9996-41cb-9128-16334879d8f3"
      },
      "execution_count": 3,
      "outputs": [
        {
          "output_type": "execute_result",
          "data": {
            "text/plain": [
              "   Ages  Gender  Height  Weight     Activity Level Dietary Preference  \\\n",
              "0    25    Male     180      80  Moderately Active           Omnivore   \n",
              "1    32  Female     165      65     Lightly Active         Vegetarian   \n",
              "2    48    Male     175      95          Sedentary              Vegan   \n",
              "3    55  Female     160      70        Very Active           Omnivore   \n",
              "4    62    Male     170      85          Sedentary         Vegetarian   \n",
              "\n",
              "   Daily Calorie Target  Protein  Sugar  Sodium  Calories  Carbohydrates  \\\n",
              "0                  2000      120  125.0    24.0      2020            250   \n",
              "1                  1600       80  100.0    16.0      1480            200   \n",
              "2                  2200      100  150.0    20.0      2185            300   \n",
              "3                  2500      140  175.0    28.0      2680            350   \n",
              "4                  2000       80  125.0    16.0      1815            250   \n",
              "\n",
              "   Fiber  Fat                               Breakfast Suggestion  \\\n",
              "0   30.0   60                      Oatmeal with berries and nuts   \n",
              "1   24.0   40                         Tofu scramble with veggies   \n",
              "2   36.0   65                  Tofu and veggie breakfast burrito   \n",
              "3   42.0   80                Greek yogurt with granola and fruit   \n",
              "4   30.0   55  Scrambled eggs with whole wheat toast and avocado   \n",
              "\n",
              "                             Lunch Suggestion  \\\n",
              "0     Grilled chicken salad with mixed greens   \n",
              "1          Lentil soup with whole wheat bread   \n",
              "2      Black bean burger on a whole wheat bun   \n",
              "3              Chicken and vegetable stir-fry   \n",
              "4  Quinoa salad with chickpeas and vegetables   \n",
              "\n",
              "                    Dinner Suggestion           Snack Suggestion  \\\n",
              "0      Salmon with roasted vegetables    Greek yogurt with fruit   \n",
              "1  Vegetable stir-fry with brown rice   Apple with almond butter   \n",
              "2          Lentil and vegetable curry                  Trail mix   \n",
              "3        Turkey chili with brown rice  Banana with peanut butter   \n",
              "4     Vegetarian chili with cornbread          Fruit and nut mix   \n",
              "\n",
              "                                    Disease  \n",
              "0                               Weight Gain  \n",
              "1  Weight Gain, Hypertension, Heart Disease  \n",
              "2                               Weight Gain  \n",
              "3                               Weight Gain  \n",
              "4                               Weight Gain  "
            ],
            "text/html": [
              "\n",
              "  <div id=\"df-1aca5775-97fb-4cb3-b963-f703ab4a8ac8\" class=\"colab-df-container\">\n",
              "    <div>\n",
              "<style scoped>\n",
              "    .dataframe tbody tr th:only-of-type {\n",
              "        vertical-align: middle;\n",
              "    }\n",
              "\n",
              "    .dataframe tbody tr th {\n",
              "        vertical-align: top;\n",
              "    }\n",
              "\n",
              "    .dataframe thead th {\n",
              "        text-align: right;\n",
              "    }\n",
              "</style>\n",
              "<table border=\"1\" class=\"dataframe\">\n",
              "  <thead>\n",
              "    <tr style=\"text-align: right;\">\n",
              "      <th></th>\n",
              "      <th>Ages</th>\n",
              "      <th>Gender</th>\n",
              "      <th>Height</th>\n",
              "      <th>Weight</th>\n",
              "      <th>Activity Level</th>\n",
              "      <th>Dietary Preference</th>\n",
              "      <th>Daily Calorie Target</th>\n",
              "      <th>Protein</th>\n",
              "      <th>Sugar</th>\n",
              "      <th>Sodium</th>\n",
              "      <th>Calories</th>\n",
              "      <th>Carbohydrates</th>\n",
              "      <th>Fiber</th>\n",
              "      <th>Fat</th>\n",
              "      <th>Breakfast Suggestion</th>\n",
              "      <th>Lunch Suggestion</th>\n",
              "      <th>Dinner Suggestion</th>\n",
              "      <th>Snack Suggestion</th>\n",
              "      <th>Disease</th>\n",
              "    </tr>\n",
              "  </thead>\n",
              "  <tbody>\n",
              "    <tr>\n",
              "      <th>0</th>\n",
              "      <td>25</td>\n",
              "      <td>Male</td>\n",
              "      <td>180</td>\n",
              "      <td>80</td>\n",
              "      <td>Moderately Active</td>\n",
              "      <td>Omnivore</td>\n",
              "      <td>2000</td>\n",
              "      <td>120</td>\n",
              "      <td>125.0</td>\n",
              "      <td>24.0</td>\n",
              "      <td>2020</td>\n",
              "      <td>250</td>\n",
              "      <td>30.0</td>\n",
              "      <td>60</td>\n",
              "      <td>Oatmeal with berries and nuts</td>\n",
              "      <td>Grilled chicken salad with mixed greens</td>\n",
              "      <td>Salmon with roasted vegetables</td>\n",
              "      <td>Greek yogurt with fruit</td>\n",
              "      <td>Weight Gain</td>\n",
              "    </tr>\n",
              "    <tr>\n",
              "      <th>1</th>\n",
              "      <td>32</td>\n",
              "      <td>Female</td>\n",
              "      <td>165</td>\n",
              "      <td>65</td>\n",
              "      <td>Lightly Active</td>\n",
              "      <td>Vegetarian</td>\n",
              "      <td>1600</td>\n",
              "      <td>80</td>\n",
              "      <td>100.0</td>\n",
              "      <td>16.0</td>\n",
              "      <td>1480</td>\n",
              "      <td>200</td>\n",
              "      <td>24.0</td>\n",
              "      <td>40</td>\n",
              "      <td>Tofu scramble with veggies</td>\n",
              "      <td>Lentil soup with whole wheat bread</td>\n",
              "      <td>Vegetable stir-fry with brown rice</td>\n",
              "      <td>Apple with almond butter</td>\n",
              "      <td>Weight Gain, Hypertension, Heart Disease</td>\n",
              "    </tr>\n",
              "    <tr>\n",
              "      <th>2</th>\n",
              "      <td>48</td>\n",
              "      <td>Male</td>\n",
              "      <td>175</td>\n",
              "      <td>95</td>\n",
              "      <td>Sedentary</td>\n",
              "      <td>Vegan</td>\n",
              "      <td>2200</td>\n",
              "      <td>100</td>\n",
              "      <td>150.0</td>\n",
              "      <td>20.0</td>\n",
              "      <td>2185</td>\n",
              "      <td>300</td>\n",
              "      <td>36.0</td>\n",
              "      <td>65</td>\n",
              "      <td>Tofu and veggie breakfast burrito</td>\n",
              "      <td>Black bean burger on a whole wheat bun</td>\n",
              "      <td>Lentil and vegetable curry</td>\n",
              "      <td>Trail mix</td>\n",
              "      <td>Weight Gain</td>\n",
              "    </tr>\n",
              "    <tr>\n",
              "      <th>3</th>\n",
              "      <td>55</td>\n",
              "      <td>Female</td>\n",
              "      <td>160</td>\n",
              "      <td>70</td>\n",
              "      <td>Very Active</td>\n",
              "      <td>Omnivore</td>\n",
              "      <td>2500</td>\n",
              "      <td>140</td>\n",
              "      <td>175.0</td>\n",
              "      <td>28.0</td>\n",
              "      <td>2680</td>\n",
              "      <td>350</td>\n",
              "      <td>42.0</td>\n",
              "      <td>80</td>\n",
              "      <td>Greek yogurt with granola and fruit</td>\n",
              "      <td>Chicken and vegetable stir-fry</td>\n",
              "      <td>Turkey chili with brown rice</td>\n",
              "      <td>Banana with peanut butter</td>\n",
              "      <td>Weight Gain</td>\n",
              "    </tr>\n",
              "    <tr>\n",
              "      <th>4</th>\n",
              "      <td>62</td>\n",
              "      <td>Male</td>\n",
              "      <td>170</td>\n",
              "      <td>85</td>\n",
              "      <td>Sedentary</td>\n",
              "      <td>Vegetarian</td>\n",
              "      <td>2000</td>\n",
              "      <td>80</td>\n",
              "      <td>125.0</td>\n",
              "      <td>16.0</td>\n",
              "      <td>1815</td>\n",
              "      <td>250</td>\n",
              "      <td>30.0</td>\n",
              "      <td>55</td>\n",
              "      <td>Scrambled eggs with whole wheat toast and avocado</td>\n",
              "      <td>Quinoa salad with chickpeas and vegetables</td>\n",
              "      <td>Vegetarian chili with cornbread</td>\n",
              "      <td>Fruit and nut mix</td>\n",
              "      <td>Weight Gain</td>\n",
              "    </tr>\n",
              "  </tbody>\n",
              "</table>\n",
              "</div>\n",
              "    <div class=\"colab-df-buttons\">\n",
              "\n",
              "  <div class=\"colab-df-container\">\n",
              "    <button class=\"colab-df-convert\" onclick=\"convertToInteractive('df-1aca5775-97fb-4cb3-b963-f703ab4a8ac8')\"\n",
              "            title=\"Convert this dataframe to an interactive table.\"\n",
              "            style=\"display:none;\">\n",
              "\n",
              "  <svg xmlns=\"http://www.w3.org/2000/svg\" height=\"24px\" viewBox=\"0 -960 960 960\">\n",
              "    <path d=\"M120-120v-720h720v720H120Zm60-500h600v-160H180v160Zm220 220h160v-160H400v160Zm0 220h160v-160H400v160ZM180-400h160v-160H180v160Zm440 0h160v-160H620v160ZM180-180h160v-160H180v160Zm440 0h160v-160H620v160Z\"/>\n",
              "  </svg>\n",
              "    </button>\n",
              "\n",
              "  <style>\n",
              "    .colab-df-container {\n",
              "      display:flex;\n",
              "      gap: 12px;\n",
              "    }\n",
              "\n",
              "    .colab-df-convert {\n",
              "      background-color: #E8F0FE;\n",
              "      border: none;\n",
              "      border-radius: 50%;\n",
              "      cursor: pointer;\n",
              "      display: none;\n",
              "      fill: #1967D2;\n",
              "      height: 32px;\n",
              "      padding: 0 0 0 0;\n",
              "      width: 32px;\n",
              "    }\n",
              "\n",
              "    .colab-df-convert:hover {\n",
              "      background-color: #E2EBFA;\n",
              "      box-shadow: 0px 1px 2px rgba(60, 64, 67, 0.3), 0px 1px 3px 1px rgba(60, 64, 67, 0.15);\n",
              "      fill: #174EA6;\n",
              "    }\n",
              "\n",
              "    .colab-df-buttons div {\n",
              "      margin-bottom: 4px;\n",
              "    }\n",
              "\n",
              "    [theme=dark] .colab-df-convert {\n",
              "      background-color: #3B4455;\n",
              "      fill: #D2E3FC;\n",
              "    }\n",
              "\n",
              "    [theme=dark] .colab-df-convert:hover {\n",
              "      background-color: #434B5C;\n",
              "      box-shadow: 0px 1px 3px 1px rgba(0, 0, 0, 0.15);\n",
              "      filter: drop-shadow(0px 1px 2px rgba(0, 0, 0, 0.3));\n",
              "      fill: #FFFFFF;\n",
              "    }\n",
              "  </style>\n",
              "\n",
              "    <script>\n",
              "      const buttonEl =\n",
              "        document.querySelector('#df-1aca5775-97fb-4cb3-b963-f703ab4a8ac8 button.colab-df-convert');\n",
              "      buttonEl.style.display =\n",
              "        google.colab.kernel.accessAllowed ? 'block' : 'none';\n",
              "\n",
              "      async function convertToInteractive(key) {\n",
              "        const element = document.querySelector('#df-1aca5775-97fb-4cb3-b963-f703ab4a8ac8');\n",
              "        const dataTable =\n",
              "          await google.colab.kernel.invokeFunction('convertToInteractive',\n",
              "                                                    [key], {});\n",
              "        if (!dataTable) return;\n",
              "\n",
              "        const docLinkHtml = 'Like what you see? Visit the ' +\n",
              "          '<a target=\"_blank\" href=https://colab.research.google.com/notebooks/data_table.ipynb>data table notebook</a>'\n",
              "          + ' to learn more about interactive tables.';\n",
              "        element.innerHTML = '';\n",
              "        dataTable['output_type'] = 'display_data';\n",
              "        await google.colab.output.renderOutput(dataTable, element);\n",
              "        const docLink = document.createElement('div');\n",
              "        docLink.innerHTML = docLinkHtml;\n",
              "        element.appendChild(docLink);\n",
              "      }\n",
              "    </script>\n",
              "  </div>\n",
              "\n",
              "\n",
              "<div id=\"df-c223d0cf-3583-4352-839b-5253b2e872a1\">\n",
              "  <button class=\"colab-df-quickchart\" onclick=\"quickchart('df-c223d0cf-3583-4352-839b-5253b2e872a1')\"\n",
              "            title=\"Suggest charts\"\n",
              "            style=\"display:none;\">\n",
              "\n",
              "<svg xmlns=\"http://www.w3.org/2000/svg\" height=\"24px\"viewBox=\"0 0 24 24\"\n",
              "     width=\"24px\">\n",
              "    <g>\n",
              "        <path d=\"M19 3H5c-1.1 0-2 .9-2 2v14c0 1.1.9 2 2 2h14c1.1 0 2-.9 2-2V5c0-1.1-.9-2-2-2zM9 17H7v-7h2v7zm4 0h-2V7h2v10zm4 0h-2v-4h2v4z\"/>\n",
              "    </g>\n",
              "</svg>\n",
              "  </button>\n",
              "\n",
              "<style>\n",
              "  .colab-df-quickchart {\n",
              "      --bg-color: #E8F0FE;\n",
              "      --fill-color: #1967D2;\n",
              "      --hover-bg-color: #E2EBFA;\n",
              "      --hover-fill-color: #174EA6;\n",
              "      --disabled-fill-color: #AAA;\n",
              "      --disabled-bg-color: #DDD;\n",
              "  }\n",
              "\n",
              "  [theme=dark] .colab-df-quickchart {\n",
              "      --bg-color: #3B4455;\n",
              "      --fill-color: #D2E3FC;\n",
              "      --hover-bg-color: #434B5C;\n",
              "      --hover-fill-color: #FFFFFF;\n",
              "      --disabled-bg-color: #3B4455;\n",
              "      --disabled-fill-color: #666;\n",
              "  }\n",
              "\n",
              "  .colab-df-quickchart {\n",
              "    background-color: var(--bg-color);\n",
              "    border: none;\n",
              "    border-radius: 50%;\n",
              "    cursor: pointer;\n",
              "    display: none;\n",
              "    fill: var(--fill-color);\n",
              "    height: 32px;\n",
              "    padding: 0;\n",
              "    width: 32px;\n",
              "  }\n",
              "\n",
              "  .colab-df-quickchart:hover {\n",
              "    background-color: var(--hover-bg-color);\n",
              "    box-shadow: 0 1px 2px rgba(60, 64, 67, 0.3), 0 1px 3px 1px rgba(60, 64, 67, 0.15);\n",
              "    fill: var(--button-hover-fill-color);\n",
              "  }\n",
              "\n",
              "  .colab-df-quickchart-complete:disabled,\n",
              "  .colab-df-quickchart-complete:disabled:hover {\n",
              "    background-color: var(--disabled-bg-color);\n",
              "    fill: var(--disabled-fill-color);\n",
              "    box-shadow: none;\n",
              "  }\n",
              "\n",
              "  .colab-df-spinner {\n",
              "    border: 2px solid var(--fill-color);\n",
              "    border-color: transparent;\n",
              "    border-bottom-color: var(--fill-color);\n",
              "    animation:\n",
              "      spin 1s steps(1) infinite;\n",
              "  }\n",
              "\n",
              "  @keyframes spin {\n",
              "    0% {\n",
              "      border-color: transparent;\n",
              "      border-bottom-color: var(--fill-color);\n",
              "      border-left-color: var(--fill-color);\n",
              "    }\n",
              "    20% {\n",
              "      border-color: transparent;\n",
              "      border-left-color: var(--fill-color);\n",
              "      border-top-color: var(--fill-color);\n",
              "    }\n",
              "    30% {\n",
              "      border-color: transparent;\n",
              "      border-left-color: var(--fill-color);\n",
              "      border-top-color: var(--fill-color);\n",
              "      border-right-color: var(--fill-color);\n",
              "    }\n",
              "    40% {\n",
              "      border-color: transparent;\n",
              "      border-right-color: var(--fill-color);\n",
              "      border-top-color: var(--fill-color);\n",
              "    }\n",
              "    60% {\n",
              "      border-color: transparent;\n",
              "      border-right-color: var(--fill-color);\n",
              "    }\n",
              "    80% {\n",
              "      border-color: transparent;\n",
              "      border-right-color: var(--fill-color);\n",
              "      border-bottom-color: var(--fill-color);\n",
              "    }\n",
              "    90% {\n",
              "      border-color: transparent;\n",
              "      border-bottom-color: var(--fill-color);\n",
              "    }\n",
              "  }\n",
              "</style>\n",
              "\n",
              "  <script>\n",
              "    async function quickchart(key) {\n",
              "      const quickchartButtonEl =\n",
              "        document.querySelector('#' + key + ' button');\n",
              "      quickchartButtonEl.disabled = true;  // To prevent multiple clicks.\n",
              "      quickchartButtonEl.classList.add('colab-df-spinner');\n",
              "      try {\n",
              "        const charts = await google.colab.kernel.invokeFunction(\n",
              "            'suggestCharts', [key], {});\n",
              "      } catch (error) {\n",
              "        console.error('Error during call to suggestCharts:', error);\n",
              "      }\n",
              "      quickchartButtonEl.classList.remove('colab-df-spinner');\n",
              "      quickchartButtonEl.classList.add('colab-df-quickchart-complete');\n",
              "    }\n",
              "    (() => {\n",
              "      let quickchartButtonEl =\n",
              "        document.querySelector('#df-c223d0cf-3583-4352-839b-5253b2e872a1 button');\n",
              "      quickchartButtonEl.style.display =\n",
              "        google.colab.kernel.accessAllowed ? 'block' : 'none';\n",
              "    })();\n",
              "  </script>\n",
              "</div>\n",
              "\n",
              "    </div>\n",
              "  </div>\n"
            ],
            "application/vnd.google.colaboratory.intrinsic+json": {
              "type": "dataframe",
              "variable_name": "df",
              "summary": "{\n  \"name\": \"df\",\n  \"rows\": 1698,\n  \"fields\": [\n    {\n      \"column\": \"Ages\",\n      \"properties\": {\n        \"dtype\": \"number\",\n        \"std\": 15,\n        \"min\": 18,\n        \"max\": 79,\n        \"num_unique_values\": 62,\n        \"samples\": [\n          26,\n          43,\n          25\n        ],\n        \"semantic_type\": \"\",\n        \"description\": \"\"\n      }\n    },\n    {\n      \"column\": \"Gender\",\n      \"properties\": {\n        \"dtype\": \"category\",\n        \"num_unique_values\": 2,\n        \"samples\": [\n          \"Female\",\n          \"Male\"\n        ],\n        \"semantic_type\": \"\",\n        \"description\": \"\"\n      }\n    },\n    {\n      \"column\": \"Height\",\n      \"properties\": {\n        \"dtype\": \"number\",\n        \"std\": 13,\n        \"min\": 150,\n        \"max\": 200,\n        \"num_unique_values\": 51,\n        \"samples\": [\n          159,\n          189\n        ],\n        \"semantic_type\": \"\",\n        \"description\": \"\"\n      }\n    },\n    {\n      \"column\": \"Weight\",\n      \"properties\": {\n        \"dtype\": \"number\",\n        \"std\": 16,\n        \"min\": 48,\n        \"max\": 119,\n        \"num_unique_values\": 71,\n        \"samples\": [\n          115,\n          80\n        ],\n        \"semantic_type\": \"\",\n        \"description\": \"\"\n      }\n    },\n    {\n      \"column\": \"Activity Level\",\n      \"properties\": {\n        \"dtype\": \"category\",\n        \"num_unique_values\": 5,\n        \"samples\": [\n          \"Lightly Active\",\n          \"Extremely Active\"\n        ],\n        \"semantic_type\": \"\",\n        \"description\": \"\"\n      }\n    },\n    {\n      \"column\": \"Dietary Preference\",\n      \"properties\": {\n        \"dtype\": \"category\",\n        \"num_unique_values\": 4,\n        \"samples\": [\n          \"Vegetarian\",\n          \"Pescatarian\"\n        ],\n        \"semantic_type\": \"\",\n        \"description\": \"\"\n      }\n    },\n    {\n      \"column\": \"Daily Calorie Target\",\n      \"properties\": {\n        \"dtype\": \"number\",\n        \"std\": 558,\n        \"min\": 1200,\n        \"max\": 4364,\n        \"num_unique_values\": 895,\n        \"samples\": [\n          1782,\n          1828\n        ],\n        \"semantic_type\": \"\",\n        \"description\": \"\"\n      }\n    },\n    {\n      \"column\": \"Protein\",\n      \"properties\": {\n        \"dtype\": \"number\",\n        \"std\": 53,\n        \"min\": 50,\n        \"max\": 327,\n        \"num_unique_values\": 231,\n        \"samples\": [\n          272,\n          72\n        ],\n        \"semantic_type\": \"\",\n        \"description\": \"\"\n      }\n    },\n    {\n      \"column\": \"Sugar\",\n      \"properties\": {\n        \"dtype\": \"number\",\n        \"std\": 34.93890219462492,\n        \"min\": 60.0,\n        \"max\": 218.0,\n        \"num_unique_values\": 276,\n        \"samples\": [\n          158.0,\n          172.0\n        ],\n        \"semantic_type\": \"\",\n        \"description\": \"\"\n      }\n    },\n    {\n      \"column\": \"Sodium\",\n      \"properties\": {\n        \"dtype\": \"number\",\n        \"std\": 10.6653176771373,\n        \"min\": 10.0,\n        \"max\": 65.4,\n        \"num_unique_values\": 231,\n        \"samples\": [\n          54.4,\n          14.4\n        ],\n        \"semantic_type\": \"\",\n        \"description\": \"\"\n      }\n    },\n    {\n      \"column\": \"Calories\",\n      \"properties\": {\n        \"dtype\": \"number\",\n        \"std\": 571,\n        \"min\": 990,\n        \"max\": 4357,\n        \"num_unique_values\": 759,\n        \"samples\": [\n          1698,\n          1804\n        ],\n        \"semantic_type\": \"\",\n        \"description\": \"\"\n      }\n    },\n    {\n      \"column\": \"Carbohydrates\",\n      \"properties\": {\n        \"dtype\": \"number\",\n        \"std\": 69,\n        \"min\": 120,\n        \"max\": 436,\n        \"num_unique_values\": 276,\n        \"samples\": [\n          316,\n          344\n        ],\n        \"semantic_type\": \"\",\n        \"description\": \"\"\n      }\n    },\n    {\n      \"column\": \"Fiber\",\n      \"properties\": {\n        \"dtype\": \"number\",\n        \"std\": 8.385336526709985,\n        \"min\": 14.4,\n        \"max\": 52.32,\n        \"num_unique_values\": 276,\n        \"samples\": [\n          37.92,\n          41.28\n        ],\n        \"semantic_type\": \"\",\n        \"description\": \"\"\n      }\n    },\n    {\n      \"column\": \"Fat\",\n      \"properties\": {\n        \"dtype\": \"number\",\n        \"std\": 21,\n        \"min\": 30,\n        \"max\": 145,\n        \"num_unique_values\": 103,\n        \"samples\": [\n          82,\n          87\n        ],\n        \"semantic_type\": \"\",\n        \"description\": \"\"\n      }\n    },\n    {\n      \"column\": \"Breakfast Suggestion\",\n      \"properties\": {\n        \"dtype\": \"category\",\n        \"num_unique_values\": 121,\n        \"samples\": [\n          \"Scrambled tofu with whole-wheat toast and avocado\",\n          \"Tofu and vegetable scramble with whole wheat toast\"\n        ],\n        \"semantic_type\": \"\",\n        \"description\": \"\"\n      }\n    },\n    {\n      \"column\": \"Lunch Suggestion\",\n      \"properties\": {\n        \"dtype\": \"category\",\n        \"num_unique_values\": 190,\n        \"samples\": [\n          \"Tuna salad sandwich on whole grain bread\",\n          \"Vegan chili with whole wheat bread\"\n        ],\n        \"semantic_type\": \"\",\n        \"description\": \"\"\n      }\n    },\n    {\n      \"column\": \"Dinner Suggestion\",\n      \"properties\": {\n        \"dtype\": \"category\",\n        \"num_unique_values\": 177,\n        \"samples\": [\n          \"Tofu stir-fry with brown rice and vegetables\",\n          \"Tuna with quinoa and roasted vegetables\"\n        ],\n        \"semantic_type\": \"\",\n        \"description\": \"\"\n      }\n    },\n    {\n      \"column\": \"Snack Suggestion\",\n      \"properties\": {\n        \"dtype\": \"category\",\n        \"num_unique_values\": 112,\n        \"samples\": [\n          \"Greek yogurt with berries\",\n          \"Fruit with yogurt\"\n        ],\n        \"semantic_type\": \"\",\n        \"description\": \"\"\n      }\n    },\n    {\n      \"column\": \"Disease\",\n      \"properties\": {\n        \"dtype\": \"category\",\n        \"num_unique_values\": 13,\n        \"samples\": [\n          \"Diabetes, Acne, Weight Gain, Hypertension, Heart Disease\",\n          \"Hypertension, Heart Disease\"\n        ],\n        \"semantic_type\": \"\",\n        \"description\": \"\"\n      }\n    }\n  ]\n}"
            }
          },
          "metadata": {},
          "execution_count": 3
        }
      ]
    },
    {
      "cell_type": "markdown",
      "source": [
        "**Define Features and Target Variable**"
      ],
      "metadata": {
        "id": "HEPysP_50A92"
      }
    },
    {
      "cell_type": "code",
      "source": [
        "X = df.drop(columns=[\"Daily Calorie Target\", \"Protein\", \"Carbohydrates\"])\n",
        "y = df[[\"Daily Calorie Target\", \"Protein\", \"Carbohydrates\"]]"
      ],
      "metadata": {
        "id": "VcgQl7_xz5xK"
      },
      "execution_count": 4,
      "outputs": []
    },
    {
      "cell_type": "markdown",
      "source": [
        "**Feature Selection**"
      ],
      "metadata": {
        "id": "lTDAYOWv2M-D"
      }
    },
    {
      "cell_type": "markdown",
      "source": [
        "Prevent Data Leakage: Remove Columns That Contain Target Information"
      ],
      "metadata": {
        "id": "yarfKPqU1DmU"
      }
    },
    {
      "cell_type": "code",
      "source": [
        "X = df.drop(columns=[\"Calories\"])"
      ],
      "metadata": {
        "id": "RK-mKheC1Fj1"
      },
      "execution_count": 5,
      "outputs": []
    },
    {
      "cell_type": "markdown",
      "source": [
        "Removing Non-Contributing Columns"
      ],
      "metadata": {
        "id": "22U2cRxI2Z7v"
      }
    },
    {
      "cell_type": "code",
      "source": [
        "columns_to_remove = [\"Sugar\" , \"Fiber\", \"Sodium\", \"Breakfast Suggestion\", \"Lunch Suggestion\",\n",
        "                     \"Dinner Suggestion\", \"Snack Suggestion\"]\n",
        "\n",
        "X = df.drop(columns=columns_to_remove)"
      ],
      "metadata": {
        "id": "cFBAZjGJ2W49"
      },
      "execution_count": 6,
      "outputs": []
    },
    {
      "cell_type": "markdown",
      "source": [
        "**Categorize Features: Numerical, Categorical, and Skewed Columns**"
      ],
      "metadata": {
        "id": "Moj4Hxel0G5i"
      }
    },
    {
      "cell_type": "code",
      "source": [
        "numerical_features = [\"Ages\", \"Height\", \"Weight\"]\n",
        "categorical_features = [\"Gender\", \"Activity Level\", \"Dietary Preference\", \"Disease\"]"
      ],
      "metadata": {
        "id": "8nZG7Cdn0EEN"
      },
      "execution_count": 6,
      "outputs": []
    },
    {
      "cell_type": "markdown",
      "source": [
        "Features identified as right-skewed from EDA; applying log transformation"
      ],
      "metadata": {
        "id": "eAMFK6Zm-dWw"
      }
    },
    {
      "cell_type": "code",
      "source": [
        "right_skewed_features = [\"Fat\"]"
      ],
      "metadata": {
        "id": "I9j7YtCS-esj"
      },
      "execution_count": 7,
      "outputs": []
    },
    {
      "cell_type": "markdown",
      "source": [
        "**Data Preprocessing: Pipelines for Scaling, Encoding, and Log Transformation**"
      ],
      "metadata": {
        "id": "1lIX1vj-7_B6"
      }
    },
    {
      "cell_type": "markdown",
      "source": [
        "Log Transform + Scaling for skewed features"
      ],
      "metadata": {
        "id": "SAuJKKPB8Rkr"
      }
    },
    {
      "cell_type": "code",
      "source": [
        "log_scaler_pipeline = Pipeline(steps=[(\"log_transform\", FunctionTransformer(np.log1p, validate=True)),\n",
        "    (\"scaler\", StandardScaler())])"
      ],
      "metadata": {
        "id": "eUPzl_f60JA3"
      },
      "execution_count": 8,
      "outputs": []
    },
    {
      "cell_type": "markdown",
      "source": [
        "Standard Scaling for non-skewed features"
      ],
      "metadata": {
        "id": "Uvg-Jndd8TzR"
      }
    },
    {
      "cell_type": "code",
      "source": [
        "scaler_pipeline = Pipeline(steps=[(\"scaler\", StandardScaler())])"
      ],
      "metadata": {
        "id": "DdovvVZK8Jgj"
      },
      "execution_count": 9,
      "outputs": []
    },
    {
      "cell_type": "markdown",
      "source": [
        "One-Hot Encoding for categorical features"
      ],
      "metadata": {
        "id": "JC7_7_mT8WnZ"
      }
    },
    {
      "cell_type": "code",
      "source": [
        "cat_transformer = Pipeline(steps=[(\"encoder\", OneHotEncoder(handle_unknown=\"ignore\"))])"
      ],
      "metadata": {
        "id": "w34yWPSS8PrQ"
      },
      "execution_count": 10,
      "outputs": []
    },
    {
      "cell_type": "markdown",
      "source": [
        "Combine Transformations in ColumnTransformer"
      ],
      "metadata": {
        "id": "Dk368k2G8kSO"
      }
    },
    {
      "cell_type": "markdown",
      "source": [
        "**Define a Custom Transformer for BMI Calculation**"
      ],
      "metadata": {
        "id": "wO4JIC2eTewf"
      }
    },
    {
      "cell_type": "code",
      "source": [
        "class BMICalculator(BaseEstimator, TransformerMixin):\n",
        "    def fit(self, X, y=None):\n",
        "        return self\n",
        "\n",
        "    def transform(self, X):\n",
        "        X = X.copy()\n",
        "        X[\"BMI\"] = X[\"Weight\"] / (X[\"Height\"] ** 2)\n",
        "        return X"
      ],
      "metadata": {
        "id": "mvp_jnBLTgfk"
      },
      "execution_count": 11,
      "outputs": []
    },
    {
      "cell_type": "code",
      "source": [
        "num_pipeline = Pipeline(steps=[\n",
        "    (\"bmi_calculator\", BMICalculator()),\n",
        "    (\"log_scaled\", log_scaler_pipeline),\n",
        "    (\"scaler\", scaler_pipeline)])"
      ],
      "metadata": {
        "id": "KuvVhs61UaGt"
      },
      "execution_count": 12,
      "outputs": []
    },
    {
      "cell_type": "code",
      "source": [
        "preprocessor = ColumnTransformer(transformers=[\n",
        "    (\"log_scaled\", log_scaler_pipeline, right_skewed_features),\n",
        "    (\"scaled\", scaler_pipeline, list(numerical_features)),\n",
        "    (\"cat\", cat_transformer, categorical_features)])"
      ],
      "metadata": {
        "id": "v2qb-FtS8ZDB"
      },
      "execution_count": 13,
      "outputs": []
    },
    {
      "cell_type": "markdown",
      "source": [
        "Split data before applying transformations to prevent data leakage"
      ],
      "metadata": {
        "id": "TxXjVCZ58s1m"
      }
    },
    {
      "cell_type": "code",
      "source": [
        "X_train, X_test, y_train, y_test = train_test_split(X, y, test_size=0.2, random_state=42)"
      ],
      "metadata": {
        "id": "ZAZJcJX28tOK"
      },
      "execution_count": 14,
      "outputs": []
    },
    {
      "cell_type": "markdown",
      "source": [
        "Apply the pipeline"
      ],
      "metadata": {
        "id": "IBZVCqBg8zSj"
      }
    },
    {
      "cell_type": "code",
      "source": [
        "X_train_transformed = preprocessor.fit_transform(X_train)\n",
        "X_test_transformed = preprocessor.transform(X_test)"
      ],
      "metadata": {
        "id": "8Zs-iBFX8u5w"
      },
      "execution_count": 15,
      "outputs": []
    },
    {
      "cell_type": "code",
      "source": [
        "print(f\"✅ Training Data Processed: {X_train_transformed.shape} (Rows, Features)\")\n",
        "print(f\"✅ Test Data Processed: {X_test_transformed.shape} (Rows, Features)\")"
      ],
      "metadata": {
        "colab": {
          "base_uri": "https://localhost:8080/"
        },
        "id": "YHMPqcLA9ST1",
        "outputId": "82cccaca-669c-4dfb-97f8-35eea755c3b4"
      },
      "execution_count": 16,
      "outputs": [
        {
          "output_type": "stream",
          "name": "stdout",
          "text": [
            "✅ Training Data Processed: (1358, 28) (Rows, Features)\n",
            "✅ Test Data Processed: (340, 28) (Rows, Features)\n"
          ]
        }
      ]
    },
    {
      "cell_type": "markdown",
      "source": [
        "**Baseline Model**"
      ],
      "metadata": {
        "id": "wGOkqBZLFtLN"
      }
    },
    {
      "cell_type": "code",
      "source": [
        "from sklearn.metrics import mean_absolute_error\n",
        "from sklearn.metrics import mean_squared_error\n",
        "from sklearn.metrics import r2_score"
      ],
      "metadata": {
        "id": "sgncaWp3W7Kh"
      },
      "execution_count": 17,
      "outputs": []
    },
    {
      "cell_type": "code",
      "source": [
        "y_test_copy = np.array(copy.deepcopy(y_test))\n",
        "\n",
        "np.random.shuffle(y_test_copy)\n",
        "\n",
        "random_baseline_mae = mean_absolute_error(y_test, y_test_copy, multioutput=\"raw_values\")\n",
        "random_baseline_mse = mean_squared_error(y_test, y_test_copy, multioutput=\"raw_values\")\n",
        "random_baseline_rmse = np.sqrt(random_baseline_mse)\n",
        "random_baseline_r2 = r2_score(y_test, y_test_copy, multioutput=\"raw_values\")\n",
        "\n",
        "print(f\"Random Baseline MAE per target: {random_baseline_mae}\")\n",
        "print(f\"Average Random Baseline MAE: {random_baseline_mae.mean():.2f}\")\n",
        "\n",
        "print(f\"Random Baseline MSE per target: {random_baseline_mse}\")\n",
        "print(f\"Average Random Baseline MSE: {random_baseline_mse.mean():.2f}\")\n",
        "\n",
        "print(f\"Random Baseline RMSE per target: {random_baseline_rmse}\")\n",
        "print(f\"Average Random Baseline RMSE: {random_baseline_rmse.mean():.2f}\")\n",
        "\n",
        "print(f\"Random Baseline R² per target: {random_baseline_r2}\")\n",
        "print(f\"Average Random Baseline R²: {random_baseline_r2.mean():.2f}\")"
      ],
      "metadata": {
        "colab": {
          "base_uri": "https://localhost:8080/"
        },
        "id": "NSPDEmFe9X5X",
        "outputId": "a0ccc1fe-7306-4932-d0c4-c8871c1379c4"
      },
      "execution_count": 18,
      "outputs": [
        {
          "output_type": "stream",
          "name": "stdout",
          "text": [
            "Random Baseline MAE per target: [631.62352941  58.01176471  82.82941176]\n",
            "Average Random Baseline MAE: 257.49\n",
            "Random Baseline MSE per target: [637653.02941176   5360.05294118  10613.26470588]\n",
            "Average Random Baseline MSE: 217875.45\n",
            "Random Baseline RMSE per target: [798.53179612  73.21238243 103.02070038]\n",
            "Average Random Baseline RMSE: 324.92\n",
            "Random Baseline R² per target: [-0.94462912 -0.94341648 -1.03530243]\n",
            "Average Random Baseline R²: -0.97\n"
          ]
        }
      ]
    },
    {
      "cell_type": "markdown",
      "source": [
        "**Neural Network Model**"
      ],
      "metadata": {
        "id": "oS2QS2_mIovg"
      }
    },
    {
      "cell_type": "code",
      "source": [
        "!pip install scikit-learn==1.3.1"
      ],
      "metadata": {
        "colab": {
          "base_uri": "https://localhost:8080/"
        },
        "id": "auG_U4rz0F8N",
        "outputId": "346e56e0-25f6-46a5-ff6b-6f1716cddafd"
      },
      "execution_count": 19,
      "outputs": [
        {
          "output_type": "stream",
          "name": "stdout",
          "text": [
            "Requirement already satisfied: scikit-learn==1.3.1 in /usr/local/lib/python3.11/dist-packages (1.3.1)\n",
            "Requirement already satisfied: numpy<2.0,>=1.17.3 in /usr/local/lib/python3.11/dist-packages (from scikit-learn==1.3.1) (1.26.4)\n",
            "Requirement already satisfied: scipy>=1.5.0 in /usr/local/lib/python3.11/dist-packages (from scikit-learn==1.3.1) (1.13.1)\n",
            "Requirement already satisfied: joblib>=1.1.1 in /usr/local/lib/python3.11/dist-packages (from scikit-learn==1.3.1) (1.4.2)\n",
            "Requirement already satisfied: threadpoolctl>=2.0.0 in /usr/local/lib/python3.11/dist-packages (from scikit-learn==1.3.1) (3.5.0)\n"
          ]
        }
      ]
    },
    {
      "cell_type": "code",
      "source": [
        "!pip install --upgrade scikit-learn scikeras --quiet"
      ],
      "metadata": {
        "colab": {
          "base_uri": "https://localhost:8080/"
        },
        "id": "FDzqg0_C0Xtp",
        "outputId": "a8627a8b-7842-4ec7-c9f8-8a46b293e575"
      },
      "execution_count": 20,
      "outputs": [
        {
          "output_type": "stream",
          "name": "stdout",
          "text": [
            "\u001b[2K   \u001b[90m━━━━━━━━━━━━━━━━━━━━━━━━━━━━━━━━━━━━━━━━\u001b[0m \u001b[32m13.5/13.5 MB\u001b[0m \u001b[31m52.1 MB/s\u001b[0m eta \u001b[36m0:00:00\u001b[0m\n",
            "\u001b[?25h"
          ]
        }
      ]
    },
    {
      "cell_type": "code",
      "source": [
        "import tensorflow as tf\n",
        "from tensorflow import keras\n",
        "from tensorflow.keras.models import Sequential\n",
        "from tensorflow.keras.optimizers import Adam\n",
        "from tensorflow.keras.regularizers import l2\n",
        "from sklearn.model_selection import KFold, cross_val_score\n",
        "from tensorflow.keras.callbacks import EarlyStopping, ReduceLROnPlateau\n",
        "from scikeras.wrappers import KerasRegressor\n",
        "from tensorflow.keras.optimizers.schedules import ExponentialDecay\n",
        "from tensorflow.keras.layers import Dense, Dropout, BatchNormalization"
      ],
      "metadata": {
        "id": "NDnvwLumCmgl"
      },
      "execution_count": 39,
      "outputs": []
    },
    {
      "cell_type": "code",
      "source": [
        "y_train_np = y_train.to_numpy()"
      ],
      "metadata": {
        "id": "ST7Z4aRM4onY"
      },
      "execution_count": 22,
      "outputs": []
    },
    {
      "cell_type": "code",
      "source": [
        "# הגדרת Learning Rate עם Exponential Decay\n",
        "lr_schedule = ExponentialDecay(\n",
        "    initial_learning_rate=0.01,  # קצב למידה התחלתי\n",
        "    decay_steps=1000,            # כל כמה צעדים להוריד את קצב הלמידה\n",
        "    decay_rate=0.96,             # קצב הפחתה (96% מכל שלב קודם)\n",
        "    staircase=True               # מפחית בקפיצות ולא באופן רציף\n",
        ")"
      ],
      "metadata": {
        "id": "Otvhm2GK6TDX"
      },
      "execution_count": 94,
      "outputs": []
    },
    {
      "cell_type": "code",
      "source": [
        "def build_model():\n",
        "    model = Sequential([\n",
        "        Dense(64, activation='relu', kernel_regularizer=l2(0.01), input_shape=(X_train_transformed.shape[1],)),\n",
        "        BatchNormalization(),  # עוזר לייצב את האימון ולהאיץ למידה\n",
        "        Dropout(0.2),  # משמיט 30% מהנוירונים כדי למנוע Overfitting\n",
        "\n",
        "        Dense(32, activation='relu', kernel_regularizer=l2(0.01)),\n",
        "        BatchNormalization(),\n",
        "        Dropout(0.2),\n",
        "\n",
        "        Dense(y_train.shape[1], activation='linear')  # שכבת פלט - ערכים רציפים\n",
        "    ])\n",
        "\n",
        "    optimizer = Adam(learning_rate=lr_schedule)  # שימוש ב-Decay בתוך ה-Adam Optimizer\n",
        "    model.compile(optimizer=optimizer, loss='mse', metrics=['mae'])\n",
        "    return model"
      ],
      "metadata": {
        "id": "gYnX5JVGmEjN"
      },
      "execution_count": 95,
      "outputs": []
    },
    {
      "cell_type": "code",
      "source": [
        "# הגדרת K-Fold\n",
        "kfold = KFold(n_splits=4, shuffle=True, random_state=42)\n",
        "\n",
        "# רשימה לאחסון MAE לכל עמודה\n",
        "mae_per_column = []\n",
        "\n",
        "early_stopping = EarlyStopping(\n",
        "    monitor='val_loss',  # עקוב אחרי השגיאה של קבוצת הולידציה\n",
        "    patience=7,          # עצור אם אין שיפור במשך 5 epochs רצופים\n",
        "    restore_best_weights=True  # החזר את המשקלים הכי טובים אחרי העצירה\n",
        ")\n",
        "#reduce_lr = ReduceLROnPlateau(monitor='val_loss', factor=0.5, patience=3, min_lr=1e-5)\n",
        "\n",
        "# ביצוע K-Fold Cross Validation\n",
        "for train_idx, val_idx in kfold.split(X_train_transformed):\n",
        "    X_train_fold, X_val_fold = X_train_transformed[train_idx], X_train_transformed[val_idx]\n",
        "    y_train_fold, y_val_fold = y_train_np[train_idx], y_train_np[val_idx]  # שימוש במערך NumPy\n",
        "\n",
        "    # יצירת מודל חדש לכל קיפול\n",
        "    model = build_model()\n",
        "\n",
        "    # אימון המודל עם EarlyStopping\n",
        "    history = model.fit(X_train_fold, y_train_fold, epochs=50, batch_size=16, verbose=1,\n",
        "                        validation_data=(X_val_fold, y_val_fold), callbacks=[early_stopping])\n",
        "\n",
        "    # חיזוי על קבוצת הולידציה\n",
        "    y_val_pred = model.predict(X_val_fold)\n",
        "\n",
        "    # חישוב MAE לכל עמודה בנפרד\n",
        "    fold_mae_per_column = mean_absolute_error(y_val_fold, y_val_pred, multioutput=\"raw_values\")\n",
        "\n",
        "    # שמירת השגיאות של כל קיפול\n",
        "    mae_per_column.append(fold_mae_per_column)\n",
        "\n",
        "    print(f\"MAE לכל עמודה בקיפול נוכחי: {fold_mae_per_column}\")\n",
        "\n",
        "# המרת הרשימה למערך numpy\n",
        "mae_per_column = np.array(mae_per_column)\n",
        "\n",
        "# ממוצע MAE לכל עמודה\n",
        "mean_mae_per_column = mae_per_column.mean(axis=0)\n",
        "\n",
        "# הדפסת התוצאות הסופיות\n",
        "print(\"\\nMAE ממוצע לכל עמודה:\")\n",
        "for i, col_name in enumerate([\"קלוריות\", \"פחמימות\", \"חלבון\"]):  # עדכן לפי סדר הנתונים שלך\n",
        "    print(f\"{col_name}: {mean_mae_per_column[i]:.2f}\")"
      ],
      "metadata": {
        "colab": {
          "base_uri": "https://localhost:8080/"
        },
        "id": "toCYnSH3mLjH",
        "outputId": "3b98f2c5-cbf4-4e04-8727-6b7b57a12338"
      },
      "execution_count": null,
      "outputs": [
        {
          "output_type": "stream",
          "name": "stdout",
          "text": [
            "Epoch 1/50\n"
          ]
        },
        {
          "output_type": "stream",
          "name": "stderr",
          "text": [
            "/usr/local/lib/python3.11/dist-packages/keras/src/layers/core/dense.py:87: UserWarning: Do not pass an `input_shape`/`input_dim` argument to a layer. When using Sequential models, prefer using an `Input(shape)` object as the first layer in the model instead.\n",
            "  super().__init__(activity_regularizer=activity_regularizer, **kwargs)\n"
          ]
        },
        {
          "output_type": "stream",
          "name": "stdout",
          "text": [
            "\u001b[1m64/64\u001b[0m \u001b[32m━━━━━━━━━━━━━━━━━━━━\u001b[0m\u001b[37m\u001b[0m \u001b[1m3s\u001b[0m 12ms/step - loss: 1811701.7500 - mae: 875.5502 - val_loss: 1884967.7500 - val_mae: 896.2278\n",
            "Epoch 2/50\n",
            "\u001b[1m51/64\u001b[0m \u001b[32m━━━━━━━━━━━━━━━\u001b[0m\u001b[37m━━━━━\u001b[0m \u001b[1m0s\u001b[0m 3ms/step - loss: 1793226.2500 - mae: 861.4978"
          ]
        }
      ]
    },
    {
      "cell_type": "markdown",
      "source": [
        "Plot Training vs. Validation Loss"
      ],
      "metadata": {
        "id": "HnYPIe1ULnnt"
      }
    },
    {
      "cell_type": "code",
      "source": [
        "import matplotlib.pyplot as plt\n",
        "\n",
        "plt.figure(figsize=(12, 5))\n",
        "\n",
        "# Loss גרף\n",
        "plt.subplot(1, 2, 1)\n",
        "plt.plot(history.history['loss'], label='Training Loss')\n",
        "plt.plot(history.history['val_loss'], label='Validation Loss')\n",
        "plt.xlabel('Epochs')\n",
        "plt.ylabel('Loss (MSE)')\n",
        "plt.title('Training vs Validation Loss')\n",
        "plt.legend()"
      ],
      "metadata": {
        "colab": {
          "base_uri": "https://localhost:8080/",
          "height": 504
        },
        "id": "kcfPYbYmgEv0",
        "outputId": "5b1999eb-eaa7-4091-a881-435794b442de"
      },
      "execution_count": 91,
      "outputs": [
        {
          "output_type": "execute_result",
          "data": {
            "text/plain": [
              "<matplotlib.legend.Legend at 0x7dfe1ed7b990>"
            ]
          },
          "metadata": {},
          "execution_count": 91
        },
        {
          "output_type": "display_data",
          "data": {
            "text/plain": [
              "<Figure size 1200x500 with 1 Axes>"
            ],
            "image/png": "[encoded data removed]"
          },
          "metadata": {}
        }
      ]
    },
    {
      "cell_type": "markdown",
      "source": [
        "Define and train the Neural Network"
      ],
      "metadata": {
        "id": "bg-UQ71INoNw"
      }
    },
    {
      "cell_type": "code",
      "source": [
        "y_test_pred = model.predict(X_test_transformed)\n",
        "\n",
        "# חישוב מדדים\n",
        "test_mae = mean_absolute_error(y_test, y_test_pred, multioutput=\"raw_values\")\n",
        "test_mse = mean_squared_error(y_test, y_test_pred, multioutput=\"raw_values\")\n",
        "test_rmse = np.sqrt(test_mse)\n",
        "test_r2 = r2_score(y_test, y_test_pred, multioutput=\"raw_values\")\n",
        "\n",
        "\n",
        "# הדפסת תוצאות השוואה\n",
        "print(\"\\n🔹 **השוואת ביצועי המודל מול הבייסליין** 🔹\")\n",
        "\n",
        "print(\"\\n📊 **MAE** (שגיאה מוחלטת ממוצעת):\")\n",
        "print(f\"Random Baseline: {np.round([631.62, 58.01, 82.83], 2)}\")\n",
        "print(f\"Model Performance: {np.round(test_mae, 2)}\")\n",
        "\n",
        "print(\"\\n📊 **MSE** (שגיאת ריבוע ממוצעת):\")\n",
        "print(f\"Random Baseline: {np.round([637653.03, 5360.05, 10613.26], 2)}\")\n",
        "print(f\"Model Performance: {np.round(test_mse, 2)}\")\n",
        "\n",
        "print(\"\\n📊 **RMSE** (שורש שגיאת ריבוע ממוצעת):\")\n",
        "print(f\"Random Baseline: {np.round([798.53, 73.21, 103.02], 2)}\")\n",
        "print(f\"Model Performance: {np.round(test_rmse, 2)}\")\n",
        "\n",
        "print(\"\\n📊 **R²** (אחוז השונות שהמודל מסביר):\")\n",
        "print(f\"Random Baseline: {np.round([-0.94, -0.94, -1.03], 2)}\")\n",
        "print(f\"Model Performance: {np.round(test_r2, 2)}\")\n",
        "\n",
        "# השוואת ממוצעים\n",
        "print(\"\\n📊 **השוואת ממוצע המדדים בין המודל לבייסליין:**\")\n",
        "print(f\"Average Random Baseline MAE: {np.round(257.49, 2)}, Model MAE: {np.round(test_mae.mean(), 2)}\")\n",
        "print(f\"Average Random Baseline MSE: {np.round(217875.45, 2)}, Model MSE: {np.round(test_mse.mean(), 2)}\")\n",
        "print(f\"Average Random Baseline RMSE: {np.round(324.92, 2)}, Model RMSE: {np.round(test_rmse.mean(), 2)}\")\n",
        "print(f\"Average Random Baseline R²: {np.round(-0.97, 2)}, Model R²: {np.round(test_r2.mean(), 2)}\")"
      ],
      "metadata": {
        "id": "X2ZuQhnQLi_2",
        "colab": {
          "base_uri": "https://localhost:8080/"
        },
        "outputId": "e739bb6b-c0b3-4275-8677-c21a9dd42a71"
      },
      "execution_count": 93,
      "outputs": [
        {
          "output_type": "stream",
          "name": "stdout",
          "text": [
            "\u001b[1m11/11\u001b[0m \u001b[32m━━━━━━━━━━━━━━━━━━━━\u001b[0m\u001b[37m\u001b[0m \u001b[1m1s\u001b[0m 33ms/step\n",
            "\n",
            "🔹 **השוואת ביצועי המודל מול הבייסליין** 🔹\n",
            "\n",
            "📊 **MAE** (שגיאה מוחלטת ממוצעת):\n",
            "Random Baseline: [631.62  58.01  82.83]\n",
            "Model Performance: [241.06  27.11  39.11]\n",
            "\n",
            "📊 **MSE** (שגיאת ריבוע ממוצעת):\n",
            "Random Baseline: [637653.03   5360.05  10613.26]\n",
            "Model Performance: [117190.77   1053.75   2953.12]\n",
            "\n",
            "📊 **RMSE** (שורש שגיאת ריבוע ממוצעת):\n",
            "Random Baseline: [798.53  73.21 103.02]\n",
            "Model Performance: [342.33  32.46  54.34]\n",
            "\n",
            "📊 **R²** (אחוז השונות שהמודל מסביר):\n",
            "Random Baseline: [-0.94 -0.94 -1.03]\n",
            "Model Performance: [0.64 0.62 0.43]\n",
            "\n",
            "📊 **השוואת ממוצע המדדים בין המודל לבייסליין:**\n",
            "Average Random Baseline MAE: 257.49, Model MAE: 102.43\n",
            "Average Random Baseline MSE: 217875.45, Model MSE: 40399.21\n",
            "Average Random Baseline RMSE: 324.92, Model RMSE: 143.05\n",
            "Average Random Baseline R²: -0.97, Model R²: 0.56\n"
          ]
        }
      ]
    }
  ]
}