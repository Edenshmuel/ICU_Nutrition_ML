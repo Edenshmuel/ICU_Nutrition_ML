{
  "nbformat": 4,
  "nbformat_minor": 0,
  "metadata": {
    "colab": {
      "provenance": [],
      "authorship_tag": "ABX9TyPOEQGcGOMn+srp+frQKo1H",
      "include_colab_link": true
    },
    "kernelspec": {
      "name": "python3",
      "display_name": "Python 3"
    },
    "language_info": {
      "name": "python"
    }
  },
  "cells": [
    {
      "cell_type": "markdown",
      "metadata": {
        "id": "view-in-github",
        "colab_type": "text"
      },
      "source": [
        "<a href=\"https://colab.research.google.com/github/Edenshmuel/ICU_Nutrition_ML/blob/main/Neural_Network_Model.ipynb\" target=\"_parent\"><img src=\"https://colab.research.google.com/assets/colab-badge.svg\" alt=\"Open In Colab\"/></a>"
      ]
    },
    {
      "cell_type": "markdown",
      "source": [
        "**Loading Preprocessing Pipeline from GitHub**"
      ],
      "metadata": {
        "id": "8RhxfRT5UgLW"
      }
    },
    {
      "cell_type": "code",
      "source": [
        "import requests\n",
        "import nbformat\n",
        "from nbconvert import PythonExporter\n",
        "\n",
        "url = \"https://raw.githubusercontent.com/Edenshmuel/ICU_Nutrition_ML/refs/heads/main/Pipeline.ipynb\"\n",
        "\n",
        "response = requests.get(url)\n",
        "\n",
        "if response.status_code == 200:\n",
        "    notebook_content = response.text\n",
        "    notebook = nbformat.reads(notebook_content, as_version=4)\n",
        "    python_exporter = PythonExporter()\n",
        "    source, _ = python_exporter.from_notebook_node(notebook)\n",
        "    exec(source)\n",
        "\n",
        "    print(\"Pipeline loaded successfully from GitHub!\")\n",
        "else:\n",
        "    print(f\"Failed to fetch notebook: {response.status_code}\")"
      ],
      "metadata": {
        "colab": {
          "base_uri": "https://localhost:8080/"
        },
        "id": "kka4ddEzRxLZ",
        "outputId": "f4f2d23f-b713-41a6-d702-83ed74cb0654"
      },
      "execution_count": 1,
      "outputs": [
        {
          "output_type": "stream",
          "name": "stdout",
          "text": [
            "Pipeline loaded successfully from GitHub!\n"
          ]
        }
      ]
    },
    {
      "cell_type": "markdown",
      "source": [
        "**Importing the Data**"
      ],
      "metadata": {
        "id": "bRzcP5CnmWbU"
      }
    },
    {
      "cell_type": "markdown",
      "source": [
        "Importing Necessary Libraries"
      ],
      "metadata": {
        "id": "yNyvA-Jzl5Tk"
      }
    },
    {
      "cell_type": "code",
      "execution_count": 2,
      "metadata": {
        "id": "4thHdg2IztdQ"
      },
      "outputs": [],
      "source": [
        "import copy\n",
        "import numpy as np\n",
        "import pandas as pd\n",
        "from sklearn.impute import SimpleImputer\n",
        "from sklearn.metrics import mean_absolute_error\n",
        "from sklearn.model_selection import train_test_split"
      ]
    },
    {
      "cell_type": "markdown",
      "source": [
        "Cloning the Project Repository"
      ],
      "metadata": {
        "id": "LtvbgvpZl_MR"
      }
    },
    {
      "cell_type": "code",
      "source": [
        "!git clone https://github.com/Edenshmuel/ICU_Nutrition_ML.git"
      ],
      "metadata": {
        "colab": {
          "base_uri": "https://localhost:8080/"
        },
        "id": "-i810gpGzz2r",
        "outputId": "ca75cb10-b413-4d77-c5b0-85dce9c225d8"
      },
      "execution_count": 3,
      "outputs": [
        {
          "output_type": "stream",
          "name": "stdout",
          "text": [
            "Cloning into 'ICU_Nutrition_ML'...\n",
            "remote: Enumerating objects: 142, done.\u001b[K\n",
            "remote: Counting objects: 100% (66/66), done.\u001b[K\n",
            "remote: Compressing objects: 100% (25/25), done.\u001b[K\n",
            "remote: Total 142 (delta 54), reused 41 (delta 41), pack-reused 76 (from 1)\u001b[K\n",
            "Receiving objects: 100% (142/142), 1.51 MiB | 11.48 MiB/s, done.\n",
            "Resolving deltas: 100% (84/84), done.\n"
          ]
        }
      ]
    },
    {
      "cell_type": "markdown",
      "source": [
        "Loading the Dataset"
      ],
      "metadata": {
        "id": "gHccSnnXmFvf"
      }
    },
    {
      "cell_type": "code",
      "source": [
        "df = pd.read_csv(\"https://raw.githubusercontent.com/Edenshmuel/ICU_Nutrition_ML/refs/heads/main/Food_and_Nutrition__.csv\")\n",
        "df.head()"
      ],
      "metadata": {
        "colab": {
          "base_uri": "https://localhost:8080/",
          "height": 573
        },
        "id": "IiK4Bf1oz4GD",
        "outputId": "81206ae7-7de9-46f1-bd78-68220df973f4"
      },
      "execution_count": 4,
      "outputs": [
        {
          "output_type": "execute_result",
          "data": {
            "text/plain": [
              "   Ages  Gender  Height  Weight     Activity Level Dietary Preference  \\\n",
              "0    25    Male     180      80  Moderately Active           Omnivore   \n",
              "1    32  Female     165      65     Lightly Active         Vegetarian   \n",
              "2    48    Male     175      95          Sedentary              Vegan   \n",
              "3    55  Female     160      70        Very Active           Omnivore   \n",
              "4    62    Male     170      85          Sedentary         Vegetarian   \n",
              "\n",
              "   Daily Calorie Target  Protein  Sugar  Sodium  Calories  Carbohydrates  \\\n",
              "0                  2000      120  125.0    24.0      2020            250   \n",
              "1                  1600       80  100.0    16.0      1480            200   \n",
              "2                  2200      100  150.0    20.0      2185            300   \n",
              "3                  2500      140  175.0    28.0      2680            350   \n",
              "4                  2000       80  125.0    16.0      1815            250   \n",
              "\n",
              "   Fiber  Fat                               Breakfast Suggestion  \\\n",
              "0   30.0   60                      Oatmeal with berries and nuts   \n",
              "1   24.0   40                         Tofu scramble with veggies   \n",
              "2   36.0   65                  Tofu and veggie breakfast burrito   \n",
              "3   42.0   80                Greek yogurt with granola and fruit   \n",
              "4   30.0   55  Scrambled eggs with whole wheat toast and avocado   \n",
              "\n",
              "                             Lunch Suggestion  \\\n",
              "0     Grilled chicken salad with mixed greens   \n",
              "1          Lentil soup with whole wheat bread   \n",
              "2      Black bean burger on a whole wheat bun   \n",
              "3              Chicken and vegetable stir-fry   \n",
              "4  Quinoa salad with chickpeas and vegetables   \n",
              "\n",
              "                    Dinner Suggestion           Snack Suggestion  \\\n",
              "0      Salmon with roasted vegetables    Greek yogurt with fruit   \n",
              "1  Vegetable stir-fry with brown rice   Apple with almond butter   \n",
              "2          Lentil and vegetable curry                  Trail mix   \n",
              "3        Turkey chili with brown rice  Banana with peanut butter   \n",
              "4     Vegetarian chili with cornbread          Fruit and nut mix   \n",
              "\n",
              "                                    Disease  \n",
              "0                               Weight Gain  \n",
              "1  Weight Gain, Hypertension, Heart Disease  \n",
              "2                               Weight Gain  \n",
              "3                               Weight Gain  \n",
              "4                               Weight Gain  "
            ],
            "text/html": [
              "\n",
              "  <div id=\"df-b8e6d2b0-f987-4f72-a109-cb988047a6a2\" class=\"colab-df-container\">\n",
              "    <div>\n",
              "<style scoped>\n",
              "    .dataframe tbody tr th:only-of-type {\n",
              "        vertical-align: middle;\n",
              "    }\n",
              "\n",
              "    .dataframe tbody tr th {\n",
              "        vertical-align: top;\n",
              "    }\n",
              "\n",
              "    .dataframe thead th {\n",
              "        text-align: right;\n",
              "    }\n",
              "</style>\n",
              "<table border=\"1\" class=\"dataframe\">\n",
              "  <thead>\n",
              "    <tr style=\"text-align: right;\">\n",
              "      <th></th>\n",
              "      <th>Ages</th>\n",
              "      <th>Gender</th>\n",
              "      <th>Height</th>\n",
              "      <th>Weight</th>\n",
              "      <th>Activity Level</th>\n",
              "      <th>Dietary Preference</th>\n",
              "      <th>Daily Calorie Target</th>\n",
              "      <th>Protein</th>\n",
              "      <th>Sugar</th>\n",
              "      <th>Sodium</th>\n",
              "      <th>Calories</th>\n",
              "      <th>Carbohydrates</th>\n",
              "      <th>Fiber</th>\n",
              "      <th>Fat</th>\n",
              "      <th>Breakfast Suggestion</th>\n",
              "      <th>Lunch Suggestion</th>\n",
              "      <th>Dinner Suggestion</th>\n",
              "      <th>Snack Suggestion</th>\n",
              "      <th>Disease</th>\n",
              "    </tr>\n",
              "  </thead>\n",
              "  <tbody>\n",
              "    <tr>\n",
              "      <th>0</th>\n",
              "      <td>25</td>\n",
              "      <td>Male</td>\n",
              "      <td>180</td>\n",
              "      <td>80</td>\n",
              "      <td>Moderately Active</td>\n",
              "      <td>Omnivore</td>\n",
              "      <td>2000</td>\n",
              "      <td>120</td>\n",
              "      <td>125.0</td>\n",
              "      <td>24.0</td>\n",
              "      <td>2020</td>\n",
              "      <td>250</td>\n",
              "      <td>30.0</td>\n",
              "      <td>60</td>\n",
              "      <td>Oatmeal with berries and nuts</td>\n",
              "      <td>Grilled chicken salad with mixed greens</td>\n",
              "      <td>Salmon with roasted vegetables</td>\n",
              "      <td>Greek yogurt with fruit</td>\n",
              "      <td>Weight Gain</td>\n",
              "    </tr>\n",
              "    <tr>\n",
              "      <th>1</th>\n",
              "      <td>32</td>\n",
              "      <td>Female</td>\n",
              "      <td>165</td>\n",
              "      <td>65</td>\n",
              "      <td>Lightly Active</td>\n",
              "      <td>Vegetarian</td>\n",
              "      <td>1600</td>\n",
              "      <td>80</td>\n",
              "      <td>100.0</td>\n",
              "      <td>16.0</td>\n",
              "      <td>1480</td>\n",
              "      <td>200</td>\n",
              "      <td>24.0</td>\n",
              "      <td>40</td>\n",
              "      <td>Tofu scramble with veggies</td>\n",
              "      <td>Lentil soup with whole wheat bread</td>\n",
              "      <td>Vegetable stir-fry with brown rice</td>\n",
              "      <td>Apple with almond butter</td>\n",
              "      <td>Weight Gain, Hypertension, Heart Disease</td>\n",
              "    </tr>\n",
              "    <tr>\n",
              "      <th>2</th>\n",
              "      <td>48</td>\n",
              "      <td>Male</td>\n",
              "      <td>175</td>\n",
              "      <td>95</td>\n",
              "      <td>Sedentary</td>\n",
              "      <td>Vegan</td>\n",
              "      <td>2200</td>\n",
              "      <td>100</td>\n",
              "      <td>150.0</td>\n",
              "      <td>20.0</td>\n",
              "      <td>2185</td>\n",
              "      <td>300</td>\n",
              "      <td>36.0</td>\n",
              "      <td>65</td>\n",
              "      <td>Tofu and veggie breakfast burrito</td>\n",
              "      <td>Black bean burger on a whole wheat bun</td>\n",
              "      <td>Lentil and vegetable curry</td>\n",
              "      <td>Trail mix</td>\n",
              "      <td>Weight Gain</td>\n",
              "    </tr>\n",
              "    <tr>\n",
              "      <th>3</th>\n",
              "      <td>55</td>\n",
              "      <td>Female</td>\n",
              "      <td>160</td>\n",
              "      <td>70</td>\n",
              "      <td>Very Active</td>\n",
              "      <td>Omnivore</td>\n",
              "      <td>2500</td>\n",
              "      <td>140</td>\n",
              "      <td>175.0</td>\n",
              "      <td>28.0</td>\n",
              "      <td>2680</td>\n",
              "      <td>350</td>\n",
              "      <td>42.0</td>\n",
              "      <td>80</td>\n",
              "      <td>Greek yogurt with granola and fruit</td>\n",
              "      <td>Chicken and vegetable stir-fry</td>\n",
              "      <td>Turkey chili with brown rice</td>\n",
              "      <td>Banana with peanut butter</td>\n",
              "      <td>Weight Gain</td>\n",
              "    </tr>\n",
              "    <tr>\n",
              "      <th>4</th>\n",
              "      <td>62</td>\n",
              "      <td>Male</td>\n",
              "      <td>170</td>\n",
              "      <td>85</td>\n",
              "      <td>Sedentary</td>\n",
              "      <td>Vegetarian</td>\n",
              "      <td>2000</td>\n",
              "      <td>80</td>\n",
              "      <td>125.0</td>\n",
              "      <td>16.0</td>\n",
              "      <td>1815</td>\n",
              "      <td>250</td>\n",
              "      <td>30.0</td>\n",
              "      <td>55</td>\n",
              "      <td>Scrambled eggs with whole wheat toast and avocado</td>\n",
              "      <td>Quinoa salad with chickpeas and vegetables</td>\n",
              "      <td>Vegetarian chili with cornbread</td>\n",
              "      <td>Fruit and nut mix</td>\n",
              "      <td>Weight Gain</td>\n",
              "    </tr>\n",
              "  </tbody>\n",
              "</table>\n",
              "</div>\n",
              "    <div class=\"colab-df-buttons\">\n",
              "\n",
              "  <div class=\"colab-df-container\">\n",
              "    <button class=\"colab-df-convert\" onclick=\"convertToInteractive('df-b8e6d2b0-f987-4f72-a109-cb988047a6a2')\"\n",
              "            title=\"Convert this dataframe to an interactive table.\"\n",
              "            style=\"display:none;\">\n",
              "\n",
              "  <svg xmlns=\"http://www.w3.org/2000/svg\" height=\"24px\" viewBox=\"0 -960 960 960\">\n",
              "    <path d=\"M120-120v-720h720v720H120Zm60-500h600v-160H180v160Zm220 220h160v-160H400v160Zm0 220h160v-160H400v160ZM180-400h160v-160H180v160Zm440 0h160v-160H620v160ZM180-180h160v-160H180v160Zm440 0h160v-160H620v160Z\"/>\n",
              "  </svg>\n",
              "    </button>\n",
              "\n",
              "  <style>\n",
              "    .colab-df-container {\n",
              "      display:flex;\n",
              "      gap: 12px;\n",
              "    }\n",
              "\n",
              "    .colab-df-convert {\n",
              "      background-color: #E8F0FE;\n",
              "      border: none;\n",
              "      border-radius: 50%;\n",
              "      cursor: pointer;\n",
              "      display: none;\n",
              "      fill: #1967D2;\n",
              "      height: 32px;\n",
              "      padding: 0 0 0 0;\n",
              "      width: 32px;\n",
              "    }\n",
              "\n",
              "    .colab-df-convert:hover {\n",
              "      background-color: #E2EBFA;\n",
              "      box-shadow: 0px 1px 2px rgba(60, 64, 67, 0.3), 0px 1px 3px 1px rgba(60, 64, 67, 0.15);\n",
              "      fill: #174EA6;\n",
              "    }\n",
              "\n",
              "    .colab-df-buttons div {\n",
              "      margin-bottom: 4px;\n",
              "    }\n",
              "\n",
              "    [theme=dark] .colab-df-convert {\n",
              "      background-color: #3B4455;\n",
              "      fill: #D2E3FC;\n",
              "    }\n",
              "\n",
              "    [theme=dark] .colab-df-convert:hover {\n",
              "      background-color: #434B5C;\n",
              "      box-shadow: 0px 1px 3px 1px rgba(0, 0, 0, 0.15);\n",
              "      filter: drop-shadow(0px 1px 2px rgba(0, 0, 0, 0.3));\n",
              "      fill: #FFFFFF;\n",
              "    }\n",
              "  </style>\n",
              "\n",
              "    <script>\n",
              "      const buttonEl =\n",
              "        document.querySelector('#df-b8e6d2b0-f987-4f72-a109-cb988047a6a2 button.colab-df-convert');\n",
              "      buttonEl.style.display =\n",
              "        google.colab.kernel.accessAllowed ? 'block' : 'none';\n",
              "\n",
              "      async function convertToInteractive(key) {\n",
              "        const element = document.querySelector('#df-b8e6d2b0-f987-4f72-a109-cb988047a6a2');\n",
              "        const dataTable =\n",
              "          await google.colab.kernel.invokeFunction('convertToInteractive',\n",
              "                                                    [key], {});\n",
              "        if (!dataTable) return;\n",
              "\n",
              "        const docLinkHtml = 'Like what you see? Visit the ' +\n",
              "          '<a target=\"_blank\" href=https://colab.research.google.com/notebooks/data_table.ipynb>data table notebook</a>'\n",
              "          + ' to learn more about interactive tables.';\n",
              "        element.innerHTML = '';\n",
              "        dataTable['output_type'] = 'display_data';\n",
              "        await google.colab.output.renderOutput(dataTable, element);\n",
              "        const docLink = document.createElement('div');\n",
              "        docLink.innerHTML = docLinkHtml;\n",
              "        element.appendChild(docLink);\n",
              "      }\n",
              "    </script>\n",
              "  </div>\n",
              "\n",
              "\n",
              "<div id=\"df-698fa34a-fe7b-4035-beb5-d92f3911aaea\">\n",
              "  <button class=\"colab-df-quickchart\" onclick=\"quickchart('df-698fa34a-fe7b-4035-beb5-d92f3911aaea')\"\n",
              "            title=\"Suggest charts\"\n",
              "            style=\"display:none;\">\n",
              "\n",
              "<svg xmlns=\"http://www.w3.org/2000/svg\" height=\"24px\"viewBox=\"0 0 24 24\"\n",
              "     width=\"24px\">\n",
              "    <g>\n",
              "        <path d=\"M19 3H5c-1.1 0-2 .9-2 2v14c0 1.1.9 2 2 2h14c1.1 0 2-.9 2-2V5c0-1.1-.9-2-2-2zM9 17H7v-7h2v7zm4 0h-2V7h2v10zm4 0h-2v-4h2v4z\"/>\n",
              "    </g>\n",
              "</svg>\n",
              "  </button>\n",
              "\n",
              "<style>\n",
              "  .colab-df-quickchart {\n",
              "      --bg-color: #E8F0FE;\n",
              "      --fill-color: #1967D2;\n",
              "      --hover-bg-color: #E2EBFA;\n",
              "      --hover-fill-color: #174EA6;\n",
              "      --disabled-fill-color: #AAA;\n",
              "      --disabled-bg-color: #DDD;\n",
              "  }\n",
              "\n",
              "  [theme=dark] .colab-df-quickchart {\n",
              "      --bg-color: #3B4455;\n",
              "      --fill-color: #D2E3FC;\n",
              "      --hover-bg-color: #434B5C;\n",
              "      --hover-fill-color: #FFFFFF;\n",
              "      --disabled-bg-color: #3B4455;\n",
              "      --disabled-fill-color: #666;\n",
              "  }\n",
              "\n",
              "  .colab-df-quickchart {\n",
              "    background-color: var(--bg-color);\n",
              "    border: none;\n",
              "    border-radius: 50%;\n",
              "    cursor: pointer;\n",
              "    display: none;\n",
              "    fill: var(--fill-color);\n",
              "    height: 32px;\n",
              "    padding: 0;\n",
              "    width: 32px;\n",
              "  }\n",
              "\n",
              "  .colab-df-quickchart:hover {\n",
              "    background-color: var(--hover-bg-color);\n",
              "    box-shadow: 0 1px 2px rgba(60, 64, 67, 0.3), 0 1px 3px 1px rgba(60, 64, 67, 0.15);\n",
              "    fill: var(--button-hover-fill-color);\n",
              "  }\n",
              "\n",
              "  .colab-df-quickchart-complete:disabled,\n",
              "  .colab-df-quickchart-complete:disabled:hover {\n",
              "    background-color: var(--disabled-bg-color);\n",
              "    fill: var(--disabled-fill-color);\n",
              "    box-shadow: none;\n",
              "  }\n",
              "\n",
              "  .colab-df-spinner {\n",
              "    border: 2px solid var(--fill-color);\n",
              "    border-color: transparent;\n",
              "    border-bottom-color: var(--fill-color);\n",
              "    animation:\n",
              "      spin 1s steps(1) infinite;\n",
              "  }\n",
              "\n",
              "  @keyframes spin {\n",
              "    0% {\n",
              "      border-color: transparent;\n",
              "      border-bottom-color: var(--fill-color);\n",
              "      border-left-color: var(--fill-color);\n",
              "    }\n",
              "    20% {\n",
              "      border-color: transparent;\n",
              "      border-left-color: var(--fill-color);\n",
              "      border-top-color: var(--fill-color);\n",
              "    }\n",
              "    30% {\n",
              "      border-color: transparent;\n",
              "      border-left-color: var(--fill-color);\n",
              "      border-top-color: var(--fill-color);\n",
              "      border-right-color: var(--fill-color);\n",
              "    }\n",
              "    40% {\n",
              "      border-color: transparent;\n",
              "      border-right-color: var(--fill-color);\n",
              "      border-top-color: var(--fill-color);\n",
              "    }\n",
              "    60% {\n",
              "      border-color: transparent;\n",
              "      border-right-color: var(--fill-color);\n",
              "    }\n",
              "    80% {\n",
              "      border-color: transparent;\n",
              "      border-right-color: var(--fill-color);\n",
              "      border-bottom-color: var(--fill-color);\n",
              "    }\n",
              "    90% {\n",
              "      border-color: transparent;\n",
              "      border-bottom-color: var(--fill-color);\n",
              "    }\n",
              "  }\n",
              "</style>\n",
              "\n",
              "  <script>\n",
              "    async function quickchart(key) {\n",
              "      const quickchartButtonEl =\n",
              "        document.querySelector('#' + key + ' button');\n",
              "      quickchartButtonEl.disabled = true;  // To prevent multiple clicks.\n",
              "      quickchartButtonEl.classList.add('colab-df-spinner');\n",
              "      try {\n",
              "        const charts = await google.colab.kernel.invokeFunction(\n",
              "            'suggestCharts', [key], {});\n",
              "      } catch (error) {\n",
              "        console.error('Error during call to suggestCharts:', error);\n",
              "      }\n",
              "      quickchartButtonEl.classList.remove('colab-df-spinner');\n",
              "      quickchartButtonEl.classList.add('colab-df-quickchart-complete');\n",
              "    }\n",
              "    (() => {\n",
              "      let quickchartButtonEl =\n",
              "        document.querySelector('#df-698fa34a-fe7b-4035-beb5-d92f3911aaea button');\n",
              "      quickchartButtonEl.style.display =\n",
              "        google.colab.kernel.accessAllowed ? 'block' : 'none';\n",
              "    })();\n",
              "  </script>\n",
              "</div>\n",
              "\n",
              "    </div>\n",
              "  </div>\n"
            ],
            "application/vnd.google.colaboratory.intrinsic+json": {
              "type": "dataframe",
              "variable_name": "df",
              "summary": "{\n  \"name\": \"df\",\n  \"rows\": 1698,\n  \"fields\": [\n    {\n      \"column\": \"Ages\",\n      \"properties\": {\n        \"dtype\": \"number\",\n        \"std\": 15,\n        \"min\": 18,\n        \"max\": 79,\n        \"num_unique_values\": 62,\n        \"samples\": [\n          26,\n          43,\n          25\n        ],\n        \"semantic_type\": \"\",\n        \"description\": \"\"\n      }\n    },\n    {\n      \"column\": \"Gender\",\n      \"properties\": {\n        \"dtype\": \"category\",\n        \"num_unique_values\": 2,\n        \"samples\": [\n          \"Female\",\n          \"Male\"\n        ],\n        \"semantic_type\": \"\",\n        \"description\": \"\"\n      }\n    },\n    {\n      \"column\": \"Height\",\n      \"properties\": {\n        \"dtype\": \"number\",\n        \"std\": 13,\n        \"min\": 150,\n        \"max\": 200,\n        \"num_unique_values\": 51,\n        \"samples\": [\n          159,\n          189\n        ],\n        \"semantic_type\": \"\",\n        \"description\": \"\"\n      }\n    },\n    {\n      \"column\": \"Weight\",\n      \"properties\": {\n        \"dtype\": \"number\",\n        \"std\": 16,\n        \"min\": 48,\n        \"max\": 119,\n        \"num_unique_values\": 71,\n        \"samples\": [\n          115,\n          80\n        ],\n        \"semantic_type\": \"\",\n        \"description\": \"\"\n      }\n    },\n    {\n      \"column\": \"Activity Level\",\n      \"properties\": {\n        \"dtype\": \"category\",\n        \"num_unique_values\": 5,\n        \"samples\": [\n          \"Lightly Active\",\n          \"Extremely Active\"\n        ],\n        \"semantic_type\": \"\",\n        \"description\": \"\"\n      }\n    },\n    {\n      \"column\": \"Dietary Preference\",\n      \"properties\": {\n        \"dtype\": \"category\",\n        \"num_unique_values\": 4,\n        \"samples\": [\n          \"Vegetarian\",\n          \"Pescatarian\"\n        ],\n        \"semantic_type\": \"\",\n        \"description\": \"\"\n      }\n    },\n    {\n      \"column\": \"Daily Calorie Target\",\n      \"properties\": {\n        \"dtype\": \"number\",\n        \"std\": 558,\n        \"min\": 1200,\n        \"max\": 4364,\n        \"num_unique_values\": 895,\n        \"samples\": [\n          1782,\n          1828\n        ],\n        \"semantic_type\": \"\",\n        \"description\": \"\"\n      }\n    },\n    {\n      \"column\": \"Protein\",\n      \"properties\": {\n        \"dtype\": \"number\",\n        \"std\": 53,\n        \"min\": 50,\n        \"max\": 327,\n        \"num_unique_values\": 231,\n        \"samples\": [\n          272,\n          72\n        ],\n        \"semantic_type\": \"\",\n        \"description\": \"\"\n      }\n    },\n    {\n      \"column\": \"Sugar\",\n      \"properties\": {\n        \"dtype\": \"number\",\n        \"std\": 34.93890219462492,\n        \"min\": 60.0,\n        \"max\": 218.0,\n        \"num_unique_values\": 276,\n        \"samples\": [\n          158.0,\n          172.0\n        ],\n        \"semantic_type\": \"\",\n        \"description\": \"\"\n      }\n    },\n    {\n      \"column\": \"Sodium\",\n      \"properties\": {\n        \"dtype\": \"number\",\n        \"std\": 10.6653176771373,\n        \"min\": 10.0,\n        \"max\": 65.4,\n        \"num_unique_values\": 231,\n        \"samples\": [\n          54.4,\n          14.4\n        ],\n        \"semantic_type\": \"\",\n        \"description\": \"\"\n      }\n    },\n    {\n      \"column\": \"Calories\",\n      \"properties\": {\n        \"dtype\": \"number\",\n        \"std\": 571,\n        \"min\": 990,\n        \"max\": 4357,\n        \"num_unique_values\": 759,\n        \"samples\": [\n          1698,\n          1804\n        ],\n        \"semantic_type\": \"\",\n        \"description\": \"\"\n      }\n    },\n    {\n      \"column\": \"Carbohydrates\",\n      \"properties\": {\n        \"dtype\": \"number\",\n        \"std\": 69,\n        \"min\": 120,\n        \"max\": 436,\n        \"num_unique_values\": 276,\n        \"samples\": [\n          316,\n          344\n        ],\n        \"semantic_type\": \"\",\n        \"description\": \"\"\n      }\n    },\n    {\n      \"column\": \"Fiber\",\n      \"properties\": {\n        \"dtype\": \"number\",\n        \"std\": 8.385336526709985,\n        \"min\": 14.4,\n        \"max\": 52.32,\n        \"num_unique_values\": 276,\n        \"samples\": [\n          37.92,\n          41.28\n        ],\n        \"semantic_type\": \"\",\n        \"description\": \"\"\n      }\n    },\n    {\n      \"column\": \"Fat\",\n      \"properties\": {\n        \"dtype\": \"number\",\n        \"std\": 21,\n        \"min\": 30,\n        \"max\": 145,\n        \"num_unique_values\": 103,\n        \"samples\": [\n          82,\n          87\n        ],\n        \"semantic_type\": \"\",\n        \"description\": \"\"\n      }\n    },\n    {\n      \"column\": \"Breakfast Suggestion\",\n      \"properties\": {\n        \"dtype\": \"category\",\n        \"num_unique_values\": 121,\n        \"samples\": [\n          \"Scrambled tofu with whole-wheat toast and avocado\",\n          \"Tofu and vegetable scramble with whole wheat toast\"\n        ],\n        \"semantic_type\": \"\",\n        \"description\": \"\"\n      }\n    },\n    {\n      \"column\": \"Lunch Suggestion\",\n      \"properties\": {\n        \"dtype\": \"category\",\n        \"num_unique_values\": 190,\n        \"samples\": [\n          \"Tuna salad sandwich on whole grain bread\",\n          \"Vegan chili with whole wheat bread\"\n        ],\n        \"semantic_type\": \"\",\n        \"description\": \"\"\n      }\n    },\n    {\n      \"column\": \"Dinner Suggestion\",\n      \"properties\": {\n        \"dtype\": \"category\",\n        \"num_unique_values\": 177,\n        \"samples\": [\n          \"Tofu stir-fry with brown rice and vegetables\",\n          \"Tuna with quinoa and roasted vegetables\"\n        ],\n        \"semantic_type\": \"\",\n        \"description\": \"\"\n      }\n    },\n    {\n      \"column\": \"Snack Suggestion\",\n      \"properties\": {\n        \"dtype\": \"category\",\n        \"num_unique_values\": 112,\n        \"samples\": [\n          \"Greek yogurt with berries\",\n          \"Fruit with yogurt\"\n        ],\n        \"semantic_type\": \"\",\n        \"description\": \"\"\n      }\n    },\n    {\n      \"column\": \"Disease\",\n      \"properties\": {\n        \"dtype\": \"category\",\n        \"num_unique_values\": 13,\n        \"samples\": [\n          \"Diabetes, Acne, Weight Gain, Hypertension, Heart Disease\",\n          \"Hypertension, Heart Disease\"\n        ],\n        \"semantic_type\": \"\",\n        \"description\": \"\"\n      }\n    }\n  ]\n}"
            }
          },
          "metadata": {},
          "execution_count": 4
        }
      ]
    },
    {
      "cell_type": "markdown",
      "source": [
        "**Data Preprocessing**"
      ],
      "metadata": {
        "id": "lTDAYOWv2M-D"
      }
    },
    {
      "cell_type": "markdown",
      "source": [
        "Categorize Features: Numerical, Categorical, and Skewed Columns"
      ],
      "metadata": {
        "id": "Moj4Hxel0G5i"
      }
    },
    {
      "cell_type": "code",
      "source": [
        "numerical_features = [\"Ages\", \"Height\", \"Weight\", \"Fiber\"]\n",
        "categorical_features = [\"Gender\", \"Dietary Preference\"]"
      ],
      "metadata": {
        "id": "8nZG7Cdn0EEN"
      },
      "execution_count": 5,
      "outputs": []
    },
    {
      "cell_type": "markdown",
      "source": [
        "Features identified as right-skewed from EDA. Applying log transformation"
      ],
      "metadata": {
        "id": "eAMFK6Zm-dWw"
      }
    },
    {
      "cell_type": "code",
      "source": [
        "right_skewed_features = [\"Sodium\"]"
      ],
      "metadata": {
        "id": "I9j7YtCS-esj"
      },
      "execution_count": 6,
      "outputs": []
    },
    {
      "cell_type": "markdown",
      "source": [
        "To ensure consistency, we remove diseases that appear only once, as they cause mismatched features between training and test sets and provide no learning value for the model"
      ],
      "metadata": {
        "id": "mPhKnevhv0QU"
      }
    },
    {
      "cell_type": "code",
      "source": [
        "from collections import Counter\n",
        "\n",
        "df[\"Disease_Split\"] = df[\"Disease\"].astype(str).str.split(\", \")\n",
        "\n",
        "all_diseases = [disease for sublist in df[\"Disease_Split\"] for disease in sublist]\n",
        "disease_counts = Counter(all_diseases)\n",
        "\n",
        "print(\"Single disease count:\")\n",
        "for disease, count in disease_counts.items():\n",
        "    print(f\"{disease}: {count}\")\n",
        "\n",
        "rare_diseases = [disease for disease, count in disease_counts.items() if count < 2]\n",
        "\n",
        "print(\"\\nRare diseases (appear less than 2 times):\")\n",
        "print(rare_diseases)"
      ],
      "metadata": {
        "colab": {
          "base_uri": "https://localhost:8080/"
        },
        "id": "ZDjQz0Je2f4H",
        "outputId": "c227472b-abfb-410d-dbc7-d85f61d25308"
      },
      "execution_count": 7,
      "outputs": [
        {
          "output_type": "stream",
          "name": "stdout",
          "text": [
            "Single disease count:\n",
            "Weight Gain: 1664\n",
            "Hypertension: 292\n",
            "Heart Disease: 289\n",
            "Kidney Disease: 189\n",
            "Diabetes: 66\n",
            "Acne: 66\n",
            "Weight Loss: 1\n",
            "\n",
            "Rare diseases (appear less than 2 times):\n",
            "['Weight Loss']\n"
          ]
        }
      ]
    },
    {
      "cell_type": "code",
      "source": [
        "df = df[~df[\"Disease\"].str.contains(\"Weight Loss\", na=False)]"
      ],
      "metadata": {
        "id": "fpK9WiKT3hc2"
      },
      "execution_count": 8,
      "outputs": []
    },
    {
      "cell_type": "code",
      "source": [
        "Multy_categorical_features = [\"Disease\"]"
      ],
      "metadata": {
        "id": "Ug8XqT-dR-2U"
      },
      "execution_count": 9,
      "outputs": []
    },
    {
      "cell_type": "code",
      "source": [
        "X = df.drop(columns=[\"Daily Calorie Target\", \"Protein\", \"Carbohydrates\",\"Fat\"])\n",
        "y = df[[\"Daily Calorie Target\", \"Protein\", \"Carbohydrates\",\"Fat\"]]"
      ],
      "metadata": {
        "id": "wJK4I6TH4K_H"
      },
      "execution_count": 10,
      "outputs": []
    },
    {
      "cell_type": "markdown",
      "source": [
        "Prevent Data Leakage: Remove Columns That Contain Target Information"
      ],
      "metadata": {
        "id": "5NBNeGu1yvlK"
      }
    },
    {
      "cell_type": "code",
      "source": [
        "X = df.drop(columns=[\"Calories\"])"
      ],
      "metadata": {
        "id": "4zbgxTs4y1M5"
      },
      "execution_count": 11,
      "outputs": []
    },
    {
      "cell_type": "markdown",
      "source": [
        "Removing Non-Contributing Columns"
      ],
      "metadata": {
        "id": "4ZOl8kIay9IK"
      }
    },
    {
      "cell_type": "code",
      "source": [
        "columns_to_remove = [\"Sugar\", \"Breakfast Suggestion\", \"Lunch Suggestion\",\n",
        "                     \"Dinner Suggestion\", \"Snack Suggestion\"]\n",
        "\n",
        "X = df.drop(columns=columns_to_remove)"
      ],
      "metadata": {
        "id": "yOM-UgfBzAJ6"
      },
      "execution_count": 12,
      "outputs": []
    },
    {
      "cell_type": "markdown",
      "source": [
        "Analysis showed that keeping 'Sodium' and 'Fiber' significantly reduced the model's error, so I decided to keep them"
      ],
      "metadata": {
        "id": "TAu22t5pzDRN"
      }
    },
    {
      "cell_type": "markdown",
      "source": [
        "**Splitting the Data**"
      ],
      "metadata": {
        "id": "TxXjVCZ58s1m"
      }
    },
    {
      "cell_type": "code",
      "source": [
        "X_train, X_test, y_train, y_test = train_test_split(X, y, test_size=0.2, random_state=42)\n",
        "\n",
        "print(f\"Train: {X_train.shape}, Test: {X_test.shape}\")\n",
        "print(f\"Y Train: {y_train.shape}, Y Test: {y_test.shape}\")"
      ],
      "metadata": {
        "colab": {
          "base_uri": "https://localhost:8080/"
        },
        "id": "jHtj51Ycy9zR",
        "outputId": "fb81b7cc-e017-4201-ca5c-6fbef2991660"
      },
      "execution_count": 13,
      "outputs": [
        {
          "output_type": "stream",
          "name": "stdout",
          "text": [
            "Train: (1357, 15), Test: (340, 15)\n",
            "Y Train: (1357, 4), Y Test: (340, 4)\n"
          ]
        }
      ]
    },
    {
      "cell_type": "markdown",
      "source": [
        "**Apply the Pipeline**"
      ],
      "metadata": {
        "id": "IBZVCqBg8zSj"
      }
    },
    {
      "cell_type": "code",
      "source": [
        "preprocessor = create_preprocessor(numerical_features,categorical_features,Multy_categorical_features,\n",
        "                                   right_skewed_features,)"
      ],
      "metadata": {
        "id": "NfiTwCvmSGzm"
      },
      "execution_count": 14,
      "outputs": []
    },
    {
      "cell_type": "code",
      "source": [
        "X_train_transformed = preprocessor.fit_transform(X_train)\n",
        "X_test_transformed = preprocessor.transform(X_test)"
      ],
      "metadata": {
        "id": "8Zs-iBFX8u5w"
      },
      "execution_count": 15,
      "outputs": []
    },
    {
      "cell_type": "code",
      "source": [
        "print(f\"Training Data Processed: {X_train_transformed.shape} (Rows, Features)\")\n",
        "print(f\"Test Data Processed: {X_test_transformed.shape} (Rows, Features)\")"
      ],
      "metadata": {
        "colab": {
          "base_uri": "https://localhost:8080/"
        },
        "id": "YHMPqcLA9ST1",
        "outputId": "7b72b639-9ba9-4f72-f10e-8854305af886"
      },
      "execution_count": 16,
      "outputs": [
        {
          "output_type": "stream",
          "name": "stdout",
          "text": [
            "Training Data Processed: (1357, 19) (Rows, Features)\n",
            "Test Data Processed: (340, 19) (Rows, Features)\n"
          ]
        }
      ]
    },
    {
      "cell_type": "markdown",
      "source": [
        "**Baseline Model**"
      ],
      "metadata": {
        "id": "wGOkqBZLFtLN"
      }
    },
    {
      "cell_type": "markdown",
      "source": [
        "A baseline model is created by randomly shuffling the target values to compare the neural network's performance against a naive prediction"
      ],
      "metadata": {
        "id": "M1f8omGXxdiC"
      }
    },
    {
      "cell_type": "code",
      "source": [
        "from sklearn.metrics import mean_absolute_error\n",
        "from sklearn.metrics import mean_squared_error\n",
        "from sklearn.metrics import r2_score"
      ],
      "metadata": {
        "id": "sgncaWp3W7Kh"
      },
      "execution_count": 17,
      "outputs": []
    },
    {
      "cell_type": "code",
      "source": [
        "y_test_copy = np.array(copy.deepcopy(y_test))\n",
        "\n",
        "np.random.shuffle(y_test_copy)\n",
        "\n",
        "random_baseline_mae = mean_absolute_error(y_test, y_test_copy, multioutput=\"raw_values\")\n",
        "random_baseline_mse = mean_squared_error(y_test, y_test_copy, multioutput=\"raw_values\")\n",
        "random_baseline_rmse = np.sqrt(random_baseline_mse)\n",
        "random_baseline_r2 = r2_score(y_test, y_test_copy, multioutput=\"raw_values\")\n",
        "\n",
        "print(f\"Random Baseline MAE per target: {random_baseline_mae}\")\n",
        "print(f\"Average Random Baseline MAE: {random_baseline_mae.mean():.2f}\")\n",
        "\n",
        "print(f\"Random Baseline MSE per target: {random_baseline_mse}\")\n",
        "print(f\"Average Random Baseline MSE: {random_baseline_mse.mean():.2f}\")\n",
        "\n",
        "print(f\"Random Baseline RMSE per target: {random_baseline_rmse}\")\n",
        "print(f\"Average Random Baseline RMSE: {random_baseline_rmse.mean():.2f}\")\n",
        "\n",
        "print(f\"Random Baseline R² per target: {random_baseline_r2}\")\n",
        "print(f\"Average Random Baseline R²: {random_baseline_r2.mean():.2f}\")"
      ],
      "metadata": {
        "colab": {
          "base_uri": "https://localhost:8080/"
        },
        "id": "NSPDEmFe9X5X",
        "outputId": "c3dab480-f12e-4ebf-a189-4ca2d2eec2ed"
      },
      "execution_count": 18,
      "outputs": [
        {
          "output_type": "stream",
          "name": "stdout",
          "text": [
            "Random Baseline MAE per target: [635.10588235  59.45882353  79.19411765  23.85294118]\n",
            "Average Random Baseline MAE: 199.40\n",
            "Random Baseline MSE per target: [648484.94705882   5556.83529412   9669.24705882    910.47647059]\n",
            "Average Random Baseline MSE: 166155.38\n",
            "Random Baseline RMSE per target: [805.28563073  74.5441835   98.33232967  30.17410265]\n",
            "Average Random Baseline RMSE: 252.08\n",
            "Random Baseline R² per target: [-0.98457628 -0.86505276 -0.9434784  -0.96349672]\n",
            "Average Random Baseline R²: -0.94\n"
          ]
        }
      ]
    },
    {
      "cell_type": "markdown",
      "source": [
        "**Neural Network Model**"
      ],
      "metadata": {
        "id": "oS2QS2_mIovg"
      }
    },
    {
      "cell_type": "markdown",
      "source": [
        "This section defines and trains a neural network using K-Fold cross-validation. The model includes batch normalization, dropout, L2 regularization, and an exponentially decaying learning rate. The Mean Absolute Error (MAE) is calculated for each fold and averaged across all folds\n",
        "\n"
      ],
      "metadata": {
        "id": "0v3cDuBTxUHT"
      }
    },
    {
      "cell_type": "code",
      "source": [
        "#!pip install scikit-learn==1.3.1"
      ],
      "metadata": {
        "id": "auG_U4rz0F8N"
      },
      "execution_count": null,
      "outputs": []
    },
    {
      "cell_type": "code",
      "source": [
        "!pip install --upgrade scikit-learn scikeras --quiet"
      ],
      "metadata": {
        "id": "FDzqg0_C0Xtp"
      },
      "execution_count": 19,
      "outputs": []
    },
    {
      "cell_type": "code",
      "source": [
        "import tensorflow as tf\n",
        "from tensorflow.keras.models import Sequential\n",
        "from tensorflow.keras.optimizers import Adam\n",
        "from tensorflow.keras.regularizers import l2\n",
        "from sklearn.model_selection import KFold, cross_val_score\n",
        "from tensorflow.keras.callbacks import EarlyStopping, ReduceLROnPlateau\n",
        "from scikeras.wrappers import KerasRegressor\n",
        "from tensorflow.keras.optimizers.schedules import ExponentialDecay\n",
        "from tensorflow.keras.layers import Dense, Dropout, BatchNormalization, Activation"
      ],
      "metadata": {
        "id": "NDnvwLumCmgl"
      },
      "execution_count": 20,
      "outputs": []
    },
    {
      "cell_type": "code",
      "source": [
        "y_train_np = y_train.to_numpy()"
      ],
      "metadata": {
        "id": "ST7Z4aRM4onY"
      },
      "execution_count": 21,
      "outputs": []
    },
    {
      "cell_type": "code",
      "source": [
        "lr_schedule = ExponentialDecay(initial_learning_rate=0.01, decay_steps=1000, decay_rate=0.96, staircase=True)"
      ],
      "metadata": {
        "id": "Otvhm2GK6TDX"
      },
      "execution_count": 22,
      "outputs": []
    },
    {
      "cell_type": "code",
      "source": [
        "def build_model():\n",
        "    model = Sequential([\n",
        "        Dense(128, kernel_regularizer=l2(0.01), input_shape=(X_train_transformed.shape[1],)),\n",
        "        BatchNormalization(),\n",
        "        Activation('relu'),\n",
        "        Dropout(0.2),\n",
        "\n",
        "        Dense(64, kernel_regularizer=l2(0.01)),\n",
        "        BatchNormalization(),\n",
        "        Activation('relu'),\n",
        "        Dropout(0.2),\n",
        "\n",
        "        Dense(32, kernel_regularizer=l2(0.01)),\n",
        "        BatchNormalization(),\n",
        "        Activation('relu'),\n",
        "        Dropout(0.2),\n",
        "\n",
        "        Dense(y_train.shape[1], activation='linear')\n",
        "    ])\n",
        "\n",
        "    lr_schedule = ExponentialDecay(\n",
        "        initial_learning_rate=0.01,\n",
        "        decay_steps=1000,\n",
        "        decay_rate=0.96\n",
        "    )\n",
        "\n",
        "    optimizer = Adam(learning_rate=lr_schedule)\n",
        "    model.compile(optimizer=optimizer, loss='mse', metrics=['mae'])\n",
        "\n",
        "    return model"
      ],
      "metadata": {
        "id": "39w_1vE2Zu5K"
      },
      "execution_count": 23,
      "outputs": []
    },
    {
      "cell_type": "code",
      "source": [
        "kfold = KFold(n_splits=4, shuffle=True, random_state=42)\n",
        "\n",
        "mae_per_column = []\n",
        "\n",
        "early_stopping = EarlyStopping(monitor='val_loss', patience=10, restore_best_weights=True)\n",
        "\n",
        "for train_idx, val_idx in kfold.split(X_train_transformed):\n",
        "    X_train_fold, X_val_fold = X_train_transformed[train_idx], X_train_transformed[val_idx]\n",
        "    y_train_fold, y_val_fold = y_train_np[train_idx], y_train_np[val_idx]\n",
        "\n",
        "    model = build_model()\n",
        "\n",
        "    history = model.fit(X_train_fold, y_train_fold, epochs=50, batch_size=16, verbose=1,\n",
        "                        validation_data=(X_val_fold, y_val_fold), callbacks=[early_stopping])\n",
        "\n",
        "    y_val_pred = model.predict(X_val_fold)\n",
        "\n",
        "    fold_mae_per_column = mean_absolute_error(y_val_fold, y_val_pred, multioutput=\"raw_values\")\n",
        "\n",
        "    mae_per_column.append(fold_mae_per_column)\n",
        "\n",
        "    print(f\"MAE per column in the current fold: {fold_mae_per_column}\")\n",
        "\n",
        "mae_per_column = np.array(mae_per_column)\n",
        "\n",
        "mean_mae_per_column = mae_per_column.mean(axis=0)\n",
        "\n",
        "print(\"\\nAverage MAE per column:\")\n",
        "for i, col_name in enumerate([\"Calories\", \"Carbohydrates\", \"Protein\"]):\n",
        "    print(f\"{col_name}: {mean_mae_per_column[i]:.2f}\")"
      ],
      "metadata": {
        "colab": {
          "base_uri": "https://localhost:8080/"
        },
        "id": "toCYnSH3mLjH",
        "outputId": "69289256-4448-47de-ea25-3b4e4e5d5de5"
      },
      "execution_count": 24,
      "outputs": [
        {
          "output_type": "stream",
          "name": "stderr",
          "text": [
            "/usr/local/lib/python3.11/dist-packages/keras/src/layers/core/dense.py:87: UserWarning: Do not pass an `input_shape`/`input_dim` argument to a layer. When using Sequential models, prefer using an `Input(shape)` object as the first layer in the model instead.\n",
            "  super().__init__(activity_regularizer=activity_regularizer, **kwargs)\n"
          ]
        },
        {
          "output_type": "stream",
          "name": "stdout",
          "text": [
            "Epoch 1/50\n",
            "\u001b[1m64/64\u001b[0m \u001b[32m━━━━━━━━━━━━━━━━━━━━\u001b[0m\u001b[37m\u001b[0m \u001b[1m19s\u001b[0m 19ms/step - loss: 1359291.2500 - mae: 674.7828 - val_loss: 1297826.8750 - val_mae: 619.6588\n",
            "Epoch 2/50\n",
            "\u001b[1m64/64\u001b[0m \u001b[32m━━━━━━━━━━━━━━━━━━━━\u001b[0m\u001b[37m\u001b[0m \u001b[1m1s\u001b[0m 11ms/step - loss: 1329720.5000 - mae: 646.6491 - val_loss: 1143464.6250 - val_mae: 555.1776\n",
            "Epoch 3/50\n",
            "\u001b[1m64/64\u001b[0m \u001b[32m━━━━━━━━━━━━━━━━━━━━\u001b[0m\u001b[37m\u001b[0m \u001b[1m1s\u001b[0m 9ms/step - loss: 1228944.1250 - mae: 589.6485 - val_loss: 772714.6250 - val_mae: 525.6080\n",
            "Epoch 4/50\n",
            "\u001b[1m64/64\u001b[0m \u001b[32m━━━━━━━━━━━━━━━━━━━━\u001b[0m\u001b[37m\u001b[0m \u001b[1m1s\u001b[0m 11ms/step - loss: 985439.3125 - mae: 520.9387 - val_loss: 524686.5625 - val_mae: 419.1955\n",
            "Epoch 5/50\n",
            "\u001b[1m64/64\u001b[0m \u001b[32m━━━━━━━━━━━━━━━━━━━━\u001b[0m\u001b[37m\u001b[0m \u001b[1m1s\u001b[0m 8ms/step - loss: 751303.1875 - mae: 454.9529 - val_loss: 475491.2812 - val_mae: 369.9430\n",
            "Epoch 6/50\n",
            "\u001b[1m64/64\u001b[0m \u001b[32m━━━━━━━━━━━━━━━━━━━━\u001b[0m\u001b[37m\u001b[0m \u001b[1m1s\u001b[0m 5ms/step - loss: 536205.4375 - mae: 381.5184 - val_loss: 295293.5312 - val_mae: 284.7862\n",
            "Epoch 7/50\n",
            "\u001b[1m64/64\u001b[0m \u001b[32m━━━━━━━━━━━━━━━━━━━━\u001b[0m\u001b[37m\u001b[0m \u001b[1m1s\u001b[0m 5ms/step - loss: 371408.9688 - mae: 314.6290 - val_loss: 168411.8281 - val_mae: 207.2757\n",
            "Epoch 8/50\n",
            "\u001b[1m64/64\u001b[0m \u001b[32m━━━━━━━━━━━━━━━━━━━━\u001b[0m\u001b[37m\u001b[0m \u001b[1m1s\u001b[0m 5ms/step - loss: 218219.8125 - mae: 232.8546 - val_loss: 93812.1250 - val_mae: 146.1661\n",
            "Epoch 9/50\n",
            "\u001b[1m64/64\u001b[0m \u001b[32m━━━━━━━━━━━━━━━━━━━━\u001b[0m\u001b[37m\u001b[0m \u001b[1m1s\u001b[0m 5ms/step - loss: 150145.1719 - mae: 185.4349 - val_loss: 58328.7227 - val_mae: 104.0756\n",
            "Epoch 10/50\n",
            "\u001b[1m64/64\u001b[0m \u001b[32m━━━━━━━━━━━━━━━━━━━━\u001b[0m\u001b[37m\u001b[0m \u001b[1m1s\u001b[0m 8ms/step - loss: 105662.4219 - mae: 150.5270 - val_loss: 64124.8164 - val_mae: 122.3951\n",
            "Epoch 11/50\n",
            "\u001b[1m64/64\u001b[0m \u001b[32m━━━━━━━━━━━━━━━━━━━━\u001b[0m\u001b[37m\u001b[0m \u001b[1m1s\u001b[0m 9ms/step - loss: 72603.9219 - mae: 125.0541 - val_loss: 29496.1562 - val_mae: 80.2308\n",
            "Epoch 12/50\n",
            "\u001b[1m64/64\u001b[0m \u001b[32m━━━━━━━━━━━━━━━━━━━━\u001b[0m\u001b[37m\u001b[0m \u001b[1m1s\u001b[0m 9ms/step - loss: 64723.8438 - mae: 122.6883 - val_loss: 29942.1172 - val_mae: 78.0676\n",
            "Epoch 13/50\n",
            "\u001b[1m64/64\u001b[0m \u001b[32m━━━━━━━━━━━━━━━━━━━━\u001b[0m\u001b[37m\u001b[0m \u001b[1m1s\u001b[0m 10ms/step - loss: 49724.7031 - mae: 105.5485 - val_loss: 32210.1699 - val_mae: 78.9118\n",
            "Epoch 14/50\n",
            "\u001b[1m64/64\u001b[0m \u001b[32m━━━━━━━━━━━━━━━━━━━━\u001b[0m\u001b[37m\u001b[0m \u001b[1m1s\u001b[0m 5ms/step - loss: 43343.3086 - mae: 103.6098 - val_loss: 31618.6973 - val_mae: 77.1085\n",
            "Epoch 15/50\n",
            "\u001b[1m64/64\u001b[0m \u001b[32m━━━━━━━━━━━━━━━━━━━━\u001b[0m\u001b[37m\u001b[0m \u001b[1m0s\u001b[0m 5ms/step - loss: 44906.3633 - mae: 103.4042 - val_loss: 29816.2676 - val_mae: 73.1528\n",
            "Epoch 16/50\n",
            "\u001b[1m64/64\u001b[0m \u001b[32m━━━━━━━━━━━━━━━━━━━━\u001b[0m\u001b[37m\u001b[0m \u001b[1m1s\u001b[0m 5ms/step - loss: 42919.4453 - mae: 100.2978 - val_loss: 29081.4199 - val_mae: 73.2183\n",
            "Epoch 17/50\n",
            "\u001b[1m64/64\u001b[0m \u001b[32m━━━━━━━━━━━━━━━━━━━━\u001b[0m\u001b[37m\u001b[0m \u001b[1m1s\u001b[0m 5ms/step - loss: 39041.7500 - mae: 97.5851 - val_loss: 28858.4785 - val_mae: 74.6285\n",
            "Epoch 18/50\n",
            "\u001b[1m64/64\u001b[0m \u001b[32m━━━━━━━━━━━━━━━━━━━━\u001b[0m\u001b[37m\u001b[0m \u001b[1m0s\u001b[0m 5ms/step - loss: 44130.1484 - mae: 104.6527 - val_loss: 27477.1465 - val_mae: 72.6679\n",
            "Epoch 19/50\n",
            "\u001b[1m64/64\u001b[0m \u001b[32m━━━━━━━━━━━━━━━━━━━━\u001b[0m\u001b[37m\u001b[0m \u001b[1m0s\u001b[0m 5ms/step - loss: 41616.4023 - mae: 100.3469 - val_loss: 30865.2715 - val_mae: 75.9854\n",
            "Epoch 20/50\n",
            "\u001b[1m64/64\u001b[0m \u001b[32m━━━━━━━━━━━━━━━━━━━━\u001b[0m\u001b[37m\u001b[0m \u001b[1m0s\u001b[0m 5ms/step - loss: 42518.5469 - mae: 102.0871 - val_loss: 29207.2891 - val_mae: 74.6671\n",
            "Epoch 21/50\n",
            "\u001b[1m64/64\u001b[0m \u001b[32m━━━━━━━━━━━━━━━━━━━━\u001b[0m\u001b[37m\u001b[0m \u001b[1m1s\u001b[0m 5ms/step - loss: 44066.9883 - mae: 102.0337 - val_loss: 29793.9785 - val_mae: 74.2514\n",
            "Epoch 22/50\n",
            "\u001b[1m64/64\u001b[0m \u001b[32m━━━━━━━━━━━━━━━━━━━━\u001b[0m\u001b[37m\u001b[0m \u001b[1m0s\u001b[0m 5ms/step - loss: 42370.2031 - mae: 101.2554 - val_loss: 29095.3613 - val_mae: 72.1594\n",
            "Epoch 23/50\n",
            "\u001b[1m64/64\u001b[0m \u001b[32m━━━━━━━━━━━━━━━━━━━━\u001b[0m\u001b[37m\u001b[0m \u001b[1m0s\u001b[0m 5ms/step - loss: 44152.9844 - mae: 101.7778 - val_loss: 29694.8262 - val_mae: 72.5674\n",
            "Epoch 24/50\n",
            "\u001b[1m64/64\u001b[0m \u001b[32m━━━━━━━━━━━━━━━━━━━━\u001b[0m\u001b[37m\u001b[0m \u001b[1m0s\u001b[0m 5ms/step - loss: 44289.5273 - mae: 101.6116 - val_loss: 31462.6973 - val_mae: 74.0486\n",
            "Epoch 25/50\n",
            "\u001b[1m64/64\u001b[0m \u001b[32m━━━━━━━━━━━━━━━━━━━━\u001b[0m\u001b[37m\u001b[0m \u001b[1m0s\u001b[0m 5ms/step - loss: 45803.0312 - mae: 105.0026 - val_loss: 33676.0938 - val_mae: 79.7562\n",
            "Epoch 26/50\n",
            "\u001b[1m64/64\u001b[0m \u001b[32m━━━━━━━━━━━━━━━━━━━━\u001b[0m\u001b[37m\u001b[0m \u001b[1m0s\u001b[0m 5ms/step - loss: 42223.0859 - mae: 99.7311 - val_loss: 34260.0938 - val_mae: 76.7997\n",
            "Epoch 27/50\n",
            "\u001b[1m64/64\u001b[0m \u001b[32m━━━━━━━━━━━━━━━━━━━━\u001b[0m\u001b[37m\u001b[0m \u001b[1m0s\u001b[0m 5ms/step - loss: 40527.8477 - mae: 100.7677 - val_loss: 31404.4824 - val_mae: 76.5836\n",
            "Epoch 28/50\n",
            "\u001b[1m64/64\u001b[0m \u001b[32m━━━━━━━━━━━━━━━━━━━━\u001b[0m\u001b[37m\u001b[0m \u001b[1m1s\u001b[0m 5ms/step - loss: 39972.7148 - mae: 97.9561 - val_loss: 29159.1582 - val_mae: 71.7843\n",
            "\u001b[1m11/11\u001b[0m \u001b[32m━━━━━━━━━━━━━━━━━━━━\u001b[0m\u001b[37m\u001b[0m \u001b[1m0s\u001b[0m 12ms/step\n",
            "MAE per column in the current fold: [221.2109    23.0429    37.479546   8.938197]\n",
            "Epoch 1/50\n"
          ]
        },
        {
          "output_type": "stream",
          "name": "stderr",
          "text": [
            "/usr/local/lib/python3.11/dist-packages/keras/src/layers/core/dense.py:87: UserWarning: Do not pass an `input_shape`/`input_dim` argument to a layer. When using Sequential models, prefer using an `Input(shape)` object as the first layer in the model instead.\n",
            "  super().__init__(activity_regularizer=activity_regularizer, **kwargs)\n"
          ]
        },
        {
          "output_type": "stream",
          "name": "stdout",
          "text": [
            "\u001b[1m64/64\u001b[0m \u001b[32m━━━━━━━━━━━━━━━━━━━━\u001b[0m\u001b[37m\u001b[0m \u001b[1m5s\u001b[0m 16ms/step - loss: 1364082.7500 - mae: 674.7295 - val_loss: 1312533.6250 - val_mae: 640.1044\n",
            "Epoch 2/50\n",
            "\u001b[1m64/64\u001b[0m \u001b[32m━━━━━━━━━━━━━━━━━━━━\u001b[0m\u001b[37m\u001b[0m \u001b[1m1s\u001b[0m 5ms/step - loss: 1291448.7500 - mae: 637.9300 - val_loss: 1132462.5000 - val_mae: 560.8371\n",
            "Epoch 3/50\n",
            "\u001b[1m64/64\u001b[0m \u001b[32m━━━━━━━━━━━━━━━━━━━━\u001b[0m\u001b[37m\u001b[0m \u001b[1m1s\u001b[0m 5ms/step - loss: 1226932.2500 - mae: 588.5311 - val_loss: 829304.6250 - val_mae: 531.0355\n",
            "Epoch 4/50\n",
            "\u001b[1m64/64\u001b[0m \u001b[32m━━━━━━━━━━━━━━━━━━━━\u001b[0m\u001b[37m\u001b[0m \u001b[1m0s\u001b[0m 5ms/step - loss: 1007036.2500 - mae: 524.5704 - val_loss: 418237.2500 - val_mae: 417.3380\n",
            "Epoch 5/50\n",
            "\u001b[1m64/64\u001b[0m \u001b[32m━━━━━━━━━━━━━━━━━━━━\u001b[0m\u001b[37m\u001b[0m \u001b[1m0s\u001b[0m 5ms/step - loss: 799358.5625 - mae: 469.3450 - val_loss: 309861.4062 - val_mae: 312.9210\n",
            "Epoch 6/50\n",
            "\u001b[1m64/64\u001b[0m \u001b[32m━━━━━━━━━━━━━━━━━━━━\u001b[0m\u001b[37m\u001b[0m \u001b[1m1s\u001b[0m 6ms/step - loss: 580720.8750 - mae: 394.8685 - val_loss: 297932.6562 - val_mae: 275.5818\n",
            "Epoch 7/50\n",
            "\u001b[1m64/64\u001b[0m \u001b[32m━━━━━━━━━━━━━━━━━━━━\u001b[0m\u001b[37m\u001b[0m \u001b[1m1s\u001b[0m 5ms/step - loss: 381137.8750 - mae: 314.6145 - val_loss: 207056.0938 - val_mae: 220.9799\n",
            "Epoch 8/50\n",
            "\u001b[1m64/64\u001b[0m \u001b[32m━━━━━━━━━━━━━━━━━━━━\u001b[0m\u001b[37m\u001b[0m \u001b[1m0s\u001b[0m 5ms/step - loss: 237445.7500 - mae: 241.3024 - val_loss: 80635.3984 - val_mae: 135.7595\n",
            "Epoch 9/50\n",
            "\u001b[1m64/64\u001b[0m \u001b[32m━━━━━━━━━━━━━━━━━━━━\u001b[0m\u001b[37m\u001b[0m \u001b[1m0s\u001b[0m 5ms/step - loss: 167028.0469 - mae: 195.1322 - val_loss: 52275.8359 - val_mae: 115.3923\n",
            "Epoch 10/50\n",
            "\u001b[1m64/64\u001b[0m \u001b[32m━━━━━━━━━━━━━━━━━━━━\u001b[0m\u001b[37m\u001b[0m \u001b[1m0s\u001b[0m 5ms/step - loss: 99998.3203 - mae: 151.1385 - val_loss: 54451.9062 - val_mae: 117.2133\n",
            "Epoch 11/50\n",
            "\u001b[1m64/64\u001b[0m \u001b[32m━━━━━━━━━━━━━━━━━━━━\u001b[0m\u001b[37m\u001b[0m \u001b[1m0s\u001b[0m 5ms/step - loss: 76771.9609 - mae: 131.6425 - val_loss: 35204.1680 - val_mae: 84.3034\n",
            "Epoch 12/50\n",
            "\u001b[1m64/64\u001b[0m \u001b[32m━━━━━━━━━━━━━━━━━━━━\u001b[0m\u001b[37m\u001b[0m \u001b[1m0s\u001b[0m 5ms/step - loss: 57392.1719 - mae: 114.9118 - val_loss: 32789.2109 - val_mae: 77.7160\n",
            "Epoch 13/50\n",
            "\u001b[1m64/64\u001b[0m \u001b[32m━━━━━━━━━━━━━━━━━━━━\u001b[0m\u001b[37m\u001b[0m \u001b[1m1s\u001b[0m 5ms/step - loss: 51101.8125 - mae: 109.8689 - val_loss: 26616.6348 - val_mae: 74.8317\n",
            "Epoch 14/50\n",
            "\u001b[1m64/64\u001b[0m \u001b[32m━━━━━━━━━━━━━━━━━━━━\u001b[0m\u001b[37m\u001b[0m \u001b[1m1s\u001b[0m 6ms/step - loss: 47956.1172 - mae: 107.6385 - val_loss: 26453.5195 - val_mae: 74.7318\n",
            "Epoch 15/50\n",
            "\u001b[1m64/64\u001b[0m \u001b[32m━━━━━━━━━━━━━━━━━━━━\u001b[0m\u001b[37m\u001b[0m \u001b[1m0s\u001b[0m 5ms/step - loss: 47425.8203 - mae: 103.3933 - val_loss: 28163.0332 - val_mae: 79.1260\n",
            "Epoch 16/50\n",
            "\u001b[1m64/64\u001b[0m \u001b[32m━━━━━━━━━━━━━━━━━━━━\u001b[0m\u001b[37m\u001b[0m \u001b[1m0s\u001b[0m 5ms/step - loss: 49346.9727 - mae: 107.3363 - val_loss: 27683.5039 - val_mae: 72.5408\n",
            "Epoch 17/50\n",
            "\u001b[1m64/64\u001b[0m \u001b[32m━━━━━━━━━━━━━━━━━━━━\u001b[0m\u001b[37m\u001b[0m \u001b[1m1s\u001b[0m 5ms/step - loss: 38188.4492 - mae: 96.2302 - val_loss: 24415.0879 - val_mae: 69.4320\n",
            "Epoch 18/50\n",
            "\u001b[1m64/64\u001b[0m \u001b[32m━━━━━━━━━━━━━━━━━━━━\u001b[0m\u001b[37m\u001b[0m \u001b[1m0s\u001b[0m 5ms/step - loss: 45206.9531 - mae: 105.8338 - val_loss: 25761.5195 - val_mae: 74.1322\n",
            "Epoch 19/50\n",
            "\u001b[1m64/64\u001b[0m \u001b[32m━━━━━━━━━━━━━━━━━━━━\u001b[0m\u001b[37m\u001b[0m \u001b[1m1s\u001b[0m 5ms/step - loss: 46740.0234 - mae: 101.3335 - val_loss: 26006.0703 - val_mae: 74.2629\n",
            "Epoch 20/50\n",
            "\u001b[1m64/64\u001b[0m \u001b[32m━━━━━━━━━━━━━━━━━━━━\u001b[0m\u001b[37m\u001b[0m \u001b[1m1s\u001b[0m 5ms/step - loss: 43410.9141 - mae: 102.8150 - val_loss: 26669.6230 - val_mae: 74.9124\n",
            "Epoch 21/50\n",
            "\u001b[1m64/64\u001b[0m \u001b[32m━━━━━━━━━━━━━━━━━━━━\u001b[0m\u001b[37m\u001b[0m \u001b[1m0s\u001b[0m 5ms/step - loss: 38535.1758 - mae: 97.0293 - val_loss: 25634.6602 - val_mae: 68.3540\n",
            "Epoch 22/50\n",
            "\u001b[1m64/64\u001b[0m \u001b[32m━━━━━━━━━━━━━━━━━━━━\u001b[0m\u001b[37m\u001b[0m \u001b[1m0s\u001b[0m 5ms/step - loss: 47378.6953 - mae: 105.3710 - val_loss: 30493.9434 - val_mae: 84.6577\n",
            "Epoch 23/50\n",
            "\u001b[1m64/64\u001b[0m \u001b[32m━━━━━━━━━━━━━━━━━━━━\u001b[0m\u001b[37m\u001b[0m \u001b[1m0s\u001b[0m 7ms/step - loss: 42793.5039 - mae: 101.3478 - val_loss: 29693.2539 - val_mae: 77.5385\n",
            "Epoch 24/50\n",
            "\u001b[1m64/64\u001b[0m \u001b[32m━━━━━━━━━━━━━━━━━━━━\u001b[0m\u001b[37m\u001b[0m \u001b[1m1s\u001b[0m 7ms/step - loss: 38512.2930 - mae: 97.3362 - val_loss: 29250.8789 - val_mae: 74.8888\n",
            "Epoch 25/50\n",
            "\u001b[1m64/64\u001b[0m \u001b[32m━━━━━━━━━━━━━━━━━━━━\u001b[0m\u001b[37m\u001b[0m \u001b[1m1s\u001b[0m 9ms/step - loss: 47435.7617 - mae: 105.9563 - val_loss: 25691.3223 - val_mae: 73.3660\n",
            "Epoch 26/50\n",
            "\u001b[1m64/64\u001b[0m \u001b[32m━━━━━━━━━━━━━━━━━━━━\u001b[0m\u001b[37m\u001b[0m \u001b[1m1s\u001b[0m 9ms/step - loss: 45067.6562 - mae: 102.8099 - val_loss: 29691.1895 - val_mae: 74.0966\n",
            "Epoch 27/50\n",
            "\u001b[1m64/64\u001b[0m \u001b[32m━━━━━━━━━━━━━━━━━━━━\u001b[0m\u001b[37m\u001b[0m \u001b[1m1s\u001b[0m 8ms/step - loss: 42679.3281 - mae: 99.3399 - val_loss: 27465.5254 - val_mae: 75.1465\n",
            "\u001b[1m11/11\u001b[0m \u001b[32m━━━━━━━━━━━━━━━━━━━━\u001b[0m\u001b[37m\u001b[0m \u001b[1m0s\u001b[0m 14ms/step\n",
            "MAE per column in the current fold: [206.14497   26.204504  35.535168   9.843381]\n",
            "Epoch 1/50\n"
          ]
        },
        {
          "output_type": "stream",
          "name": "stderr",
          "text": [
            "/usr/local/lib/python3.11/dist-packages/keras/src/layers/core/dense.py:87: UserWarning: Do not pass an `input_shape`/`input_dim` argument to a layer. When using Sequential models, prefer using an `Input(shape)` object as the first layer in the model instead.\n",
            "  super().__init__(activity_regularizer=activity_regularizer, **kwargs)\n"
          ]
        },
        {
          "output_type": "stream",
          "name": "stdout",
          "text": [
            "\u001b[1m64/64\u001b[0m \u001b[32m━━━━━━━━━━━━━━━━━━━━\u001b[0m\u001b[37m\u001b[0m \u001b[1m4s\u001b[0m 9ms/step - loss: 1369824.2500 - mae: 676.1642 - val_loss: 1347756.3750 - val_mae: 647.7903\n",
            "Epoch 2/50\n",
            "\u001b[1m64/64\u001b[0m \u001b[32m━━━━━━━━━━━━━━━━━━━━\u001b[0m\u001b[37m\u001b[0m \u001b[1m0s\u001b[0m 5ms/step - loss: 1334349.1250 - mae: 647.7603 - val_loss: 1153227.0000 - val_mae: 559.4930\n",
            "Epoch 3/50\n",
            "\u001b[1m64/64\u001b[0m \u001b[32m━━━━━━━━━━━━━━━━━━━━\u001b[0m\u001b[37m\u001b[0m \u001b[1m0s\u001b[0m 5ms/step - loss: 1152238.3750 - mae: 572.9280 - val_loss: 889216.7500 - val_mae: 531.6377\n",
            "Epoch 4/50\n",
            "\u001b[1m64/64\u001b[0m \u001b[32m━━━━━━━━━━━━━━━━━━━━\u001b[0m\u001b[37m\u001b[0m \u001b[1m1s\u001b[0m 5ms/step - loss: 976329.2500 - mae: 519.6269 - val_loss: 612989.0625 - val_mae: 447.4417\n",
            "Epoch 5/50\n",
            "\u001b[1m64/64\u001b[0m \u001b[32m━━━━━━━━━━━━━━━━━━━━\u001b[0m\u001b[37m\u001b[0m \u001b[1m1s\u001b[0m 5ms/step - loss: 783910.8750 - mae: 463.5382 - val_loss: 375299.4062 - val_mae: 339.1053\n",
            "Epoch 6/50\n",
            "\u001b[1m64/64\u001b[0m \u001b[32m━━━━━━━━━━━━━━━━━━━━\u001b[0m\u001b[37m\u001b[0m \u001b[1m1s\u001b[0m 5ms/step - loss: 526171.4375 - mae: 378.0393 - val_loss: 284059.8438 - val_mae: 278.4524\n",
            "Epoch 7/50\n",
            "\u001b[1m64/64\u001b[0m \u001b[32m━━━━━━━━━━━━━━━━━━━━\u001b[0m\u001b[37m\u001b[0m \u001b[1m0s\u001b[0m 5ms/step - loss: 374882.7188 - mae: 312.2331 - val_loss: 249502.9844 - val_mae: 251.9202\n",
            "Epoch 8/50\n",
            "\u001b[1m64/64\u001b[0m \u001b[32m━━━━━━━━━━━━━━━━━━━━\u001b[0m\u001b[37m\u001b[0m \u001b[1m1s\u001b[0m 5ms/step - loss: 225860.3906 - mae: 235.1405 - val_loss: 146161.5938 - val_mae: 185.9997\n",
            "Epoch 9/50\n",
            "\u001b[1m64/64\u001b[0m \u001b[32m━━━━━━━━━━━━━━━━━━━━\u001b[0m\u001b[37m\u001b[0m \u001b[1m0s\u001b[0m 5ms/step - loss: 144779.4688 - mae: 181.1703 - val_loss: 96715.3984 - val_mae: 156.1646\n",
            "Epoch 10/50\n",
            "\u001b[1m64/64\u001b[0m \u001b[32m━━━━━━━━━━━━━━━━━━━━\u001b[0m\u001b[37m\u001b[0m \u001b[1m1s\u001b[0m 5ms/step - loss: 96376.4297 - mae: 150.2555 - val_loss: 55860.5547 - val_mae: 120.4553\n",
            "Epoch 11/50\n",
            "\u001b[1m64/64\u001b[0m \u001b[32m━━━━━━━━━━━━━━━━━━━━\u001b[0m\u001b[37m\u001b[0m \u001b[1m0s\u001b[0m 5ms/step - loss: 61941.8867 - mae: 121.5846 - val_loss: 44862.4141 - val_mae: 104.6624\n",
            "Epoch 12/50\n",
            "\u001b[1m64/64\u001b[0m \u001b[32m━━━━━━━━━━━━━━━━━━━━\u001b[0m\u001b[37m\u001b[0m \u001b[1m0s\u001b[0m 4ms/step - loss: 49233.5508 - mae: 104.3753 - val_loss: 47569.2461 - val_mae: 92.0746\n",
            "Epoch 13/50\n",
            "\u001b[1m64/64\u001b[0m \u001b[32m━━━━━━━━━━━━━━━━━━━━\u001b[0m\u001b[37m\u001b[0m \u001b[1m1s\u001b[0m 5ms/step - loss: 44836.9961 - mae: 103.2941 - val_loss: 64696.6562 - val_mae: 106.6043\n",
            "Epoch 14/50\n",
            "\u001b[1m64/64\u001b[0m \u001b[32m━━━━━━━━━━━━━━━━━━━━\u001b[0m\u001b[37m\u001b[0m \u001b[1m1s\u001b[0m 9ms/step - loss: 46761.3047 - mae: 105.7602 - val_loss: 31120.9707 - val_mae: 78.1273\n",
            "Epoch 15/50\n",
            "\u001b[1m64/64\u001b[0m \u001b[32m━━━━━━━━━━━━━━━━━━━━\u001b[0m\u001b[37m\u001b[0m \u001b[1m1s\u001b[0m 8ms/step - loss: 44283.5391 - mae: 104.2880 - val_loss: 34746.7227 - val_mae: 80.3747\n",
            "Epoch 16/50\n",
            "\u001b[1m64/64\u001b[0m \u001b[32m━━━━━━━━━━━━━━━━━━━━\u001b[0m\u001b[37m\u001b[0m \u001b[1m1s\u001b[0m 9ms/step - loss: 39289.3555 - mae: 99.4893 - val_loss: 35570.1016 - val_mae: 79.2120\n",
            "Epoch 17/50\n",
            "\u001b[1m64/64\u001b[0m \u001b[32m━━━━━━━━━━━━━━━━━━━━\u001b[0m\u001b[37m\u001b[0m \u001b[1m1s\u001b[0m 9ms/step - loss: 49097.4297 - mae: 107.2318 - val_loss: 32570.0234 - val_mae: 78.5742\n",
            "Epoch 18/50\n",
            "\u001b[1m64/64\u001b[0m \u001b[32m━━━━━━━━━━━━━━━━━━━━\u001b[0m\u001b[37m\u001b[0m \u001b[1m0s\u001b[0m 7ms/step - loss: 49681.9570 - mae: 107.5278 - val_loss: 44496.0664 - val_mae: 83.9242\n",
            "Epoch 19/50\n",
            "\u001b[1m64/64\u001b[0m \u001b[32m━━━━━━━━━━━━━━━━━━━━\u001b[0m\u001b[37m\u001b[0m \u001b[1m1s\u001b[0m 5ms/step - loss: 41150.6680 - mae: 100.6897 - val_loss: 63256.3594 - val_mae: 94.1299\n",
            "Epoch 20/50\n",
            "\u001b[1m64/64\u001b[0m \u001b[32m━━━━━━━━━━━━━━━━━━━━\u001b[0m\u001b[37m\u001b[0m \u001b[1m1s\u001b[0m 5ms/step - loss: 41153.2070 - mae: 98.5157 - val_loss: 40535.3633 - val_mae: 78.1299\n",
            "Epoch 21/50\n",
            "\u001b[1m64/64\u001b[0m \u001b[32m━━━━━━━━━━━━━━━━━━━━\u001b[0m\u001b[37m\u001b[0m \u001b[1m0s\u001b[0m 5ms/step - loss: 42309.3281 - mae: 99.9269 - val_loss: 45076.8516 - val_mae: 86.0098\n",
            "Epoch 22/50\n",
            "\u001b[1m64/64\u001b[0m \u001b[32m━━━━━━━━━━━━━━━━━━━━\u001b[0m\u001b[37m\u001b[0m \u001b[1m0s\u001b[0m 5ms/step - loss: 38141.7578 - mae: 97.1962 - val_loss: 52194.3203 - val_mae: 89.5475\n",
            "Epoch 23/50\n",
            "\u001b[1m64/64\u001b[0m \u001b[32m━━━━━━━━━━━━━━━━━━━━\u001b[0m\u001b[37m\u001b[0m \u001b[1m0s\u001b[0m 5ms/step - loss: 47825.7734 - mae: 106.8860 - val_loss: 47801.1367 - val_mae: 83.1062\n",
            "Epoch 24/50\n",
            "\u001b[1m64/64\u001b[0m \u001b[32m━━━━━━━━━━━━━━━━━━━━\u001b[0m\u001b[37m\u001b[0m \u001b[1m1s\u001b[0m 5ms/step - loss: 44960.7969 - mae: 104.4171 - val_loss: 48662.7422 - val_mae: 82.7887\n",
            "\u001b[1m11/11\u001b[0m \u001b[32m━━━━━━━━━━━━━━━━━━━━\u001b[0m\u001b[37m\u001b[0m \u001b[1m0s\u001b[0m 12ms/step\n",
            "MAE per column in the current fold: [233.04019   27.61899   41.089085  10.761312]\n",
            "Epoch 1/50\n"
          ]
        },
        {
          "output_type": "stream",
          "name": "stderr",
          "text": [
            "/usr/local/lib/python3.11/dist-packages/keras/src/layers/core/dense.py:87: UserWarning: Do not pass an `input_shape`/`input_dim` argument to a layer. When using Sequential models, prefer using an `Input(shape)` object as the first layer in the model instead.\n",
            "  super().__init__(activity_regularizer=activity_regularizer, **kwargs)\n"
          ]
        },
        {
          "output_type": "stream",
          "name": "stdout",
          "text": [
            "\u001b[1m64/64\u001b[0m \u001b[32m━━━━━━━━━━━━━━━━━━━━\u001b[0m\u001b[37m\u001b[0m \u001b[1m4s\u001b[0m 9ms/step - loss: 1404659.7500 - mae: 685.5380 - val_loss: 1274100.2500 - val_mae: 620.1146\n",
            "Epoch 2/50\n",
            "\u001b[1m64/64\u001b[0m \u001b[32m━━━━━━━━━━━━━━━━━━━━\u001b[0m\u001b[37m\u001b[0m \u001b[1m0s\u001b[0m 5ms/step - loss: 1320854.1250 - mae: 643.6697 - val_loss: 1039679.3125 - val_mae: 561.6573\n",
            "Epoch 3/50\n",
            "\u001b[1m64/64\u001b[0m \u001b[32m━━━━━━━━━━━━━━━━━━━━\u001b[0m\u001b[37m\u001b[0m \u001b[1m1s\u001b[0m 5ms/step - loss: 1184973.5000 - mae: 577.9633 - val_loss: 820529.2500 - val_mae: 523.0255\n",
            "Epoch 4/50\n",
            "\u001b[1m64/64\u001b[0m \u001b[32m━━━━━━━━━━━━━━━━━━━━\u001b[0m\u001b[37m\u001b[0m \u001b[1m0s\u001b[0m 5ms/step - loss: 1001293.7500 - mae: 520.9812 - val_loss: 623960.6875 - val_mae: 442.1227\n",
            "Epoch 5/50\n",
            "\u001b[1m64/64\u001b[0m \u001b[32m━━━━━━━━━━━━━━━━━━━━\u001b[0m\u001b[37m\u001b[0m \u001b[1m1s\u001b[0m 5ms/step - loss: 776932.6250 - mae: 459.8481 - val_loss: 566164.0625 - val_mae: 400.6242\n",
            "Epoch 6/50\n",
            "\u001b[1m64/64\u001b[0m \u001b[32m━━━━━━━━━━━━━━━━━━━━\u001b[0m\u001b[37m\u001b[0m \u001b[1m0s\u001b[0m 5ms/step - loss: 555914.0625 - mae: 386.2559 - val_loss: 337042.9062 - val_mae: 300.9579\n",
            "Epoch 7/50\n",
            "\u001b[1m64/64\u001b[0m \u001b[32m━━━━━━━━━━━━━━━━━━━━\u001b[0m\u001b[37m\u001b[0m \u001b[1m0s\u001b[0m 6ms/step - loss: 369831.3438 - mae: 312.7285 - val_loss: 181376.9375 - val_mae: 215.8150\n",
            "Epoch 8/50\n",
            "\u001b[1m64/64\u001b[0m \u001b[32m━━━━━━━━━━━━━━━━━━━━\u001b[0m\u001b[37m\u001b[0m \u001b[1m1s\u001b[0m 8ms/step - loss: 220661.4219 - mae: 233.2893 - val_loss: 61328.3711 - val_mae: 122.1767\n",
            "Epoch 9/50\n",
            "\u001b[1m64/64\u001b[0m \u001b[32m━━━━━━━━━━━━━━━━━━━━\u001b[0m\u001b[37m\u001b[0m \u001b[1m1s\u001b[0m 9ms/step - loss: 147749.0156 - mae: 185.9537 - val_loss: 51310.9141 - val_mae: 108.3893\n",
            "Epoch 10/50\n",
            "\u001b[1m64/64\u001b[0m \u001b[32m━━━━━━━━━━━━━━━━━━━━\u001b[0m\u001b[37m\u001b[0m \u001b[1m1s\u001b[0m 9ms/step - loss: 92053.5625 - mae: 142.1288 - val_loss: 51539.2852 - val_mae: 106.3350\n",
            "Epoch 11/50\n",
            "\u001b[1m64/64\u001b[0m \u001b[32m━━━━━━━━━━━━━━━━━━━━\u001b[0m\u001b[37m\u001b[0m \u001b[1m0s\u001b[0m 5ms/step - loss: 80844.2734 - mae: 130.1743 - val_loss: 32434.3340 - val_mae: 85.9187\n",
            "Epoch 12/50\n",
            "\u001b[1m64/64\u001b[0m \u001b[32m━━━━━━━━━━━━━━━━━━━━\u001b[0m\u001b[37m\u001b[0m \u001b[1m1s\u001b[0m 5ms/step - loss: 58169.9531 - mae: 114.6928 - val_loss: 34201.1875 - val_mae: 87.7344\n",
            "Epoch 13/50\n",
            "\u001b[1m64/64\u001b[0m \u001b[32m━━━━━━━━━━━━━━━━━━━━\u001b[0m\u001b[37m\u001b[0m \u001b[1m0s\u001b[0m 5ms/step - loss: 59939.0898 - mae: 115.8606 - val_loss: 44702.8242 - val_mae: 94.9047\n",
            "Epoch 14/50\n",
            "\u001b[1m64/64\u001b[0m \u001b[32m━━━━━━━━━━━━━━━━━━━━\u001b[0m\u001b[37m\u001b[0m \u001b[1m1s\u001b[0m 5ms/step - loss: 59724.9102 - mae: 116.7390 - val_loss: 61439.9531 - val_mae: 98.0513\n",
            "Epoch 15/50\n",
            "\u001b[1m64/64\u001b[0m \u001b[32m━━━━━━━━━━━━━━━━━━━━\u001b[0m\u001b[37m\u001b[0m \u001b[1m1s\u001b[0m 9ms/step - loss: 54673.3438 - mae: 114.2465 - val_loss: 49421.3477 - val_mae: 94.4251\n",
            "Epoch 16/50\n",
            "\u001b[1m64/64\u001b[0m \u001b[32m━━━━━━━━━━━━━━━━━━━━\u001b[0m\u001b[37m\u001b[0m \u001b[1m0s\u001b[0m 5ms/step - loss: 46616.3516 - mae: 105.3610 - val_loss: 47900.6797 - val_mae: 93.5899\n",
            "Epoch 17/50\n",
            "\u001b[1m64/64\u001b[0m \u001b[32m━━━━━━━━━━━━━━━━━━━━\u001b[0m\u001b[37m\u001b[0m \u001b[1m1s\u001b[0m 5ms/step - loss: 44374.5391 - mae: 101.8099 - val_loss: 47513.9141 - val_mae: 91.3006\n",
            "Epoch 18/50\n",
            "\u001b[1m64/64\u001b[0m \u001b[32m━━━━━━━━━━━━━━━━━━━━\u001b[0m\u001b[37m\u001b[0m \u001b[1m1s\u001b[0m 8ms/step - loss: 41940.9102 - mae: 100.8448 - val_loss: 42443.1875 - val_mae: 86.1983\n",
            "Epoch 19/50\n",
            "\u001b[1m64/64\u001b[0m \u001b[32m━━━━━━━━━━━━━━━━━━━━\u001b[0m\u001b[37m\u001b[0m \u001b[1m0s\u001b[0m 5ms/step - loss: 41151.6680 - mae: 99.5132 - val_loss: 38481.9531 - val_mae: 86.2919\n",
            "Epoch 20/50\n",
            "\u001b[1m64/64\u001b[0m \u001b[32m━━━━━━━━━━━━━━━━━━━━\u001b[0m\u001b[37m\u001b[0m \u001b[1m1s\u001b[0m 5ms/step - loss: 45234.7461 - mae: 103.3142 - val_loss: 38856.2461 - val_mae: 81.0058\n",
            "Epoch 21/50\n",
            "\u001b[1m64/64\u001b[0m \u001b[32m━━━━━━━━━━━━━━━━━━━━\u001b[0m\u001b[37m\u001b[0m \u001b[1m0s\u001b[0m 5ms/step - loss: 47813.1680 - mae: 107.3613 - val_loss: 44521.9492 - val_mae: 84.0334\n",
            "\u001b[1m11/11\u001b[0m \u001b[32m━━━━━━━━━━━━━━━━━━━━\u001b[0m\u001b[37m\u001b[0m \u001b[1m0s\u001b[0m 12ms/step\n",
            "MAE per column in the current fold: [251.96216   27.170815  51.839764  12.701962]\n",
            "\n",
            "Average MAE per column:\n",
            "Calories: 228.09\n",
            "Carbohydrates: 26.01\n",
            "Protein: 41.49\n"
          ]
        }
      ]
    },
    {
      "cell_type": "markdown",
      "source": [
        "**Plot Training vs. Validation Loss**"
      ],
      "metadata": {
        "id": "HnYPIe1ULnnt"
      }
    },
    {
      "cell_type": "code",
      "source": [
        "import matplotlib.pyplot as plt\n",
        "\n",
        "plt.figure(figsize=(12, 5))\n",
        "plt.subplot(1, 2, 1)\n",
        "plt.plot(history.history['loss'], label='Training Loss')\n",
        "plt.plot(history.history['val_loss'], label='Validation Loss')\n",
        "plt.xlabel('Epochs')\n",
        "plt.ylabel('Loss (MSE)')\n",
        "plt.title('Training vs Validation Loss')\n",
        "plt.legend()"
      ],
      "metadata": {
        "colab": {
          "base_uri": "https://localhost:8080/",
          "height": 504
        },
        "id": "kcfPYbYmgEv0",
        "outputId": "a6ea5c34-e539-4330-b45f-6b7ca94005df"
      },
      "execution_count": 25,
      "outputs": [
        {
          "output_type": "execute_result",
          "data": {
            "text/plain": [
              "<matplotlib.legend.Legend at 0x791b93801fd0>"
            ]
          },
          "metadata": {},
          "execution_count": 25
        },
        {
          "output_type": "display_data",
          "data": {
            "text/plain": [
              "<Figure size 1200x500 with 1 Axes>"
            ],
            "image/png": "[encoded data removed]"
          },
          "metadata": {}
        }
      ]
    },
    {
      "cell_type": "markdown",
      "source": [
        "**Model Evaluation**"
      ],
      "metadata": {
        "id": "bg-UQ71INoNw"
      }
    },
    {
      "cell_type": "code",
      "source": [
        "y_test_pred = model.predict(X_test_transformed)\n",
        "\n",
        "test_mae = mean_absolute_error(y_test, y_test_pred, multioutput=\"raw_values\")\n",
        "test_mse = mean_squared_error(y_test, y_test_pred, multioutput=\"raw_values\")\n",
        "test_rmse = np.sqrt(test_mse)\n",
        "test_r2 = r2_score(y_test, y_test_pred, multioutput=\"raw_values\")\n",
        "\n",
        "print(\"\\n**Model Performance Comparison vs. Baseline**\")\n",
        "\n",
        "print(\"\\nMAE - Mean Absolute Error:\")\n",
        "print(f\"Random Baseline: {np.round([631.62, 58.01, 82.83], 2)}\")\n",
        "print(f\"Model Performance: {np.round(test_mae, 2)}\")\n",
        "\n",
        "print(\"\\nMSE-Mean Squared Error:\")\n",
        "print(f\"Random Baseline: {np.round([637653.03, 5360.05, 10613.26], 2)}\")\n",
        "print(f\"Model Performance: {np.round(test_mse, 2)}\")\n",
        "\n",
        "print(\"\\nRMSE - Root Mean Squared Error:\")\n",
        "print(f\"Random Baseline: {np.round([798.53, 73.21, 103.02], 2)}\")\n",
        "print(f\"Model Performance: {np.round(test_rmse, 2)}\")\n",
        "\n",
        "print(\"\\nR² - Proportion of Variance Explained by the Model:\")\n",
        "print(f\"Random Baseline: {np.round([-0.94, -0.94, -1.03], 2)}\")\n",
        "print(f\"Model Performance: {np.round(test_r2, 2)}\")\n",
        "\n",
        "print(\"\\nAverage Metric Comparison Between Model and Baseline:\")\n",
        "print(f\"Average Random Baseline MAE: {np.round(257.49, 2)}, Model MAE: {np.round(test_mae.mean(), 2)}\")\n",
        "print(f\"Average Random Baseline MSE: {np.round(217875.45, 2)}, Model MSE: {np.round(test_mse.mean(), 2)}\")\n",
        "print(f\"Average Random Baseline RMSE: {np.round(324.92, 2)}, Model RMSE: {np.round(test_rmse.mean(), 2)}\")\n",
        "print(f\"Average Random Baseline R²: {np.round(-0.97, 2)}, Model R²: {np.round(test_r2.mean(), 2)}\")"
      ],
      "metadata": {
        "id": "X2ZuQhnQLi_2",
        "colab": {
          "base_uri": "https://localhost:8080/"
        },
        "outputId": "99766ae5-c7ce-47f6-d99d-0786cc34daf7"
      },
      "execution_count": 26,
      "outputs": [
        {
          "output_type": "stream",
          "name": "stdout",
          "text": [
            "\u001b[1m11/11\u001b[0m \u001b[32m━━━━━━━━━━━━━━━━━━━━\u001b[0m\u001b[37m\u001b[0m \u001b[1m0s\u001b[0m 4ms/step \n",
            "\n",
            "**Model Performance Comparison vs. Baseline**\n",
            "\n",
            "MAE - Mean Absolute Error:\n",
            "Random Baseline: [631.62  58.01  82.83]\n",
            "Model Performance: [271.54  30.37  52.07  12.64]\n",
            "\n",
            "MSE-Mean Squared Error:\n",
            "Random Baseline: [637653.03   5360.05  10613.26]\n",
            "Model Performance: [147726.73   1575.74   5661.59    358.12]\n",
            "\n",
            "RMSE - Root Mean Squared Error:\n",
            "Random Baseline: [798.53  73.21 103.02]\n",
            "Model Performance: [384.35  39.7   75.24  18.92]\n",
            "\n",
            "R² - Proportion of Variance Explained by the Model:\n",
            "Random Baseline: [-0.94 -0.94 -1.03]\n",
            "Model Performance: [ 0.55  0.47 -0.14  0.23]\n",
            "\n",
            "Average Metric Comparison Between Model and Baseline:\n",
            "Average Random Baseline MAE: 257.49, Model MAE: 91.6500015258789\n",
            "Average Random Baseline MSE: 217875.45, Model MSE: 38830.55078125\n",
            "Average Random Baseline RMSE: 324.92, Model RMSE: 129.5500030517578\n",
            "Average Random Baseline R²: -0.97, Model R²: 0.2800000011920929\n"
          ]
        }
      ]
    },
    {
      "cell_type": "markdown",
      "source": [
        "**Tracking Model Performance Across Runs**"
      ],
      "metadata": {
        "id": "KFx36wK55dBL"
      }
    },
    {
      "cell_type": "code",
      "source": [
        "import os\n",
        "\n",
        "# Define the file to store results\n",
        "results_file = \"model_results.csv\"\n",
        "\n",
        "current_results = {\n",
        "    \"MAE\": np.round(test_mae.mean(), 2),\n",
        "    \"MSE\": np.round(test_mse.mean(), 2),\n",
        "    \"RMSE\": np.round(test_rmse.mean(), 2),\n",
        "    \"R2\": np.round(test_r2.mean(), 2)}\n",
        "\n",
        "if os.path.exists(results_file):\n",
        "    previous_results = pd.read_csv(results_file)\n",
        "\n",
        "    std_results = previous_results.std().round(2)\n",
        "    mean_results = previous_results.mean().round(2)\n",
        "\n",
        "    print(\"\\nComparison with Previous Run:\")\n",
        "    last_run = previous_results.iloc[-1]\n",
        "    for metric in current_results:\n",
        "        prev_value = last_run[metric]\n",
        "        current_value = current_results[metric]\n",
        "        change = current_value - prev_value\n",
        "        print(f\"{metric}: {current_value} (Previous: {prev_value}, Change: {change:+.2f})\")\n",
        "\n",
        "    print(\"\\nHistorical Performance Stats:\")\n",
        "    for metric in current_results:\n",
        "        print(f\"{metric}: Mean = {mean_results[metric]}, Std = {std_results[metric]}\")\n",
        "\n",
        "else:\n",
        "    print(\"\\nNo previous results found. This is the first recorded run.\")\n",
        "\n",
        "# Append new results to the file\n",
        "new_entry = pd.DataFrame([current_results])\n",
        "new_entry.to_csv(results_file, mode='a', header=not os.path.exists(results_file), index=False)\n",
        "\n",
        "print(\"\\nResults saved successfully!\")"
      ],
      "metadata": {
        "colab": {
          "base_uri": "https://localhost:8080/"
        },
        "id": "zNUj7q3f4_jX",
        "outputId": "f8a437fa-5288-42a2-86f3-52bcbd0df132"
      },
      "execution_count": 27,
      "outputs": [
        {
          "output_type": "stream",
          "name": "stdout",
          "text": [
            "\n",
            "No previous results found. This is the first recorded run.\n",
            "\n",
            "Results saved successfully!\n"
          ]
        }
      ]
    }
  ]
}