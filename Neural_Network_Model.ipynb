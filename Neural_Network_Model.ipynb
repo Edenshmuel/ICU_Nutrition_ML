{
  "nbformat": 4,
  "nbformat_minor": 0,
  "metadata": {
    "colab": {
      "provenance": [],
      "authorship_tag": "ABX9TyMvOqHOe9f5iUas2mV1DadP",
      "include_colab_link": true
    },
    "kernelspec": {
      "name": "python3",
      "display_name": "Python 3"
    },
    "language_info": {
      "name": "python"
    }
  },
  "cells": [
    {
      "cell_type": "markdown",
      "metadata": {
        "id": "view-in-github",
        "colab_type": "text"
      },
      "source": [
        "<a href=\"https://colab.research.google.com/github/Edenshmuel/ICU_Nutrition_ML/blob/main/Neural_Network_Model.ipynb\" target=\"_parent\"><img src=\"https://colab.research.google.com/assets/colab-badge.svg\" alt=\"Open In Colab\"/></a>"
      ]
    },
    {
      "cell_type": "markdown",
      "source": [
        "**Loading Preprocessing Pipeline from GitHub**"
      ],
      "metadata": {
        "id": "8RhxfRT5UgLW"
      }
    },
    {
      "cell_type": "code",
      "source": [
        "import requests\n",
        "import nbformat\n",
        "from nbconvert import PythonExporter\n",
        "\n",
        "url = \"https://raw.githubusercontent.com/Edenshmuel/ICU_Nutrition_ML/refs/heads/main/Pipeline.ipynb\"\n",
        "\n",
        "response = requests.get(url)\n",
        "\n",
        "if response.status_code == 200:\n",
        "    notebook_content = response.text\n",
        "    notebook = nbformat.reads(notebook_content, as_version=4)\n",
        "    python_exporter = PythonExporter()\n",
        "    source, _ = python_exporter.from_notebook_node(notebook)\n",
        "    exec(source)\n",
        "\n",
        "    print(\"Pipeline loaded successfully from GitHub!\")\n",
        "else:\n",
        "    print(f\"Failed to fetch notebook: {response.status_code}\")"
      ],
      "metadata": {
        "colab": {
          "base_uri": "https://localhost:8080/"
        },
        "id": "kka4ddEzRxLZ",
        "outputId": "be16ed59-7d51-418f-cd00-cdcee55ad07a"
      },
      "execution_count": 1,
      "outputs": [
        {
          "output_type": "stream",
          "name": "stdout",
          "text": [
            "Pipeline loaded successfully from GitHub!\n"
          ]
        }
      ]
    },
    {
      "cell_type": "markdown",
      "source": [
        "**Importing the Data**"
      ],
      "metadata": {
        "id": "bRzcP5CnmWbU"
      }
    },
    {
      "cell_type": "markdown",
      "source": [
        "Importing Necessary Libraries"
      ],
      "metadata": {
        "id": "yNyvA-Jzl5Tk"
      }
    },
    {
      "cell_type": "code",
      "execution_count": 2,
      "metadata": {
        "id": "4thHdg2IztdQ"
      },
      "outputs": [],
      "source": [
        "import copy\n",
        "import numpy as np\n",
        "import pandas as pd\n",
        "from sklearn.impute import SimpleImputer\n",
        "from sklearn.metrics import mean_absolute_error\n",
        "from sklearn.model_selection import train_test_split"
      ]
    },
    {
      "cell_type": "markdown",
      "source": [
        "Cloning the Project Repository"
      ],
      "metadata": {
        "id": "LtvbgvpZl_MR"
      }
    },
    {
      "cell_type": "code",
      "source": [
        "!git clone https://github.com/Edenshmuel/ICU_Nutrition_ML.git"
      ],
      "metadata": {
        "colab": {
          "base_uri": "https://localhost:8080/"
        },
        "id": "-i810gpGzz2r",
        "outputId": "9d6fbcfd-3dfe-4e01-cc66-ed1d3fc797ce"
      },
      "execution_count": 3,
      "outputs": [
        {
          "output_type": "stream",
          "name": "stdout",
          "text": [
            "Cloning into 'ICU_Nutrition_ML'...\n",
            "remote: Enumerating objects: 52, done.\u001b[K\n",
            "remote: Counting objects: 100% (52/52), done.\u001b[K\n",
            "remote: Compressing objects: 100% (51/51), done.\u001b[K\n",
            "remote: Total 52 (delta 28), reused 0 (delta 0), pack-reused 0 (from 0)\u001b[K\n",
            "Receiving objects: 100% (52/52), 673.61 KiB | 4.01 MiB/s, done.\n",
            "Resolving deltas: 100% (28/28), done.\n"
          ]
        }
      ]
    },
    {
      "cell_type": "markdown",
      "source": [
        "Loading the Dataset"
      ],
      "metadata": {
        "id": "gHccSnnXmFvf"
      }
    },
    {
      "cell_type": "code",
      "source": [
        "df = pd.read_csv(\"https://raw.githubusercontent.com/Edenshmuel/ICU_Nutrition_ML/refs/heads/main/Food_and_Nutrition__.csv\")\n",
        "df.head()"
      ],
      "metadata": {
        "colab": {
          "base_uri": "https://localhost:8080/",
          "height": 573
        },
        "id": "IiK4Bf1oz4GD",
        "outputId": "db19a6d5-b0f4-486e-a155-1e559f70e121"
      },
      "execution_count": 4,
      "outputs": [
        {
          "output_type": "execute_result",
          "data": {
            "text/plain": [
              "   Ages  Gender  Height  Weight     Activity Level Dietary Preference  \\\n",
              "0    25    Male     180      80  Moderately Active           Omnivore   \n",
              "1    32  Female     165      65     Lightly Active         Vegetarian   \n",
              "2    48    Male     175      95          Sedentary              Vegan   \n",
              "3    55  Female     160      70        Very Active           Omnivore   \n",
              "4    62    Male     170      85          Sedentary         Vegetarian   \n",
              "\n",
              "   Daily Calorie Target  Protein  Sugar  Sodium  Calories  Carbohydrates  \\\n",
              "0                  2000      120  125.0    24.0      2020            250   \n",
              "1                  1600       80  100.0    16.0      1480            200   \n",
              "2                  2200      100  150.0    20.0      2185            300   \n",
              "3                  2500      140  175.0    28.0      2680            350   \n",
              "4                  2000       80  125.0    16.0      1815            250   \n",
              "\n",
              "   Fiber  Fat                               Breakfast Suggestion  \\\n",
              "0   30.0   60                      Oatmeal with berries and nuts   \n",
              "1   24.0   40                         Tofu scramble with veggies   \n",
              "2   36.0   65                  Tofu and veggie breakfast burrito   \n",
              "3   42.0   80                Greek yogurt with granola and fruit   \n",
              "4   30.0   55  Scrambled eggs with whole wheat toast and avocado   \n",
              "\n",
              "                             Lunch Suggestion  \\\n",
              "0     Grilled chicken salad with mixed greens   \n",
              "1          Lentil soup with whole wheat bread   \n",
              "2      Black bean burger on a whole wheat bun   \n",
              "3              Chicken and vegetable stir-fry   \n",
              "4  Quinoa salad with chickpeas and vegetables   \n",
              "\n",
              "                    Dinner Suggestion           Snack Suggestion  \\\n",
              "0      Salmon with roasted vegetables    Greek yogurt with fruit   \n",
              "1  Vegetable stir-fry with brown rice   Apple with almond butter   \n",
              "2          Lentil and vegetable curry                  Trail mix   \n",
              "3        Turkey chili with brown rice  Banana with peanut butter   \n",
              "4     Vegetarian chili with cornbread          Fruit and nut mix   \n",
              "\n",
              "                                    Disease  \n",
              "0                               Weight Gain  \n",
              "1  Weight Gain, Hypertension, Heart Disease  \n",
              "2                               Weight Gain  \n",
              "3                               Weight Gain  \n",
              "4                               Weight Gain  "
            ],
            "text/html": [
              "\n",
              "  <div id=\"df-e5e663a2-f99c-446c-9b28-8098f7a0f431\" class=\"colab-df-container\">\n",
              "    <div>\n",
              "<style scoped>\n",
              "    .dataframe tbody tr th:only-of-type {\n",
              "        vertical-align: middle;\n",
              "    }\n",
              "\n",
              "    .dataframe tbody tr th {\n",
              "        vertical-align: top;\n",
              "    }\n",
              "\n",
              "    .dataframe thead th {\n",
              "        text-align: right;\n",
              "    }\n",
              "</style>\n",
              "<table border=\"1\" class=\"dataframe\">\n",
              "  <thead>\n",
              "    <tr style=\"text-align: right;\">\n",
              "      <th></th>\n",
              "      <th>Ages</th>\n",
              "      <th>Gender</th>\n",
              "      <th>Height</th>\n",
              "      <th>Weight</th>\n",
              "      <th>Activity Level</th>\n",
              "      <th>Dietary Preference</th>\n",
              "      <th>Daily Calorie Target</th>\n",
              "      <th>Protein</th>\n",
              "      <th>Sugar</th>\n",
              "      <th>Sodium</th>\n",
              "      <th>Calories</th>\n",
              "      <th>Carbohydrates</th>\n",
              "      <th>Fiber</th>\n",
              "      <th>Fat</th>\n",
              "      <th>Breakfast Suggestion</th>\n",
              "      <th>Lunch Suggestion</th>\n",
              "      <th>Dinner Suggestion</th>\n",
              "      <th>Snack Suggestion</th>\n",
              "      <th>Disease</th>\n",
              "    </tr>\n",
              "  </thead>\n",
              "  <tbody>\n",
              "    <tr>\n",
              "      <th>0</th>\n",
              "      <td>25</td>\n",
              "      <td>Male</td>\n",
              "      <td>180</td>\n",
              "      <td>80</td>\n",
              "      <td>Moderately Active</td>\n",
              "      <td>Omnivore</td>\n",
              "      <td>2000</td>\n",
              "      <td>120</td>\n",
              "      <td>125.0</td>\n",
              "      <td>24.0</td>\n",
              "      <td>2020</td>\n",
              "      <td>250</td>\n",
              "      <td>30.0</td>\n",
              "      <td>60</td>\n",
              "      <td>Oatmeal with berries and nuts</td>\n",
              "      <td>Grilled chicken salad with mixed greens</td>\n",
              "      <td>Salmon with roasted vegetables</td>\n",
              "      <td>Greek yogurt with fruit</td>\n",
              "      <td>Weight Gain</td>\n",
              "    </tr>\n",
              "    <tr>\n",
              "      <th>1</th>\n",
              "      <td>32</td>\n",
              "      <td>Female</td>\n",
              "      <td>165</td>\n",
              "      <td>65</td>\n",
              "      <td>Lightly Active</td>\n",
              "      <td>Vegetarian</td>\n",
              "      <td>1600</td>\n",
              "      <td>80</td>\n",
              "      <td>100.0</td>\n",
              "      <td>16.0</td>\n",
              "      <td>1480</td>\n",
              "      <td>200</td>\n",
              "      <td>24.0</td>\n",
              "      <td>40</td>\n",
              "      <td>Tofu scramble with veggies</td>\n",
              "      <td>Lentil soup with whole wheat bread</td>\n",
              "      <td>Vegetable stir-fry with brown rice</td>\n",
              "      <td>Apple with almond butter</td>\n",
              "      <td>Weight Gain, Hypertension, Heart Disease</td>\n",
              "    </tr>\n",
              "    <tr>\n",
              "      <th>2</th>\n",
              "      <td>48</td>\n",
              "      <td>Male</td>\n",
              "      <td>175</td>\n",
              "      <td>95</td>\n",
              "      <td>Sedentary</td>\n",
              "      <td>Vegan</td>\n",
              "      <td>2200</td>\n",
              "      <td>100</td>\n",
              "      <td>150.0</td>\n",
              "      <td>20.0</td>\n",
              "      <td>2185</td>\n",
              "      <td>300</td>\n",
              "      <td>36.0</td>\n",
              "      <td>65</td>\n",
              "      <td>Tofu and veggie breakfast burrito</td>\n",
              "      <td>Black bean burger on a whole wheat bun</td>\n",
              "      <td>Lentil and vegetable curry</td>\n",
              "      <td>Trail mix</td>\n",
              "      <td>Weight Gain</td>\n",
              "    </tr>\n",
              "    <tr>\n",
              "      <th>3</th>\n",
              "      <td>55</td>\n",
              "      <td>Female</td>\n",
              "      <td>160</td>\n",
              "      <td>70</td>\n",
              "      <td>Very Active</td>\n",
              "      <td>Omnivore</td>\n",
              "      <td>2500</td>\n",
              "      <td>140</td>\n",
              "      <td>175.0</td>\n",
              "      <td>28.0</td>\n",
              "      <td>2680</td>\n",
              "      <td>350</td>\n",
              "      <td>42.0</td>\n",
              "      <td>80</td>\n",
              "      <td>Greek yogurt with granola and fruit</td>\n",
              "      <td>Chicken and vegetable stir-fry</td>\n",
              "      <td>Turkey chili with brown rice</td>\n",
              "      <td>Banana with peanut butter</td>\n",
              "      <td>Weight Gain</td>\n",
              "    </tr>\n",
              "    <tr>\n",
              "      <th>4</th>\n",
              "      <td>62</td>\n",
              "      <td>Male</td>\n",
              "      <td>170</td>\n",
              "      <td>85</td>\n",
              "      <td>Sedentary</td>\n",
              "      <td>Vegetarian</td>\n",
              "      <td>2000</td>\n",
              "      <td>80</td>\n",
              "      <td>125.0</td>\n",
              "      <td>16.0</td>\n",
              "      <td>1815</td>\n",
              "      <td>250</td>\n",
              "      <td>30.0</td>\n",
              "      <td>55</td>\n",
              "      <td>Scrambled eggs with whole wheat toast and avocado</td>\n",
              "      <td>Quinoa salad with chickpeas and vegetables</td>\n",
              "      <td>Vegetarian chili with cornbread</td>\n",
              "      <td>Fruit and nut mix</td>\n",
              "      <td>Weight Gain</td>\n",
              "    </tr>\n",
              "  </tbody>\n",
              "</table>\n",
              "</div>\n",
              "    <div class=\"colab-df-buttons\">\n",
              "\n",
              "  <div class=\"colab-df-container\">\n",
              "    <button class=\"colab-df-convert\" onclick=\"convertToInteractive('df-e5e663a2-f99c-446c-9b28-8098f7a0f431')\"\n",
              "            title=\"Convert this dataframe to an interactive table.\"\n",
              "            style=\"display:none;\">\n",
              "\n",
              "  <svg xmlns=\"http://www.w3.org/2000/svg\" height=\"24px\" viewBox=\"0 -960 960 960\">\n",
              "    <path d=\"M120-120v-720h720v720H120Zm60-500h600v-160H180v160Zm220 220h160v-160H400v160Zm0 220h160v-160H400v160ZM180-400h160v-160H180v160Zm440 0h160v-160H620v160ZM180-180h160v-160H180v160Zm440 0h160v-160H620v160Z\"/>\n",
              "  </svg>\n",
              "    </button>\n",
              "\n",
              "  <style>\n",
              "    .colab-df-container {\n",
              "      display:flex;\n",
              "      gap: 12px;\n",
              "    }\n",
              "\n",
              "    .colab-df-convert {\n",
              "      background-color: #E8F0FE;\n",
              "      border: none;\n",
              "      border-radius: 50%;\n",
              "      cursor: pointer;\n",
              "      display: none;\n",
              "      fill: #1967D2;\n",
              "      height: 32px;\n",
              "      padding: 0 0 0 0;\n",
              "      width: 32px;\n",
              "    }\n",
              "\n",
              "    .colab-df-convert:hover {\n",
              "      background-color: #E2EBFA;\n",
              "      box-shadow: 0px 1px 2px rgba(60, 64, 67, 0.3), 0px 1px 3px 1px rgba(60, 64, 67, 0.15);\n",
              "      fill: #174EA6;\n",
              "    }\n",
              "\n",
              "    .colab-df-buttons div {\n",
              "      margin-bottom: 4px;\n",
              "    }\n",
              "\n",
              "    [theme=dark] .colab-df-convert {\n",
              "      background-color: #3B4455;\n",
              "      fill: #D2E3FC;\n",
              "    }\n",
              "\n",
              "    [theme=dark] .colab-df-convert:hover {\n",
              "      background-color: #434B5C;\n",
              "      box-shadow: 0px 1px 3px 1px rgba(0, 0, 0, 0.15);\n",
              "      filter: drop-shadow(0px 1px 2px rgba(0, 0, 0, 0.3));\n",
              "      fill: #FFFFFF;\n",
              "    }\n",
              "  </style>\n",
              "\n",
              "    <script>\n",
              "      const buttonEl =\n",
              "        document.querySelector('#df-e5e663a2-f99c-446c-9b28-8098f7a0f431 button.colab-df-convert');\n",
              "      buttonEl.style.display =\n",
              "        google.colab.kernel.accessAllowed ? 'block' : 'none';\n",
              "\n",
              "      async function convertToInteractive(key) {\n",
              "        const element = document.querySelector('#df-e5e663a2-f99c-446c-9b28-8098f7a0f431');\n",
              "        const dataTable =\n",
              "          await google.colab.kernel.invokeFunction('convertToInteractive',\n",
              "                                                    [key], {});\n",
              "        if (!dataTable) return;\n",
              "\n",
              "        const docLinkHtml = 'Like what you see? Visit the ' +\n",
              "          '<a target=\"_blank\" href=https://colab.research.google.com/notebooks/data_table.ipynb>data table notebook</a>'\n",
              "          + ' to learn more about interactive tables.';\n",
              "        element.innerHTML = '';\n",
              "        dataTable['output_type'] = 'display_data';\n",
              "        await google.colab.output.renderOutput(dataTable, element);\n",
              "        const docLink = document.createElement('div');\n",
              "        docLink.innerHTML = docLinkHtml;\n",
              "        element.appendChild(docLink);\n",
              "      }\n",
              "    </script>\n",
              "  </div>\n",
              "\n",
              "\n",
              "<div id=\"df-c483be73-ef04-4f51-815d-2f460abe0f49\">\n",
              "  <button class=\"colab-df-quickchart\" onclick=\"quickchart('df-c483be73-ef04-4f51-815d-2f460abe0f49')\"\n",
              "            title=\"Suggest charts\"\n",
              "            style=\"display:none;\">\n",
              "\n",
              "<svg xmlns=\"http://www.w3.org/2000/svg\" height=\"24px\"viewBox=\"0 0 24 24\"\n",
              "     width=\"24px\">\n",
              "    <g>\n",
              "        <path d=\"M19 3H5c-1.1 0-2 .9-2 2v14c0 1.1.9 2 2 2h14c1.1 0 2-.9 2-2V5c0-1.1-.9-2-2-2zM9 17H7v-7h2v7zm4 0h-2V7h2v10zm4 0h-2v-4h2v4z\"/>\n",
              "    </g>\n",
              "</svg>\n",
              "  </button>\n",
              "\n",
              "<style>\n",
              "  .colab-df-quickchart {\n",
              "      --bg-color: #E8F0FE;\n",
              "      --fill-color: #1967D2;\n",
              "      --hover-bg-color: #E2EBFA;\n",
              "      --hover-fill-color: #174EA6;\n",
              "      --disabled-fill-color: #AAA;\n",
              "      --disabled-bg-color: #DDD;\n",
              "  }\n",
              "\n",
              "  [theme=dark] .colab-df-quickchart {\n",
              "      --bg-color: #3B4455;\n",
              "      --fill-color: #D2E3FC;\n",
              "      --hover-bg-color: #434B5C;\n",
              "      --hover-fill-color: #FFFFFF;\n",
              "      --disabled-bg-color: #3B4455;\n",
              "      --disabled-fill-color: #666;\n",
              "  }\n",
              "\n",
              "  .colab-df-quickchart {\n",
              "    background-color: var(--bg-color);\n",
              "    border: none;\n",
              "    border-radius: 50%;\n",
              "    cursor: pointer;\n",
              "    display: none;\n",
              "    fill: var(--fill-color);\n",
              "    height: 32px;\n",
              "    padding: 0;\n",
              "    width: 32px;\n",
              "  }\n",
              "\n",
              "  .colab-df-quickchart:hover {\n",
              "    background-color: var(--hover-bg-color);\n",
              "    box-shadow: 0 1px 2px rgba(60, 64, 67, 0.3), 0 1px 3px 1px rgba(60, 64, 67, 0.15);\n",
              "    fill: var(--button-hover-fill-color);\n",
              "  }\n",
              "\n",
              "  .colab-df-quickchart-complete:disabled,\n",
              "  .colab-df-quickchart-complete:disabled:hover {\n",
              "    background-color: var(--disabled-bg-color);\n",
              "    fill: var(--disabled-fill-color);\n",
              "    box-shadow: none;\n",
              "  }\n",
              "\n",
              "  .colab-df-spinner {\n",
              "    border: 2px solid var(--fill-color);\n",
              "    border-color: transparent;\n",
              "    border-bottom-color: var(--fill-color);\n",
              "    animation:\n",
              "      spin 1s steps(1) infinite;\n",
              "  }\n",
              "\n",
              "  @keyframes spin {\n",
              "    0% {\n",
              "      border-color: transparent;\n",
              "      border-bottom-color: var(--fill-color);\n",
              "      border-left-color: var(--fill-color);\n",
              "    }\n",
              "    20% {\n",
              "      border-color: transparent;\n",
              "      border-left-color: var(--fill-color);\n",
              "      border-top-color: var(--fill-color);\n",
              "    }\n",
              "    30% {\n",
              "      border-color: transparent;\n",
              "      border-left-color: var(--fill-color);\n",
              "      border-top-color: var(--fill-color);\n",
              "      border-right-color: var(--fill-color);\n",
              "    }\n",
              "    40% {\n",
              "      border-color: transparent;\n",
              "      border-right-color: var(--fill-color);\n",
              "      border-top-color: var(--fill-color);\n",
              "    }\n",
              "    60% {\n",
              "      border-color: transparent;\n",
              "      border-right-color: var(--fill-color);\n",
              "    }\n",
              "    80% {\n",
              "      border-color: transparent;\n",
              "      border-right-color: var(--fill-color);\n",
              "      border-bottom-color: var(--fill-color);\n",
              "    }\n",
              "    90% {\n",
              "      border-color: transparent;\n",
              "      border-bottom-color: var(--fill-color);\n",
              "    }\n",
              "  }\n",
              "</style>\n",
              "\n",
              "  <script>\n",
              "    async function quickchart(key) {\n",
              "      const quickchartButtonEl =\n",
              "        document.querySelector('#' + key + ' button');\n",
              "      quickchartButtonEl.disabled = true;  // To prevent multiple clicks.\n",
              "      quickchartButtonEl.classList.add('colab-df-spinner');\n",
              "      try {\n",
              "        const charts = await google.colab.kernel.invokeFunction(\n",
              "            'suggestCharts', [key], {});\n",
              "      } catch (error) {\n",
              "        console.error('Error during call to suggestCharts:', error);\n",
              "      }\n",
              "      quickchartButtonEl.classList.remove('colab-df-spinner');\n",
              "      quickchartButtonEl.classList.add('colab-df-quickchart-complete');\n",
              "    }\n",
              "    (() => {\n",
              "      let quickchartButtonEl =\n",
              "        document.querySelector('#df-c483be73-ef04-4f51-815d-2f460abe0f49 button');\n",
              "      quickchartButtonEl.style.display =\n",
              "        google.colab.kernel.accessAllowed ? 'block' : 'none';\n",
              "    })();\n",
              "  </script>\n",
              "</div>\n",
              "\n",
              "    </div>\n",
              "  </div>\n"
            ],
            "application/vnd.google.colaboratory.intrinsic+json": {
              "type": "dataframe",
              "variable_name": "df",
              "summary": "{\n  \"name\": \"df\",\n  \"rows\": 1698,\n  \"fields\": [\n    {\n      \"column\": \"Ages\",\n      \"properties\": {\n        \"dtype\": \"number\",\n        \"std\": 15,\n        \"min\": 18,\n        \"max\": 79,\n        \"num_unique_values\": 62,\n        \"samples\": [\n          26,\n          43,\n          25\n        ],\n        \"semantic_type\": \"\",\n        \"description\": \"\"\n      }\n    },\n    {\n      \"column\": \"Gender\",\n      \"properties\": {\n        \"dtype\": \"category\",\n        \"num_unique_values\": 2,\n        \"samples\": [\n          \"Female\",\n          \"Male\"\n        ],\n        \"semantic_type\": \"\",\n        \"description\": \"\"\n      }\n    },\n    {\n      \"column\": \"Height\",\n      \"properties\": {\n        \"dtype\": \"number\",\n        \"std\": 13,\n        \"min\": 150,\n        \"max\": 200,\n        \"num_unique_values\": 51,\n        \"samples\": [\n          159,\n          189\n        ],\n        \"semantic_type\": \"\",\n        \"description\": \"\"\n      }\n    },\n    {\n      \"column\": \"Weight\",\n      \"properties\": {\n        \"dtype\": \"number\",\n        \"std\": 16,\n        \"min\": 48,\n        \"max\": 119,\n        \"num_unique_values\": 71,\n        \"samples\": [\n          115,\n          80\n        ],\n        \"semantic_type\": \"\",\n        \"description\": \"\"\n      }\n    },\n    {\n      \"column\": \"Activity Level\",\n      \"properties\": {\n        \"dtype\": \"category\",\n        \"num_unique_values\": 5,\n        \"samples\": [\n          \"Lightly Active\",\n          \"Extremely Active\"\n        ],\n        \"semantic_type\": \"\",\n        \"description\": \"\"\n      }\n    },\n    {\n      \"column\": \"Dietary Preference\",\n      \"properties\": {\n        \"dtype\": \"category\",\n        \"num_unique_values\": 4,\n        \"samples\": [\n          \"Vegetarian\",\n          \"Pescatarian\"\n        ],\n        \"semantic_type\": \"\",\n        \"description\": \"\"\n      }\n    },\n    {\n      \"column\": \"Daily Calorie Target\",\n      \"properties\": {\n        \"dtype\": \"number\",\n        \"std\": 558,\n        \"min\": 1200,\n        \"max\": 4364,\n        \"num_unique_values\": 895,\n        \"samples\": [\n          1782,\n          1828\n        ],\n        \"semantic_type\": \"\",\n        \"description\": \"\"\n      }\n    },\n    {\n      \"column\": \"Protein\",\n      \"properties\": {\n        \"dtype\": \"number\",\n        \"std\": 53,\n        \"min\": 50,\n        \"max\": 327,\n        \"num_unique_values\": 231,\n        \"samples\": [\n          272,\n          72\n        ],\n        \"semantic_type\": \"\",\n        \"description\": \"\"\n      }\n    },\n    {\n      \"column\": \"Sugar\",\n      \"properties\": {\n        \"dtype\": \"number\",\n        \"std\": 34.93890219462492,\n        \"min\": 60.0,\n        \"max\": 218.0,\n        \"num_unique_values\": 276,\n        \"samples\": [\n          158.0,\n          172.0\n        ],\n        \"semantic_type\": \"\",\n        \"description\": \"\"\n      }\n    },\n    {\n      \"column\": \"Sodium\",\n      \"properties\": {\n        \"dtype\": \"number\",\n        \"std\": 10.6653176771373,\n        \"min\": 10.0,\n        \"max\": 65.4,\n        \"num_unique_values\": 231,\n        \"samples\": [\n          54.4,\n          14.4\n        ],\n        \"semantic_type\": \"\",\n        \"description\": \"\"\n      }\n    },\n    {\n      \"column\": \"Calories\",\n      \"properties\": {\n        \"dtype\": \"number\",\n        \"std\": 571,\n        \"min\": 990,\n        \"max\": 4357,\n        \"num_unique_values\": 759,\n        \"samples\": [\n          1698,\n          1804\n        ],\n        \"semantic_type\": \"\",\n        \"description\": \"\"\n      }\n    },\n    {\n      \"column\": \"Carbohydrates\",\n      \"properties\": {\n        \"dtype\": \"number\",\n        \"std\": 69,\n        \"min\": 120,\n        \"max\": 436,\n        \"num_unique_values\": 276,\n        \"samples\": [\n          316,\n          344\n        ],\n        \"semantic_type\": \"\",\n        \"description\": \"\"\n      }\n    },\n    {\n      \"column\": \"Fiber\",\n      \"properties\": {\n        \"dtype\": \"number\",\n        \"std\": 8.385336526709985,\n        \"min\": 14.4,\n        \"max\": 52.32,\n        \"num_unique_values\": 276,\n        \"samples\": [\n          37.92,\n          41.28\n        ],\n        \"semantic_type\": \"\",\n        \"description\": \"\"\n      }\n    },\n    {\n      \"column\": \"Fat\",\n      \"properties\": {\n        \"dtype\": \"number\",\n        \"std\": 21,\n        \"min\": 30,\n        \"max\": 145,\n        \"num_unique_values\": 103,\n        \"samples\": [\n          82,\n          87\n        ],\n        \"semantic_type\": \"\",\n        \"description\": \"\"\n      }\n    },\n    {\n      \"column\": \"Breakfast Suggestion\",\n      \"properties\": {\n        \"dtype\": \"category\",\n        \"num_unique_values\": 121,\n        \"samples\": [\n          \"Scrambled tofu with whole-wheat toast and avocado\",\n          \"Tofu and vegetable scramble with whole wheat toast\"\n        ],\n        \"semantic_type\": \"\",\n        \"description\": \"\"\n      }\n    },\n    {\n      \"column\": \"Lunch Suggestion\",\n      \"properties\": {\n        \"dtype\": \"category\",\n        \"num_unique_values\": 190,\n        \"samples\": [\n          \"Tuna salad sandwich on whole grain bread\",\n          \"Vegan chili with whole wheat bread\"\n        ],\n        \"semantic_type\": \"\",\n        \"description\": \"\"\n      }\n    },\n    {\n      \"column\": \"Dinner Suggestion\",\n      \"properties\": {\n        \"dtype\": \"category\",\n        \"num_unique_values\": 177,\n        \"samples\": [\n          \"Tofu stir-fry with brown rice and vegetables\",\n          \"Tuna with quinoa and roasted vegetables\"\n        ],\n        \"semantic_type\": \"\",\n        \"description\": \"\"\n      }\n    },\n    {\n      \"column\": \"Snack Suggestion\",\n      \"properties\": {\n        \"dtype\": \"category\",\n        \"num_unique_values\": 112,\n        \"samples\": [\n          \"Greek yogurt with berries\",\n          \"Fruit with yogurt\"\n        ],\n        \"semantic_type\": \"\",\n        \"description\": \"\"\n      }\n    },\n    {\n      \"column\": \"Disease\",\n      \"properties\": {\n        \"dtype\": \"category\",\n        \"num_unique_values\": 13,\n        \"samples\": [\n          \"Diabetes, Acne, Weight Gain, Hypertension, Heart Disease\",\n          \"Hypertension, Heart Disease\"\n        ],\n        \"semantic_type\": \"\",\n        \"description\": \"\"\n      }\n    }\n  ]\n}"
            }
          },
          "metadata": {},
          "execution_count": 4
        }
      ]
    },
    {
      "cell_type": "markdown",
      "source": [
        "**Data Preprocessing**"
      ],
      "metadata": {
        "id": "lTDAYOWv2M-D"
      }
    },
    {
      "cell_type": "markdown",
      "source": [
        "Categorize Features: Numerical, Categorical, and Skewed Columns"
      ],
      "metadata": {
        "id": "Moj4Hxel0G5i"
      }
    },
    {
      "cell_type": "code",
      "source": [
        "numerical_features = [\"Ages\", \"Height\", \"Weight\", \"Fiber\"]\n",
        "categorical_features = [\"Gender\", \"Dietary Preference\"]"
      ],
      "metadata": {
        "id": "8nZG7Cdn0EEN"
      },
      "execution_count": 5,
      "outputs": []
    },
    {
      "cell_type": "markdown",
      "source": [
        "Features identified as right-skewed from EDA. Applying log transformation"
      ],
      "metadata": {
        "id": "eAMFK6Zm-dWw"
      }
    },
    {
      "cell_type": "code",
      "source": [
        "right_skewed_features = [\"Sodium\"]"
      ],
      "metadata": {
        "id": "I9j7YtCS-esj"
      },
      "execution_count": 6,
      "outputs": []
    },
    {
      "cell_type": "markdown",
      "source": [
        "To ensure consistency, we remove diseases that appear only once, as they cause mismatched features between training and test sets and provide no learning value for the model"
      ],
      "metadata": {
        "id": "mPhKnevhv0QU"
      }
    },
    {
      "cell_type": "code",
      "source": [
        "from collections import Counter\n",
        "\n",
        "df[\"Disease_Split\"] = df[\"Disease\"].astype(str).str.split(\", \")\n",
        "\n",
        "all_diseases = [disease for sublist in df[\"Disease_Split\"] for disease in sublist]\n",
        "disease_counts = Counter(all_diseases)\n",
        "\n",
        "print(\"Single disease count:\")\n",
        "for disease, count in disease_counts.items():\n",
        "    print(f\"{disease}: {count}\")\n",
        "\n",
        "rare_diseases = [disease for disease, count in disease_counts.items() if count < 2]\n",
        "\n",
        "print(\"\\nRare diseases (appear less than 2 times):\")\n",
        "print(rare_diseases)"
      ],
      "metadata": {
        "colab": {
          "base_uri": "https://localhost:8080/"
        },
        "id": "ZDjQz0Je2f4H",
        "outputId": "5c47eca0-a087-47bc-e87a-26e6d4483153"
      },
      "execution_count": 7,
      "outputs": [
        {
          "output_type": "stream",
          "name": "stdout",
          "text": [
            "Single disease count:\n",
            "Weight Gain: 1664\n",
            "Hypertension: 292\n",
            "Heart Disease: 289\n",
            "Kidney Disease: 189\n",
            "Diabetes: 66\n",
            "Acne: 66\n",
            "Weight Loss: 1\n",
            "\n",
            "Rare diseases (appear less than 2 times):\n",
            "['Weight Loss']\n"
          ]
        }
      ]
    },
    {
      "cell_type": "code",
      "source": [
        "df = df[~df[\"Disease\"].str.contains(\"Weight Loss\", na=False)]"
      ],
      "metadata": {
        "id": "fpK9WiKT3hc2"
      },
      "execution_count": 8,
      "outputs": []
    },
    {
      "cell_type": "code",
      "source": [
        "Multy_categorical_features = [\"Disease\"]"
      ],
      "metadata": {
        "id": "Ug8XqT-dR-2U"
      },
      "execution_count": 9,
      "outputs": []
    },
    {
      "cell_type": "code",
      "source": [
        "X = df.drop(columns=[\"Daily Calorie Target\", \"Protein\", \"Carbohydrates\",\"Fat\"])\n",
        "y = df[[\"Daily Calorie Target\", \"Protein\", \"Carbohydrates\",\"Fat\"]]"
      ],
      "metadata": {
        "id": "wJK4I6TH4K_H"
      },
      "execution_count": 10,
      "outputs": []
    },
    {
      "cell_type": "markdown",
      "source": [
        "Prevent Data Leakage: Remove Columns That Contain Target Information"
      ],
      "metadata": {
        "id": "5NBNeGu1yvlK"
      }
    },
    {
      "cell_type": "code",
      "source": [
        "X = df.drop(columns=[\"Calories\"])"
      ],
      "metadata": {
        "id": "4zbgxTs4y1M5"
      },
      "execution_count": 11,
      "outputs": []
    },
    {
      "cell_type": "markdown",
      "source": [
        "Removing Non-Contributing Columns"
      ],
      "metadata": {
        "id": "4ZOl8kIay9IK"
      }
    },
    {
      "cell_type": "code",
      "source": [
        "columns_to_remove = [\"Sugar\", \"Breakfast Suggestion\", \"Lunch Suggestion\",\n",
        "                     \"Dinner Suggestion\", \"Snack Suggestion\"]\n",
        "\n",
        "X = df.drop(columns=columns_to_remove)"
      ],
      "metadata": {
        "id": "yOM-UgfBzAJ6"
      },
      "execution_count": 12,
      "outputs": []
    },
    {
      "cell_type": "markdown",
      "source": [
        "Analysis showed that keeping 'Sodium' and 'Fiber' significantly reduced the model's error, so I decided to keep them"
      ],
      "metadata": {
        "id": "TAu22t5pzDRN"
      }
    },
    {
      "cell_type": "markdown",
      "source": [
        "**Splitting the Data**"
      ],
      "metadata": {
        "id": "TxXjVCZ58s1m"
      }
    },
    {
      "cell_type": "code",
      "source": [
        "X_train, X_test, y_train, y_test = train_test_split(X, y, test_size=0.2, random_state=42)\n",
        "\n",
        "print(f\"Train: {X_train.shape}, Test: {X_test.shape}\")\n",
        "print(f\"Y Train: {y_train.shape}, Y Test: {y_test.shape}\")"
      ],
      "metadata": {
        "colab": {
          "base_uri": "https://localhost:8080/"
        },
        "id": "jHtj51Ycy9zR",
        "outputId": "d1343ebb-7261-4f20-d1ee-b075fb621c30"
      },
      "execution_count": 13,
      "outputs": [
        {
          "output_type": "stream",
          "name": "stdout",
          "text": [
            "Train: (1357, 15), Test: (340, 15)\n",
            "Y Train: (1357, 4), Y Test: (340, 4)\n"
          ]
        }
      ]
    },
    {
      "cell_type": "markdown",
      "source": [
        "**Apply the Pipeline**"
      ],
      "metadata": {
        "id": "IBZVCqBg8zSj"
      }
    },
    {
      "cell_type": "code",
      "source": [
        "preprocessor = create_preprocessor(numerical_features,categorical_features, right_skewed_features,\n",
        "                                   Multy_categorical_features)\n"
      ],
      "metadata": {
        "id": "NfiTwCvmSGzm"
      },
      "execution_count": 14,
      "outputs": []
    },
    {
      "cell_type": "code",
      "source": [
        "X_train_transformed = preprocessor.fit_transform(X_train)\n",
        "X_test_transformed = preprocessor.transform(X_test)"
      ],
      "metadata": {
        "id": "8Zs-iBFX8u5w"
      },
      "execution_count": 15,
      "outputs": []
    },
    {
      "cell_type": "code",
      "source": [
        "print(f\"Training Data Processed: {X_train_transformed.shape} (Rows, Features)\")\n",
        "print(f\"Test Data Processed: {X_test_transformed.shape} (Rows, Features)\")"
      ],
      "metadata": {
        "colab": {
          "base_uri": "https://localhost:8080/"
        },
        "id": "YHMPqcLA9ST1",
        "outputId": "d8450cd2-8029-4355-a8a1-b963fd9ab299"
      },
      "execution_count": 16,
      "outputs": [
        {
          "output_type": "stream",
          "name": "stdout",
          "text": [
            "Training Data Processed: (1357, 18) (Rows, Features)\n",
            "Test Data Processed: (340, 18) (Rows, Features)\n"
          ]
        }
      ]
    },
    {
      "cell_type": "markdown",
      "source": [
        "**Baseline Model**"
      ],
      "metadata": {
        "id": "wGOkqBZLFtLN"
      }
    },
    {
      "cell_type": "markdown",
      "source": [
        "A baseline model is created by randomly shuffling the target values to compare the neural network's performance against a naive prediction"
      ],
      "metadata": {
        "id": "M1f8omGXxdiC"
      }
    },
    {
      "cell_type": "code",
      "source": [
        "from sklearn.metrics import mean_absolute_error\n",
        "from sklearn.metrics import mean_squared_error\n",
        "from sklearn.metrics import r2_score"
      ],
      "metadata": {
        "id": "sgncaWp3W7Kh"
      },
      "execution_count": 17,
      "outputs": []
    },
    {
      "cell_type": "code",
      "source": [
        "y_test_copy = np.array(copy.deepcopy(y_test))\n",
        "\n",
        "np.random.shuffle(y_test_copy)\n",
        "\n",
        "random_baseline_mae = mean_absolute_error(y_test, y_test_copy, multioutput=\"raw_values\")\n",
        "random_baseline_mse = mean_squared_error(y_test, y_test_copy, multioutput=\"raw_values\")\n",
        "random_baseline_rmse = np.sqrt(random_baseline_mse)\n",
        "random_baseline_r2 = r2_score(y_test, y_test_copy, multioutput=\"raw_values\")\n",
        "\n",
        "print(f\"Random Baseline MAE per target: {random_baseline_mae}\")\n",
        "print(f\"Average Random Baseline MAE: {random_baseline_mae.mean():.2f}\")\n",
        "\n",
        "print(f\"Random Baseline MSE per target: {random_baseline_mse}\")\n",
        "print(f\"Average Random Baseline MSE: {random_baseline_mse.mean():.2f}\")\n",
        "\n",
        "print(f\"Random Baseline RMSE per target: {random_baseline_rmse}\")\n",
        "print(f\"Average Random Baseline RMSE: {random_baseline_rmse.mean():.2f}\")\n",
        "\n",
        "print(f\"Random Baseline R² per target: {random_baseline_r2}\")\n",
        "print(f\"Average Random Baseline R²: {random_baseline_r2.mean():.2f}\")"
      ],
      "metadata": {
        "colab": {
          "base_uri": "https://localhost:8080/"
        },
        "id": "NSPDEmFe9X5X",
        "outputId": "d5b0eaf6-f9ea-4f8a-9ed0-f0bb32a49197"
      },
      "execution_count": 18,
      "outputs": [
        {
          "output_type": "stream",
          "name": "stdout",
          "text": [
            "Random Baseline MAE per target: [657.70588235  62.3         78.88235294  24.37647059]\n",
            "Average Random Baseline MAE: 205.82\n",
            "Random Baseline MSE per target: [674459.39411765   6188.25882353   9400.41176471    933.00588235]\n",
            "Average Random Baseline MSE: 172745.27\n",
            "Random Baseline RMSE per target: [821.25476809  78.66548686  96.95572064  30.54514499]\n",
            "Average Random Baseline RMSE: 256.86\n",
            "Random Baseline R² per target: [-1.06406659 -1.07697881 -0.88944363 -1.01208274]\n",
            "Average Random Baseline R²: -1.01\n"
          ]
        }
      ]
    },
    {
      "cell_type": "markdown",
      "source": [
        "**Neural Network Model**"
      ],
      "metadata": {
        "id": "oS2QS2_mIovg"
      }
    },
    {
      "cell_type": "markdown",
      "source": [
        "This section defines and trains a neural network using K-Fold cross-validation. The model includes batch normalization, dropout, L2 regularization, and an exponentially decaying learning rate. The Mean Absolute Error (MAE) is calculated for each fold and averaged across all folds\n",
        "\n"
      ],
      "metadata": {
        "id": "0v3cDuBTxUHT"
      }
    },
    {
      "cell_type": "code",
      "source": [
        "#!pip install scikit-learn==1.3.1"
      ],
      "metadata": {
        "id": "auG_U4rz0F8N"
      },
      "execution_count": 19,
      "outputs": []
    },
    {
      "cell_type": "code",
      "source": [
        "!pip install --upgrade scikit-learn scikeras --quiet"
      ],
      "metadata": {
        "id": "FDzqg0_C0Xtp"
      },
      "execution_count": 20,
      "outputs": []
    },
    {
      "cell_type": "code",
      "source": [
        "import tensorflow as tf\n",
        "from tensorflow.keras.models import Sequential\n",
        "from tensorflow.keras.optimizers import Adam\n",
        "from tensorflow.keras.regularizers import l2\n",
        "from sklearn.model_selection import KFold, cross_val_score\n",
        "from tensorflow.keras.callbacks import EarlyStopping, ReduceLROnPlateau\n",
        "from scikeras.wrappers import KerasRegressor\n",
        "from tensorflow.keras.optimizers.schedules import ExponentialDecay\n",
        "from tensorflow.keras.layers import Dense, Dropout, BatchNormalization, Activation"
      ],
      "metadata": {
        "id": "NDnvwLumCmgl"
      },
      "execution_count": 21,
      "outputs": []
    },
    {
      "cell_type": "code",
      "source": [
        "y_train_np = y_train.to_numpy()"
      ],
      "metadata": {
        "id": "ST7Z4aRM4onY"
      },
      "execution_count": 22,
      "outputs": []
    },
    {
      "cell_type": "code",
      "source": [
        "lr_schedule = ExponentialDecay(initial_learning_rate=0.01, decay_steps=1000, decay_rate=0.96, staircase=True)"
      ],
      "metadata": {
        "id": "Otvhm2GK6TDX"
      },
      "execution_count": 23,
      "outputs": []
    },
    {
      "cell_type": "code",
      "source": [
        "def build_model():\n",
        "    model = Sequential([\n",
        "        Dense(128, kernel_regularizer=l2(0.01), input_shape=(X_train_transformed.shape[1],)),\n",
        "        BatchNormalization(),\n",
        "        Activation('relu'),\n",
        "        Dropout(0.2),\n",
        "\n",
        "        Dense(64, kernel_regularizer=l2(0.01)),\n",
        "        BatchNormalization(),\n",
        "        Activation('relu'),\n",
        "        Dropout(0.2),\n",
        "\n",
        "        Dense(32, kernel_regularizer=l2(0.01)),\n",
        "        BatchNormalization(),\n",
        "        Activation('relu'),\n",
        "        Dropout(0.2),\n",
        "\n",
        "        Dense(y_train.shape[1], activation='linear')\n",
        "    ])\n",
        "\n",
        "    lr_schedule = ExponentialDecay(\n",
        "        initial_learning_rate=0.01,\n",
        "        decay_steps=1000,\n",
        "        decay_rate=0.96\n",
        "    )\n",
        "\n",
        "    optimizer = Adam(learning_rate=lr_schedule)\n",
        "    model.compile(optimizer=optimizer, loss='mse', metrics=['mae'])\n",
        "\n",
        "    return model"
      ],
      "metadata": {
        "id": "39w_1vE2Zu5K"
      },
      "execution_count": 24,
      "outputs": []
    },
    {
      "cell_type": "code",
      "source": [
        "kfold = KFold(n_splits=4, shuffle=True, random_state=42)\n",
        "\n",
        "mae_per_column = []\n",
        "\n",
        "early_stopping = EarlyStopping(monitor='val_loss', patience=10, restore_best_weights=True)\n",
        "\n",
        "for train_idx, val_idx in kfold.split(X_train_transformed):\n",
        "    X_train_fold, X_val_fold = X_train_transformed[train_idx], X_train_transformed[val_idx]\n",
        "    y_train_fold, y_val_fold = y_train_np[train_idx], y_train_np[val_idx]\n",
        "\n",
        "    model = build_model()\n",
        "\n",
        "    history = model.fit(X_train_fold, y_train_fold, epochs=50, batch_size=16, verbose=1,\n",
        "                        validation_data=(X_val_fold, y_val_fold), callbacks=[early_stopping])\n",
        "\n",
        "    y_val_pred = model.predict(X_val_fold)\n",
        "\n",
        "    fold_mae_per_column = mean_absolute_error(y_val_fold, y_val_pred, multioutput=\"raw_values\")\n",
        "\n",
        "    mae_per_column.append(fold_mae_per_column)\n",
        "\n",
        "    print(f\"MAE per column in the current fold: {fold_mae_per_column}\")\n",
        "\n",
        "mae_per_column = np.array(mae_per_column)\n",
        "\n",
        "mean_mae_per_column = mae_per_column.mean(axis=0)\n",
        "\n",
        "print(\"\\nAverage MAE per column:\")\n",
        "for i, col_name in enumerate([\"Calories\", \"Carbohydrates\", \"Protein\"]):\n",
        "    print(f\"{col_name}: {mean_mae_per_column[i]:.2f}\")"
      ],
      "metadata": {
        "colab": {
          "base_uri": "https://localhost:8080/"
        },
        "id": "toCYnSH3mLjH",
        "outputId": "30883b6b-eb84-41c4-bee9-05b96ede8690"
      },
      "execution_count": 25,
      "outputs": [
        {
          "output_type": "stream",
          "name": "stderr",
          "text": [
            "/usr/local/lib/python3.11/dist-packages/keras/src/layers/core/dense.py:87: UserWarning: Do not pass an `input_shape`/`input_dim` argument to a layer. When using Sequential models, prefer using an `Input(shape)` object as the first layer in the model instead.\n",
            "  super().__init__(activity_regularizer=activity_regularizer, **kwargs)\n"
          ]
        },
        {
          "output_type": "stream",
          "name": "stdout",
          "text": [
            "Epoch 1/50\n",
            "\u001b[1m64/64\u001b[0m \u001b[32m━━━━━━━━━━━━━━━━━━━━\u001b[0m\u001b[37m\u001b[0m \u001b[1m15s\u001b[0m 33ms/step - loss: 1355094.5000 - mae: 672.7913 - val_loss: 1321648.8750 - val_mae: 633.4374\n",
            "Epoch 2/50\n",
            "\u001b[1m64/64\u001b[0m \u001b[32m━━━━━━━━━━━━━━━━━━━━\u001b[0m\u001b[37m\u001b[0m \u001b[1m1s\u001b[0m 9ms/step - loss: 1281915.8750 - mae: 635.0579 - val_loss: 1090422.8750 - val_mae: 565.4197\n",
            "Epoch 3/50\n",
            "\u001b[1m64/64\u001b[0m \u001b[32m━━━━━━━━━━━━━━━━━━━━\u001b[0m\u001b[37m\u001b[0m \u001b[1m1s\u001b[0m 7ms/step - loss: 1183794.1250 - mae: 577.7488 - val_loss: 823190.0000 - val_mae: 536.5154\n",
            "Epoch 4/50\n",
            "\u001b[1m64/64\u001b[0m \u001b[32m━━━━━━━━━━━━━━━━━━━━\u001b[0m\u001b[37m\u001b[0m \u001b[1m1s\u001b[0m 10ms/step - loss: 972965.6250 - mae: 519.3069 - val_loss: 663866.5625 - val_mae: 463.6658\n",
            "Epoch 5/50\n",
            "\u001b[1m64/64\u001b[0m \u001b[32m━━━━━━━━━━━━━━━━━━━━\u001b[0m\u001b[37m\u001b[0m \u001b[1m1s\u001b[0m 10ms/step - loss: 781441.3750 - mae: 467.3939 - val_loss: 389755.8438 - val_mae: 347.1311\n",
            "Epoch 6/50\n",
            "\u001b[1m64/64\u001b[0m \u001b[32m━━━━━━━━━━━━━━━━━━━━\u001b[0m\u001b[37m\u001b[0m \u001b[1m1s\u001b[0m 7ms/step - loss: 575898.6875 - mae: 396.4801 - val_loss: 407761.4688 - val_mae: 326.2298\n",
            "Epoch 7/50\n",
            "\u001b[1m64/64\u001b[0m \u001b[32m━━━━━━━━━━━━━━━━━━━━\u001b[0m\u001b[37m\u001b[0m \u001b[1m0s\u001b[0m 4ms/step - loss: 378279.5000 - mae: 313.5824 - val_loss: 196059.3438 - val_mae: 222.1101\n",
            "Epoch 8/50\n",
            "\u001b[1m64/64\u001b[0m \u001b[32m━━━━━━━━━━━━━━━━━━━━\u001b[0m\u001b[37m\u001b[0m \u001b[1m1s\u001b[0m 5ms/step - loss: 235555.3750 - mae: 240.7843 - val_loss: 170169.4062 - val_mae: 202.8110\n",
            "Epoch 9/50\n",
            "\u001b[1m64/64\u001b[0m \u001b[32m━━━━━━━━━━━━━━━━━━━━\u001b[0m\u001b[37m\u001b[0m \u001b[1m0s\u001b[0m 4ms/step - loss: 150887.3438 - mae: 185.4808 - val_loss: 105442.3203 - val_mae: 150.5872\n",
            "Epoch 10/50\n",
            "\u001b[1m64/64\u001b[0m \u001b[32m━━━━━━━━━━━━━━━━━━━━\u001b[0m\u001b[37m\u001b[0m \u001b[1m1s\u001b[0m 4ms/step - loss: 126365.7266 - mae: 165.2654 - val_loss: 45302.1680 - val_mae: 95.9079\n",
            "Epoch 11/50\n",
            "\u001b[1m64/64\u001b[0m \u001b[32m━━━━━━━━━━━━━━━━━━━━\u001b[0m\u001b[37m\u001b[0m \u001b[1m1s\u001b[0m 7ms/step - loss: 87929.6719 - mae: 140.3423 - val_loss: 30132.3496 - val_mae: 79.0420\n",
            "Epoch 12/50\n",
            "\u001b[1m64/64\u001b[0m \u001b[32m━━━━━━━━━━━━━━━━━━━━\u001b[0m\u001b[37m\u001b[0m \u001b[1m1s\u001b[0m 7ms/step - loss: 67215.3281 - mae: 124.1660 - val_loss: 31233.7617 - val_mae: 76.4738\n",
            "Epoch 13/50\n",
            "\u001b[1m64/64\u001b[0m \u001b[32m━━━━━━━━━━━━━━━━━━━━\u001b[0m\u001b[37m\u001b[0m \u001b[1m1s\u001b[0m 8ms/step - loss: 47257.6641 - mae: 105.8918 - val_loss: 28077.4297 - val_mae: 75.8225\n",
            "Epoch 14/50\n",
            "\u001b[1m64/64\u001b[0m \u001b[32m━━━━━━━━━━━━━━━━━━━━\u001b[0m\u001b[37m\u001b[0m \u001b[1m1s\u001b[0m 8ms/step - loss: 47583.7539 - mae: 106.6127 - val_loss: 29727.9609 - val_mae: 76.2983\n",
            "Epoch 15/50\n",
            "\u001b[1m64/64\u001b[0m \u001b[32m━━━━━━━━━━━━━━━━━━━━\u001b[0m\u001b[37m\u001b[0m \u001b[1m1s\u001b[0m 6ms/step - loss: 42836.1992 - mae: 101.1842 - val_loss: 31762.9023 - val_mae: 82.3064\n",
            "Epoch 16/50\n",
            "\u001b[1m64/64\u001b[0m \u001b[32m━━━━━━━━━━━━━━━━━━━━\u001b[0m\u001b[37m\u001b[0m \u001b[1m1s\u001b[0m 6ms/step - loss: 47896.8477 - mae: 103.4351 - val_loss: 29363.4766 - val_mae: 79.0314\n",
            "Epoch 17/50\n",
            "\u001b[1m64/64\u001b[0m \u001b[32m━━━━━━━━━━━━━━━━━━━━\u001b[0m\u001b[37m\u001b[0m \u001b[1m1s\u001b[0m 4ms/step - loss: 45960.0586 - mae: 102.6243 - val_loss: 32489.6328 - val_mae: 86.5617\n",
            "Epoch 18/50\n",
            "\u001b[1m64/64\u001b[0m \u001b[32m━━━━━━━━━━━━━━━━━━━━\u001b[0m\u001b[37m\u001b[0m \u001b[1m1s\u001b[0m 4ms/step - loss: 46386.5859 - mae: 105.5287 - val_loss: 30118.9961 - val_mae: 82.3543\n",
            "Epoch 19/50\n",
            "\u001b[1m64/64\u001b[0m \u001b[32m━━━━━━━━━━━━━━━━━━━━\u001b[0m\u001b[37m\u001b[0m \u001b[1m0s\u001b[0m 4ms/step - loss: 45683.4961 - mae: 106.2711 - val_loss: 26311.6113 - val_mae: 73.9984\n",
            "Epoch 20/50\n",
            "\u001b[1m64/64\u001b[0m \u001b[32m━━━━━━━━━━━━━━━━━━━━\u001b[0m\u001b[37m\u001b[0m \u001b[1m0s\u001b[0m 4ms/step - loss: 42213.7070 - mae: 103.1231 - val_loss: 26826.4238 - val_mae: 74.0612\n",
            "Epoch 21/50\n",
            "\u001b[1m64/64\u001b[0m \u001b[32m━━━━━━━━━━━━━━━━━━━━\u001b[0m\u001b[37m\u001b[0m \u001b[1m0s\u001b[0m 4ms/step - loss: 43161.5586 - mae: 100.4902 - val_loss: 27233.7734 - val_mae: 71.9006\n",
            "Epoch 22/50\n",
            "\u001b[1m64/64\u001b[0m \u001b[32m━━━━━━━━━━━━━━━━━━━━\u001b[0m\u001b[37m\u001b[0m \u001b[1m0s\u001b[0m 4ms/step - loss: 43554.4648 - mae: 100.6118 - val_loss: 28372.5527 - val_mae: 74.8315\n",
            "Epoch 23/50\n",
            "\u001b[1m64/64\u001b[0m \u001b[32m━━━━━━━━━━━━━━━━━━━━\u001b[0m\u001b[37m\u001b[0m \u001b[1m0s\u001b[0m 4ms/step - loss: 41621.6328 - mae: 98.3131 - val_loss: 30252.8906 - val_mae: 78.5907\n",
            "Epoch 24/50\n",
            "\u001b[1m64/64\u001b[0m \u001b[32m━━━━━━━━━━━━━━━━━━━━\u001b[0m\u001b[37m\u001b[0m \u001b[1m0s\u001b[0m 4ms/step - loss: 47457.4766 - mae: 107.6719 - val_loss: 31039.6211 - val_mae: 80.2577\n",
            "Epoch 25/50\n",
            "\u001b[1m64/64\u001b[0m \u001b[32m━━━━━━━━━━━━━━━━━━━━\u001b[0m\u001b[37m\u001b[0m \u001b[1m0s\u001b[0m 4ms/step - loss: 41691.8906 - mae: 99.3554 - val_loss: 27067.0332 - val_mae: 73.4002\n",
            "Epoch 26/50\n",
            "\u001b[1m64/64\u001b[0m \u001b[32m━━━━━━━━━━━━━━━━━━━━\u001b[0m\u001b[37m\u001b[0m \u001b[1m1s\u001b[0m 4ms/step - loss: 38726.5508 - mae: 96.4825 - val_loss: 28128.5801 - val_mae: 75.3030\n",
            "Epoch 27/50\n",
            "\u001b[1m64/64\u001b[0m \u001b[32m━━━━━━━━━━━━━━━━━━━━\u001b[0m\u001b[37m\u001b[0m \u001b[1m0s\u001b[0m 4ms/step - loss: 44217.7930 - mae: 103.1314 - val_loss: 33097.8555 - val_mae: 81.9958\n",
            "Epoch 28/50\n",
            "\u001b[1m64/64\u001b[0m \u001b[32m━━━━━━━━━━━━━━━━━━━━\u001b[0m\u001b[37m\u001b[0m \u001b[1m0s\u001b[0m 4ms/step - loss: 38887.5938 - mae: 96.1474 - val_loss: 28697.0410 - val_mae: 72.4332\n",
            "Epoch 29/50\n",
            "\u001b[1m64/64\u001b[0m \u001b[32m━━━━━━━━━━━━━━━━━━━━\u001b[0m\u001b[37m\u001b[0m \u001b[1m0s\u001b[0m 5ms/step - loss: 43659.5391 - mae: 101.9868 - val_loss: 30689.1641 - val_mae: 79.1210\n",
            "\u001b[1m11/11\u001b[0m \u001b[32m━━━━━━━━━━━━━━━━━━━━\u001b[0m\u001b[37m\u001b[0m \u001b[1m0s\u001b[0m 12ms/step\n",
            "MAE per column in the current fold: [226.64307   24.472708  35.503838   9.374143]\n",
            "Epoch 1/50\n"
          ]
        },
        {
          "output_type": "stream",
          "name": "stderr",
          "text": [
            "/usr/local/lib/python3.11/dist-packages/keras/src/layers/core/dense.py:87: UserWarning: Do not pass an `input_shape`/`input_dim` argument to a layer. When using Sequential models, prefer using an `Input(shape)` object as the first layer in the model instead.\n",
            "  super().__init__(activity_regularizer=activity_regularizer, **kwargs)\n"
          ]
        },
        {
          "output_type": "stream",
          "name": "stdout",
          "text": [
            "\u001b[1m64/64\u001b[0m \u001b[32m━━━━━━━━━━━━━━━━━━━━\u001b[0m\u001b[37m\u001b[0m \u001b[1m4s\u001b[0m 16ms/step - loss: 1411131.2500 - mae: 684.6390 - val_loss: 1310818.0000 - val_mae: 640.3821\n",
            "Epoch 2/50\n",
            "\u001b[1m64/64\u001b[0m \u001b[32m━━━━━━━━━━━━━━━━━━━━\u001b[0m\u001b[37m\u001b[0m \u001b[1m1s\u001b[0m 8ms/step - loss: 1296318.1250 - mae: 635.8987 - val_loss: 1127868.0000 - val_mae: 554.2177\n",
            "Epoch 3/50\n",
            "\u001b[1m64/64\u001b[0m \u001b[32m━━━━━━━━━━━━━━━━━━━━\u001b[0m\u001b[37m\u001b[0m \u001b[1m0s\u001b[0m 7ms/step - loss: 1146127.1250 - mae: 567.1896 - val_loss: 904903.7500 - val_mae: 506.0820\n",
            "Epoch 4/50\n",
            "\u001b[1m64/64\u001b[0m \u001b[32m━━━━━━━━━━━━━━━━━━━━\u001b[0m\u001b[37m\u001b[0m \u001b[1m1s\u001b[0m 7ms/step - loss: 1001108.8750 - mae: 525.9969 - val_loss: 544826.0000 - val_mae: 434.2303\n",
            "Epoch 5/50\n",
            "\u001b[1m64/64\u001b[0m \u001b[32m━━━━━━━━━━━━━━━━━━━━\u001b[0m\u001b[37m\u001b[0m \u001b[1m0s\u001b[0m 4ms/step - loss: 771906.1250 - mae: 464.4747 - val_loss: 403892.5938 - val_mae: 350.0915\n",
            "Epoch 6/50\n",
            "\u001b[1m64/64\u001b[0m \u001b[32m━━━━━━━━━━━━━━━━━━━━\u001b[0m\u001b[37m\u001b[0m \u001b[1m0s\u001b[0m 4ms/step - loss: 566337.6875 - mae: 392.6319 - val_loss: 256956.7188 - val_mae: 268.5247\n",
            "Epoch 7/50\n",
            "\u001b[1m64/64\u001b[0m \u001b[32m━━━━━━━━━━━━━━━━━━━━\u001b[0m\u001b[37m\u001b[0m \u001b[1m0s\u001b[0m 5ms/step - loss: 374925.6250 - mae: 315.7349 - val_loss: 192414.2656 - val_mae: 211.6572\n",
            "Epoch 8/50\n",
            "\u001b[1m64/64\u001b[0m \u001b[32m━━━━━━━━━━━━━━━━━━━━\u001b[0m\u001b[37m\u001b[0m \u001b[1m1s\u001b[0m 4ms/step - loss: 225472.0625 - mae: 234.9360 - val_loss: 79931.6562 - val_mae: 145.2006\n",
            "Epoch 9/50\n",
            "\u001b[1m64/64\u001b[0m \u001b[32m━━━━━━━━━━━━━━━━━━━━\u001b[0m\u001b[37m\u001b[0m \u001b[1m1s\u001b[0m 4ms/step - loss: 148600.3750 - mae: 188.0237 - val_loss: 42341.4766 - val_mae: 101.8456\n",
            "Epoch 10/50\n",
            "\u001b[1m64/64\u001b[0m \u001b[32m━━━━━━━━━━━━━━━━━━━━\u001b[0m\u001b[37m\u001b[0m \u001b[1m0s\u001b[0m 4ms/step - loss: 91221.8359 - mae: 143.7312 - val_loss: 38608.6094 - val_mae: 95.4189\n",
            "Epoch 11/50\n",
            "\u001b[1m64/64\u001b[0m \u001b[32m━━━━━━━━━━━━━━━━━━━━\u001b[0m\u001b[37m\u001b[0m \u001b[1m0s\u001b[0m 4ms/step - loss: 65811.6562 - mae: 124.1723 - val_loss: 28773.7969 - val_mae: 77.9518\n",
            "Epoch 12/50\n",
            "\u001b[1m64/64\u001b[0m \u001b[32m━━━━━━━━━━━━━━━━━━━━\u001b[0m\u001b[37m\u001b[0m \u001b[1m0s\u001b[0m 5ms/step - loss: 52491.8633 - mae: 111.0240 - val_loss: 35449.9648 - val_mae: 86.9961\n",
            "Epoch 13/50\n",
            "\u001b[1m64/64\u001b[0m \u001b[32m━━━━━━━━━━━━━━━━━━━━\u001b[0m\u001b[37m\u001b[0m \u001b[1m1s\u001b[0m 4ms/step - loss: 46249.2344 - mae: 103.6517 - val_loss: 27362.8672 - val_mae: 71.8688\n",
            "Epoch 14/50\n",
            "\u001b[1m64/64\u001b[0m \u001b[32m━━━━━━━━━━━━━━━━━━━━\u001b[0m\u001b[37m\u001b[0m \u001b[1m0s\u001b[0m 4ms/step - loss: 47738.1602 - mae: 105.8992 - val_loss: 30562.8027 - val_mae: 76.9859\n",
            "Epoch 15/50\n",
            "\u001b[1m64/64\u001b[0m \u001b[32m━━━━━━━━━━━━━━━━━━━━\u001b[0m\u001b[37m\u001b[0m \u001b[1m1s\u001b[0m 4ms/step - loss: 45823.4258 - mae: 103.4891 - val_loss: 31089.2793 - val_mae: 75.7591\n",
            "Epoch 16/50\n",
            "\u001b[1m64/64\u001b[0m \u001b[32m━━━━━━━━━━━━━━━━━━━━\u001b[0m\u001b[37m\u001b[0m \u001b[1m0s\u001b[0m 6ms/step - loss: 48967.9805 - mae: 106.7546 - val_loss: 32103.1348 - val_mae: 78.4656\n",
            "Epoch 17/50\n",
            "\u001b[1m64/64\u001b[0m \u001b[32m━━━━━━━━━━━━━━━━━━━━\u001b[0m\u001b[37m\u001b[0m \u001b[1m1s\u001b[0m 4ms/step - loss: 45202.5898 - mae: 105.2362 - val_loss: 26621.1562 - val_mae: 78.1717\n",
            "Epoch 18/50\n",
            "\u001b[1m64/64\u001b[0m \u001b[32m━━━━━━━━━━━━━━━━━━━━\u001b[0m\u001b[37m\u001b[0m \u001b[1m0s\u001b[0m 5ms/step - loss: 39828.6719 - mae: 96.8923 - val_loss: 26342.8340 - val_mae: 71.5731\n",
            "Epoch 19/50\n",
            "\u001b[1m64/64\u001b[0m \u001b[32m━━━━━━━━━━━━━━━━━━━━\u001b[0m\u001b[37m\u001b[0m \u001b[1m1s\u001b[0m 4ms/step - loss: 41995.7305 - mae: 99.1506 - val_loss: 30115.3008 - val_mae: 76.6795\n",
            "Epoch 20/50\n",
            "\u001b[1m64/64\u001b[0m \u001b[32m━━━━━━━━━━━━━━━━━━━━\u001b[0m\u001b[37m\u001b[0m \u001b[1m0s\u001b[0m 4ms/step - loss: 43676.3398 - mae: 102.5214 - val_loss: 24764.4551 - val_mae: 69.9859\n",
            "Epoch 21/50\n",
            "\u001b[1m64/64\u001b[0m \u001b[32m━━━━━━━━━━━━━━━━━━━━\u001b[0m\u001b[37m\u001b[0m \u001b[1m0s\u001b[0m 5ms/step - loss: 44071.9141 - mae: 102.3103 - val_loss: 24535.8516 - val_mae: 69.6865\n",
            "Epoch 22/50\n",
            "\u001b[1m64/64\u001b[0m \u001b[32m━━━━━━━━━━━━━━━━━━━━\u001b[0m\u001b[37m\u001b[0m \u001b[1m0s\u001b[0m 4ms/step - loss: 44842.3242 - mae: 102.3696 - val_loss: 30411.3418 - val_mae: 77.4885\n",
            "Epoch 23/50\n",
            "\u001b[1m64/64\u001b[0m \u001b[32m━━━━━━━━━━━━━━━━━━━━\u001b[0m\u001b[37m\u001b[0m \u001b[1m0s\u001b[0m 5ms/step - loss: 41489.3164 - mae: 100.4148 - val_loss: 24718.6777 - val_mae: 69.2334\n",
            "Epoch 24/50\n",
            "\u001b[1m64/64\u001b[0m \u001b[32m━━━━━━━━━━━━━━━━━━━━\u001b[0m\u001b[37m\u001b[0m \u001b[1m0s\u001b[0m 4ms/step - loss: 44272.6953 - mae: 103.0320 - val_loss: 28964.4609 - val_mae: 75.4562\n",
            "Epoch 25/50\n",
            "\u001b[1m64/64\u001b[0m \u001b[32m━━━━━━━━━━━━━━━━━━━━\u001b[0m\u001b[37m\u001b[0m \u001b[1m0s\u001b[0m 4ms/step - loss: 44864.4688 - mae: 104.1876 - val_loss: 27599.9648 - val_mae: 76.1684\n",
            "Epoch 26/50\n",
            "\u001b[1m64/64\u001b[0m \u001b[32m━━━━━━━━━━━━━━━━━━━━\u001b[0m\u001b[37m\u001b[0m \u001b[1m1s\u001b[0m 4ms/step - loss: 39380.5078 - mae: 97.4199 - val_loss: 26590.0215 - val_mae: 71.8185\n",
            "Epoch 27/50\n",
            "\u001b[1m64/64\u001b[0m \u001b[32m━━━━━━━━━━━━━━━━━━━━\u001b[0m\u001b[37m\u001b[0m \u001b[1m0s\u001b[0m 5ms/step - loss: 44791.9648 - mae: 102.6020 - val_loss: 26894.8457 - val_mae: 71.3823\n",
            "Epoch 28/50\n",
            "\u001b[1m64/64\u001b[0m \u001b[32m━━━━━━━━━━━━━━━━━━━━\u001b[0m\u001b[37m\u001b[0m \u001b[1m0s\u001b[0m 4ms/step - loss: 38621.4609 - mae: 96.8793 - val_loss: 29398.0449 - val_mae: 83.1073\n",
            "Epoch 29/50\n",
            "\u001b[1m64/64\u001b[0m \u001b[32m━━━━━━━━━━━━━━━━━━━━\u001b[0m\u001b[37m\u001b[0m \u001b[1m0s\u001b[0m 4ms/step - loss: 37075.9258 - mae: 92.1603 - val_loss: 27200.8398 - val_mae: 75.8070\n",
            "Epoch 30/50\n",
            "\u001b[1m64/64\u001b[0m \u001b[32m━━━━━━━━━━━━━━━━━━━━\u001b[0m\u001b[37m\u001b[0m \u001b[1m0s\u001b[0m 6ms/step - loss: 42323.9336 - mae: 100.5555 - val_loss: 29831.8379 - val_mae: 79.0852\n",
            "Epoch 31/50\n",
            "\u001b[1m64/64\u001b[0m \u001b[32m━━━━━━━━━━━━━━━━━━━━\u001b[0m\u001b[37m\u001b[0m \u001b[1m1s\u001b[0m 8ms/step - loss: 41282.2266 - mae: 99.2290 - val_loss: 26568.6348 - val_mae: 69.1238\n",
            "\u001b[1m11/11\u001b[0m \u001b[32m━━━━━━━━━━━━━━━━━━━━\u001b[0m\u001b[37m\u001b[0m \u001b[1m0s\u001b[0m 18ms/step\n",
            "MAE per column in the current fold: [210.3297    25.008417  34.142727   9.264891]\n",
            "Epoch 1/50\n"
          ]
        },
        {
          "output_type": "stream",
          "name": "stderr",
          "text": [
            "/usr/local/lib/python3.11/dist-packages/keras/src/layers/core/dense.py:87: UserWarning: Do not pass an `input_shape`/`input_dim` argument to a layer. When using Sequential models, prefer using an `Input(shape)` object as the first layer in the model instead.\n",
            "  super().__init__(activity_regularizer=activity_regularizer, **kwargs)\n"
          ]
        },
        {
          "output_type": "stream",
          "name": "stdout",
          "text": [
            "\u001b[1m64/64\u001b[0m \u001b[32m━━━━━━━━━━━━━━━━━━━━\u001b[0m\u001b[37m\u001b[0m \u001b[1m4s\u001b[0m 9ms/step - loss: 1357020.6250 - mae: 673.8914 - val_loss: 1343473.3750 - val_mae: 640.3907\n",
            "Epoch 2/50\n",
            "\u001b[1m64/64\u001b[0m \u001b[32m━━━━━━━━━━━━━━━━━━━━\u001b[0m\u001b[37m\u001b[0m \u001b[1m0s\u001b[0m 5ms/step - loss: 1293698.3750 - mae: 637.5333 - val_loss: 1190737.8750 - val_mae: 574.7110\n",
            "Epoch 3/50\n",
            "\u001b[1m64/64\u001b[0m \u001b[32m━━━━━━━━━━━━━━━━━━━━\u001b[0m\u001b[37m\u001b[0m \u001b[1m0s\u001b[0m 5ms/step - loss: 1166765.8750 - mae: 576.5245 - val_loss: 898637.1250 - val_mae: 538.9564\n",
            "Epoch 4/50\n",
            "\u001b[1m64/64\u001b[0m \u001b[32m━━━━━━━━━━━━━━━━━━━━\u001b[0m\u001b[37m\u001b[0m \u001b[1m0s\u001b[0m 5ms/step - loss: 1003443.3750 - mae: 529.7695 - val_loss: 673960.8125 - val_mae: 449.1015\n",
            "Epoch 5/50\n",
            "\u001b[1m64/64\u001b[0m \u001b[32m━━━━━━━━━━━━━━━━━━━━\u001b[0m\u001b[37m\u001b[0m \u001b[1m0s\u001b[0m 5ms/step - loss: 766188.3750 - mae: 463.4398 - val_loss: 502638.8125 - val_mae: 386.6733\n",
            "Epoch 6/50\n",
            "\u001b[1m64/64\u001b[0m \u001b[32m━━━━━━━━━━━━━━━━━━━━\u001b[0m\u001b[37m\u001b[0m \u001b[1m0s\u001b[0m 5ms/step - loss: 559622.3750 - mae: 391.0229 - val_loss: 347571.2188 - val_mae: 314.9310\n",
            "Epoch 7/50\n",
            "\u001b[1m64/64\u001b[0m \u001b[32m━━━━━━━━━━━━━━━━━━━━\u001b[0m\u001b[37m\u001b[0m \u001b[1m0s\u001b[0m 5ms/step - loss: 387138.5312 - mae: 321.8220 - val_loss: 228563.9844 - val_mae: 239.5697\n",
            "Epoch 8/50\n",
            "\u001b[1m64/64\u001b[0m \u001b[32m━━━━━━━━━━━━━━━━━━━━\u001b[0m\u001b[37m\u001b[0m \u001b[1m1s\u001b[0m 4ms/step - loss: 231118.1250 - mae: 240.5166 - val_loss: 155558.1875 - val_mae: 192.0207\n",
            "Epoch 9/50\n",
            "\u001b[1m64/64\u001b[0m \u001b[32m━━━━━━━━━━━━━━━━━━━━\u001b[0m\u001b[37m\u001b[0m \u001b[1m0s\u001b[0m 5ms/step - loss: 161442.7344 - mae: 189.9396 - val_loss: 110116.4141 - val_mae: 158.2096\n",
            "Epoch 10/50\n",
            "\u001b[1m64/64\u001b[0m \u001b[32m━━━━━━━━━━━━━━━━━━━━\u001b[0m\u001b[37m\u001b[0m \u001b[1m1s\u001b[0m 5ms/step - loss: 104059.8203 - mae: 154.5296 - val_loss: 45528.5469 - val_mae: 108.4596\n",
            "Epoch 11/50\n",
            "\u001b[1m64/64\u001b[0m \u001b[32m━━━━━━━━━━━━━━━━━━━━\u001b[0m\u001b[37m\u001b[0m \u001b[1m0s\u001b[0m 5ms/step - loss: 75042.1953 - mae: 130.3812 - val_loss: 39316.9922 - val_mae: 95.8405\n",
            "Epoch 12/50\n",
            "\u001b[1m64/64\u001b[0m \u001b[32m━━━━━━━━━━━━━━━━━━━━\u001b[0m\u001b[37m\u001b[0m \u001b[1m1s\u001b[0m 4ms/step - loss: 52519.8008 - mae: 109.0749 - val_loss: 43432.6680 - val_mae: 91.2702\n",
            "Epoch 13/50\n",
            "\u001b[1m64/64\u001b[0m \u001b[32m━━━━━━━━━━━━━━━━━━━━\u001b[0m\u001b[37m\u001b[0m \u001b[1m0s\u001b[0m 4ms/step - loss: 49075.9766 - mae: 108.6510 - val_loss: 27279.0996 - val_mae: 75.4781\n",
            "Epoch 14/50\n",
            "\u001b[1m64/64\u001b[0m \u001b[32m━━━━━━━━━━━━━━━━━━━━\u001b[0m\u001b[37m\u001b[0m \u001b[1m0s\u001b[0m 4ms/step - loss: 49968.3242 - mae: 110.9010 - val_loss: 34750.1992 - val_mae: 81.6678\n",
            "Epoch 15/50\n",
            "\u001b[1m64/64\u001b[0m \u001b[32m━━━━━━━━━━━━━━━━━━━━\u001b[0m\u001b[37m\u001b[0m \u001b[1m0s\u001b[0m 4ms/step - loss: 46163.6523 - mae: 105.8980 - val_loss: 41052.9453 - val_mae: 91.2001\n",
            "Epoch 16/50\n",
            "\u001b[1m64/64\u001b[0m \u001b[32m━━━━━━━━━━━━━━━━━━━━\u001b[0m\u001b[37m\u001b[0m \u001b[1m0s\u001b[0m 4ms/step - loss: 47111.7344 - mae: 106.4280 - val_loss: 31813.7109 - val_mae: 76.5178\n",
            "Epoch 17/50\n",
            "\u001b[1m64/64\u001b[0m \u001b[32m━━━━━━━━━━━━━━━━━━━━\u001b[0m\u001b[37m\u001b[0m \u001b[1m0s\u001b[0m 5ms/step - loss: 43289.9922 - mae: 101.2468 - val_loss: 28786.9180 - val_mae: 75.1833\n",
            "Epoch 18/50\n",
            "\u001b[1m64/64\u001b[0m \u001b[32m━━━━━━━━━━━━━━━━━━━━\u001b[0m\u001b[37m\u001b[0m \u001b[1m1s\u001b[0m 8ms/step - loss: 51878.3789 - mae: 110.0977 - val_loss: 28828.2129 - val_mae: 73.1876\n",
            "Epoch 19/50\n",
            "\u001b[1m64/64\u001b[0m \u001b[32m━━━━━━━━━━━━━━━━━━━━\u001b[0m\u001b[37m\u001b[0m \u001b[1m1s\u001b[0m 7ms/step - loss: 43586.0859 - mae: 101.8957 - val_loss: 28841.2266 - val_mae: 72.0842\n",
            "Epoch 20/50\n",
            "\u001b[1m64/64\u001b[0m \u001b[32m━━━━━━━━━━━━━━━━━━━━\u001b[0m\u001b[37m\u001b[0m \u001b[1m1s\u001b[0m 7ms/step - loss: 39846.1094 - mae: 96.8805 - val_loss: 32386.5215 - val_mae: 76.0480\n",
            "Epoch 21/50\n",
            "\u001b[1m64/64\u001b[0m \u001b[32m━━━━━━━━━━━━━━━━━━━━\u001b[0m\u001b[37m\u001b[0m \u001b[1m0s\u001b[0m 7ms/step - loss: 40734.2188 - mae: 101.0553 - val_loss: 46937.9922 - val_mae: 90.7223\n",
            "Epoch 22/50\n",
            "\u001b[1m64/64\u001b[0m \u001b[32m━━━━━━━━━━━━━━━━━━━━\u001b[0m\u001b[37m\u001b[0m \u001b[1m0s\u001b[0m 4ms/step - loss: 43639.3555 - mae: 103.7131 - val_loss: 40704.7695 - val_mae: 89.6333\n",
            "Epoch 23/50\n",
            "\u001b[1m64/64\u001b[0m \u001b[32m━━━━━━━━━━━━━━━━━━━━\u001b[0m\u001b[37m\u001b[0m \u001b[1m0s\u001b[0m 4ms/step - loss: 45537.4961 - mae: 104.9315 - val_loss: 37669.1094 - val_mae: 85.0592\n",
            "\u001b[1m11/11\u001b[0m \u001b[32m━━━━━━━━━━━━━━━━━━━━\u001b[0m\u001b[37m\u001b[0m \u001b[1m0s\u001b[0m 12ms/step\n",
            "MAE per column in the current fold: [225.65274   28.076216  37.832726  10.350927]\n",
            "Epoch 1/50\n"
          ]
        },
        {
          "output_type": "stream",
          "name": "stderr",
          "text": [
            "/usr/local/lib/python3.11/dist-packages/keras/src/layers/core/dense.py:87: UserWarning: Do not pass an `input_shape`/`input_dim` argument to a layer. When using Sequential models, prefer using an `Input(shape)` object as the first layer in the model instead.\n",
            "  super().__init__(activity_regularizer=activity_regularizer, **kwargs)\n"
          ]
        },
        {
          "output_type": "stream",
          "name": "stdout",
          "text": [
            "\u001b[1m64/64\u001b[0m \u001b[32m━━━━━━━━━━━━━━━━━━━━\u001b[0m\u001b[37m\u001b[0m \u001b[1m4s\u001b[0m 9ms/step - loss: 1385671.0000 - mae: 680.5981 - val_loss: 1292414.3750 - val_mae: 630.4210\n",
            "Epoch 2/50\n",
            "\u001b[1m64/64\u001b[0m \u001b[32m━━━━━━━━━━━━━━━━━━━━\u001b[0m\u001b[37m\u001b[0m \u001b[1m0s\u001b[0m 4ms/step - loss: 1393485.6250 - mae: 662.7885 - val_loss: 1098249.1250 - val_mae: 554.5653\n",
            "Epoch 3/50\n",
            "\u001b[1m64/64\u001b[0m \u001b[32m━━━━━━━━━━━━━━━━━━━━\u001b[0m\u001b[37m\u001b[0m \u001b[1m0s\u001b[0m 5ms/step - loss: 1202968.2500 - mae: 584.5421 - val_loss: 865870.4375 - val_mae: 522.6569\n",
            "Epoch 4/50\n",
            "\u001b[1m64/64\u001b[0m \u001b[32m━━━━━━━━━━━━━━━━━━━━\u001b[0m\u001b[37m\u001b[0m \u001b[1m0s\u001b[0m 5ms/step - loss: 1006600.2500 - mae: 529.1570 - val_loss: 681850.5000 - val_mae: 452.1584\n",
            "Epoch 5/50\n",
            "\u001b[1m64/64\u001b[0m \u001b[32m━━━━━━━━━━━━━━━━━━━━\u001b[0m\u001b[37m\u001b[0m \u001b[1m0s\u001b[0m 4ms/step - loss: 769481.0625 - mae: 462.3840 - val_loss: 389679.4375 - val_mae: 340.0210\n",
            "Epoch 6/50\n",
            "\u001b[1m64/64\u001b[0m \u001b[32m━━━━━━━━━━━━━━━━━━━━\u001b[0m\u001b[37m\u001b[0m \u001b[1m0s\u001b[0m 4ms/step - loss: 550813.8125 - mae: 387.7951 - val_loss: 377962.2500 - val_mae: 313.4534\n",
            "Epoch 7/50\n",
            "\u001b[1m64/64\u001b[0m \u001b[32m━━━━━━━━━━━━━━━━━━━━\u001b[0m\u001b[37m\u001b[0m \u001b[1m0s\u001b[0m 5ms/step - loss: 358697.6875 - mae: 308.5956 - val_loss: 238805.8125 - val_mae: 242.0892\n",
            "Epoch 8/50\n",
            "\u001b[1m64/64\u001b[0m \u001b[32m━━━━━━━━━━━━━━━━━━━━\u001b[0m\u001b[37m\u001b[0m \u001b[1m1s\u001b[0m 5ms/step - loss: 223220.5781 - mae: 237.7742 - val_loss: 155835.9531 - val_mae: 188.6321\n",
            "Epoch 9/50\n",
            "\u001b[1m64/64\u001b[0m \u001b[32m━━━━━━━━━━━━━━━━━━━━\u001b[0m\u001b[37m\u001b[0m \u001b[1m0s\u001b[0m 5ms/step - loss: 163433.9375 - mae: 191.7589 - val_loss: 99110.7266 - val_mae: 146.9988\n",
            "Epoch 10/50\n",
            "\u001b[1m64/64\u001b[0m \u001b[32m━━━━━━━━━━━━━━━━━━━━\u001b[0m\u001b[37m\u001b[0m \u001b[1m1s\u001b[0m 4ms/step - loss: 125047.9141 - mae: 163.4887 - val_loss: 58709.5273 - val_mae: 114.1831\n",
            "Epoch 11/50\n",
            "\u001b[1m64/64\u001b[0m \u001b[32m━━━━━━━━━━━━━━━━━━━━\u001b[0m\u001b[37m\u001b[0m \u001b[1m0s\u001b[0m 5ms/step - loss: 94763.7969 - mae: 140.5505 - val_loss: 52303.2852 - val_mae: 105.6337\n",
            "Epoch 12/50\n",
            "\u001b[1m64/64\u001b[0m \u001b[32m━━━━━━━━━━━━━━━━━━━━\u001b[0m\u001b[37m\u001b[0m \u001b[1m1s\u001b[0m 4ms/step - loss: 70344.4219 - mae: 124.3695 - val_loss: 41960.3086 - val_mae: 94.2389\n",
            "Epoch 13/50\n",
            "\u001b[1m64/64\u001b[0m \u001b[32m━━━━━━━━━━━━━━━━━━━━\u001b[0m\u001b[37m\u001b[0m \u001b[1m0s\u001b[0m 4ms/step - loss: 56371.5078 - mae: 113.7097 - val_loss: 39128.8047 - val_mae: 88.4754\n",
            "Epoch 14/50\n",
            "\u001b[1m64/64\u001b[0m \u001b[32m━━━━━━━━━━━━━━━━━━━━\u001b[0m\u001b[37m\u001b[0m \u001b[1m0s\u001b[0m 5ms/step - loss: 47449.7930 - mae: 104.7359 - val_loss: 34781.8594 - val_mae: 88.2818\n",
            "Epoch 15/50\n",
            "\u001b[1m64/64\u001b[0m \u001b[32m━━━━━━━━━━━━━━━━━━━━\u001b[0m\u001b[37m\u001b[0m \u001b[1m0s\u001b[0m 5ms/step - loss: 43470.7695 - mae: 100.4094 - val_loss: 34442.6562 - val_mae: 82.7835\n",
            "Epoch 16/50\n",
            "\u001b[1m64/64\u001b[0m \u001b[32m━━━━━━━━━━━━━━━━━━━━\u001b[0m\u001b[37m\u001b[0m \u001b[1m1s\u001b[0m 6ms/step - loss: 43223.2148 - mae: 101.8651 - val_loss: 40299.1250 - val_mae: 90.9149\n",
            "Epoch 17/50\n",
            "\u001b[1m64/64\u001b[0m \u001b[32m━━━━━━━━━━━━━━━━━━━━\u001b[0m\u001b[37m\u001b[0m \u001b[1m1s\u001b[0m 8ms/step - loss: 43582.7617 - mae: 102.3740 - val_loss: 33585.6133 - val_mae: 83.6026\n",
            "Epoch 18/50\n",
            "\u001b[1m64/64\u001b[0m \u001b[32m━━━━━━━━━━━━━━━━━━━━\u001b[0m\u001b[37m\u001b[0m \u001b[1m1s\u001b[0m 8ms/step - loss: 45036.5938 - mae: 103.1543 - val_loss: 29340.7852 - val_mae: 79.3440\n",
            "Epoch 19/50\n",
            "\u001b[1m64/64\u001b[0m \u001b[32m━━━━━━━━━━━━━━━━━━━━\u001b[0m\u001b[37m\u001b[0m \u001b[1m0s\u001b[0m 5ms/step - loss: 44035.7344 - mae: 104.2616 - val_loss: 26646.4492 - val_mae: 75.5265\n",
            "Epoch 20/50\n",
            "\u001b[1m64/64\u001b[0m \u001b[32m━━━━━━━━━━━━━━━━━━━━\u001b[0m\u001b[37m\u001b[0m \u001b[1m1s\u001b[0m 4ms/step - loss: 50945.5859 - mae: 107.7052 - val_loss: 30946.3750 - val_mae: 80.6340\n",
            "Epoch 21/50\n",
            "\u001b[1m64/64\u001b[0m \u001b[32m━━━━━━━━━━━━━━━━━━━━\u001b[0m\u001b[37m\u001b[0m \u001b[1m0s\u001b[0m 4ms/step - loss: 41651.1484 - mae: 98.1978 - val_loss: 35717.0195 - val_mae: 82.8859\n",
            "Epoch 22/50\n",
            "\u001b[1m64/64\u001b[0m \u001b[32m━━━━━━━━━━━━━━━━━━━━\u001b[0m\u001b[37m\u001b[0m \u001b[1m0s\u001b[0m 5ms/step - loss: 43380.6172 - mae: 101.7324 - val_loss: 28603.4062 - val_mae: 77.5681\n",
            "Epoch 23/50\n",
            "\u001b[1m64/64\u001b[0m \u001b[32m━━━━━━━━━━━━━━━━━━━━\u001b[0m\u001b[37m\u001b[0m \u001b[1m0s\u001b[0m 4ms/step - loss: 42741.1562 - mae: 100.6405 - val_loss: 29550.1562 - val_mae: 82.0854\n",
            "Epoch 24/50\n",
            "\u001b[1m64/64\u001b[0m \u001b[32m━━━━━━━━━━━━━━━━━━━━\u001b[0m\u001b[37m\u001b[0m \u001b[1m1s\u001b[0m 4ms/step - loss: 45574.2695 - mae: 102.0476 - val_loss: 30529.0996 - val_mae: 80.0572\n",
            "Epoch 25/50\n",
            "\u001b[1m64/64\u001b[0m \u001b[32m━━━━━━━━━━━━━━━━━━━━\u001b[0m\u001b[37m\u001b[0m \u001b[1m0s\u001b[0m 4ms/step - loss: 41278.9219 - mae: 100.0007 - val_loss: 38140.0195 - val_mae: 85.1161\n",
            "Epoch 26/50\n",
            "\u001b[1m64/64\u001b[0m \u001b[32m━━━━━━━━━━━━━━━━━━━━\u001b[0m\u001b[37m\u001b[0m \u001b[1m0s\u001b[0m 4ms/step - loss: 42801.8086 - mae: 102.9609 - val_loss: 31383.9766 - val_mae: 81.4087\n",
            "Epoch 27/50\n",
            "\u001b[1m64/64\u001b[0m \u001b[32m━━━━━━━━━━━━━━━━━━━━\u001b[0m\u001b[37m\u001b[0m \u001b[1m0s\u001b[0m 5ms/step - loss: 42981.8242 - mae: 101.6554 - val_loss: 34585.5039 - val_mae: 84.2169\n",
            "Epoch 28/50\n",
            "\u001b[1m64/64\u001b[0m \u001b[32m━━━━━━━━━━━━━━━━━━━━\u001b[0m\u001b[37m\u001b[0m \u001b[1m0s\u001b[0m 5ms/step - loss: 43559.7539 - mae: 102.3965 - val_loss: 29046.1660 - val_mae: 77.4695\n",
            "Epoch 29/50\n",
            "\u001b[1m64/64\u001b[0m \u001b[32m━━━━━━━━━━━━━━━━━━━━\u001b[0m\u001b[37m\u001b[0m \u001b[1m1s\u001b[0m 5ms/step - loss: 44617.1797 - mae: 102.0613 - val_loss: 32247.6758 - val_mae: 84.6402\n",
            "\u001b[1m11/11\u001b[0m \u001b[32m━━━━━━━━━━━━━━━━━━━━\u001b[0m\u001b[37m\u001b[0m \u001b[1m0s\u001b[0m 12ms/step\n",
            "MAE per column in the current fold: [231.17531   25.920948  34.992794  10.01692 ]\n",
            "\n",
            "Average MAE per column:\n",
            "Calories: 223.45\n",
            "Carbohydrates: 25.87\n",
            "Protein: 35.62\n"
          ]
        }
      ]
    },
    {
      "cell_type": "markdown",
      "source": [
        "**Plot Training vs. Validation Loss**"
      ],
      "metadata": {
        "id": "HnYPIe1ULnnt"
      }
    },
    {
      "cell_type": "code",
      "source": [
        "import matplotlib.pyplot as plt\n",
        "\n",
        "plt.figure(figsize=(12, 5))\n",
        "plt.subplot(1, 2, 1)\n",
        "plt.plot(history.history['loss'], label='Training Loss')\n",
        "plt.plot(history.history['val_loss'], label='Validation Loss')\n",
        "plt.xlabel('Epochs')\n",
        "plt.ylabel('Loss (MSE)')\n",
        "plt.title('Training vs Validation Loss')\n",
        "plt.legend()"
      ],
      "metadata": {
        "colab": {
          "base_uri": "https://localhost:8080/",
          "height": 504
        },
        "id": "kcfPYbYmgEv0",
        "outputId": "3d65bf9a-e3c1-4a65-91a0-625dc9a770b4"
      },
      "execution_count": 26,
      "outputs": [
        {
          "output_type": "execute_result",
          "data": {
            "text/plain": [
              "<matplotlib.legend.Legend at 0x7baa3a7186d0>"
            ]
          },
          "metadata": {},
          "execution_count": 26
        },
        {
          "output_type": "display_data",
          "data": {
            "text/plain": [
              "<Figure size 1200x500 with 1 Axes>"
            ],
            "image/png": "[encoded data removed]"
          },
          "metadata": {}
        }
      ]
    },
    {
      "cell_type": "markdown",
      "source": [
        "**Model Evaluation**"
      ],
      "metadata": {
        "id": "bg-UQ71INoNw"
      }
    },
    {
      "cell_type": "code",
      "source": [
        "y_test_pred = model.predict(X_test_transformed)\n",
        "\n",
        "test_mae = mean_absolute_error(y_test, y_test_pred, multioutput=\"raw_values\")\n",
        "test_mse = mean_squared_error(y_test, y_test_pred, multioutput=\"raw_values\")\n",
        "test_rmse = np.sqrt(test_mse)\n",
        "test_r2 = r2_score(y_test, y_test_pred, multioutput=\"raw_values\")\n",
        "\n",
        "print(\"\\n**Model Performance Comparison vs. Baseline**\")\n",
        "\n",
        "print(\"\\nMAE - Mean Absolute Error:\")\n",
        "print(f\"Random Baseline: {np.round([631.62, 58.01, 82.83], 2)}\")\n",
        "print(f\"Model Performance: {np.round(test_mae, 2)}\")\n",
        "\n",
        "print(\"\\nMSE-Mean Squared Error:\")\n",
        "print(f\"Random Baseline: {np.round([637653.03, 5360.05, 10613.26], 2)}\")\n",
        "print(f\"Model Performance: {np.round(test_mse, 2)}\")\n",
        "\n",
        "print(\"\\nRMSE - Root Mean Squared Error:\")\n",
        "print(f\"Random Baseline: {np.round([798.53, 73.21, 103.02], 2)}\")\n",
        "print(f\"Model Performance: {np.round(test_rmse, 2)}\")\n",
        "\n",
        "print(\"\\nR² - Proportion of Variance Explained by the Model:\")\n",
        "print(f\"Random Baseline: {np.round([-0.94, -0.94, -1.03], 2)}\")\n",
        "print(f\"Model Performance: {np.round(test_r2, 2)}\")\n",
        "\n",
        "print(\"\\nAverage Metric Comparison Between Model and Baseline:\")\n",
        "print(f\"Average Random Baseline MAE: {np.round(257.49, 2)}, Model MAE: {np.round(test_mae.mean(), 2)}\")\n",
        "print(f\"Average Random Baseline MSE: {np.round(217875.45, 2)}, Model MSE: {np.round(test_mse.mean(), 2)}\")\n",
        "print(f\"Average Random Baseline RMSE: {np.round(324.92, 2)}, Model RMSE: {np.round(test_rmse.mean(), 2)}\")\n",
        "print(f\"Average Random Baseline R²: {np.round(-0.97, 2)}, Model R²: {np.round(test_r2.mean(), 2)}\")"
      ],
      "metadata": {
        "id": "X2ZuQhnQLi_2",
        "colab": {
          "base_uri": "https://localhost:8080/"
        },
        "outputId": "e4420d2d-3a45-48a7-c485-c3f22aa961ef"
      },
      "execution_count": 27,
      "outputs": [
        {
          "output_type": "stream",
          "name": "stdout",
          "text": [
            "\u001b[1m11/11\u001b[0m \u001b[32m━━━━━━━━━━━━━━━━━━━━\u001b[0m\u001b[37m\u001b[0m \u001b[1m0s\u001b[0m 3ms/step \n",
            "\n",
            "**Model Performance Comparison vs. Baseline**\n",
            "\n",
            "MAE - Mean Absolute Error:\n",
            "Random Baseline: [631.62  58.01  82.83]\n",
            "Model Performance: [256.59  27.29  36.86  10.27]\n",
            "\n",
            "MSE-Mean Squared Error:\n",
            "Random Baseline: [637653.03   5360.05  10613.26]\n",
            "Model Performance: [133629.72   1048.     2669.58    181.87]\n",
            "\n",
            "RMSE - Root Mean Squared Error:\n",
            "Random Baseline: [798.53  73.21 103.02]\n",
            "Model Performance: [365.55  32.37  51.67  13.49]\n",
            "\n",
            "R² - Proportion of Variance Explained by the Model:\n",
            "Random Baseline: [-0.94 -0.94 -1.03]\n",
            "Model Performance: [0.59 0.65 0.46 0.61]\n",
            "\n",
            "Average Metric Comparison Between Model and Baseline:\n",
            "Average Random Baseline MAE: 257.49, Model MAE: 82.75\n",
            "Average Random Baseline MSE: 217875.45, Model MSE: 34382.2890625\n",
            "Average Random Baseline RMSE: 324.92, Model RMSE: 115.7699966430664\n",
            "Average Random Baseline R²: -0.97, Model R²: 0.5799999833106995\n"
          ]
        }
      ]
    },
    {
      "cell_type": "markdown",
      "source": [
        "**Tracking Model Performance Across Runs**"
      ],
      "metadata": {
        "id": "KFx36wK55dBL"
      }
    },
    {
      "cell_type": "code",
      "source": [
        "import os\n",
        "\n",
        "# Define the file to store results\n",
        "results_file = \"model_results.csv\"\n",
        "\n",
        "current_results = {\n",
        "    \"MAE\": np.round(test_mae.mean(), 2),\n",
        "    \"MSE\": np.round(test_mse.mean(), 2),\n",
        "    \"RMSE\": np.round(test_rmse.mean(), 2),\n",
        "    \"R2\": np.round(test_r2.mean(), 2)}\n",
        "\n",
        "if os.path.exists(results_file):\n",
        "    previous_results = pd.read_csv(results_file)\n",
        "\n",
        "    std_results = previous_results.std().round(2)\n",
        "    mean_results = previous_results.mean().round(2)\n",
        "\n",
        "    print(\"\\nComparison with Previous Run:\")\n",
        "    last_run = previous_results.iloc[-1]\n",
        "    for metric in current_results:\n",
        "        prev_value = last_run[metric]\n",
        "        current_value = current_results[metric]\n",
        "        change = current_value - prev_value\n",
        "        print(f\"{metric}: {current_value} (Previous: {prev_value}, Change: {change:+.2f})\")\n",
        "\n",
        "    print(\"\\nHistorical Performance Stats:\")\n",
        "    for metric in current_results:\n",
        "        print(f\"{metric}: Mean = {mean_results[metric]}, Std = {std_results[metric]}\")\n",
        "\n",
        "else:\n",
        "    print(\"\\nNo previous results found. This is the first recorded run.\")\n",
        "\n",
        "# Append new results to the file\n",
        "new_entry = pd.DataFrame([current_results])\n",
        "new_entry.to_csv(results_file, mode='a', header=not os.path.exists(results_file), index=False)\n",
        "\n",
        "print(\"\\nResults saved successfully!\")"
      ],
      "metadata": {
        "colab": {
          "base_uri": "https://localhost:8080/"
        },
        "id": "zNUj7q3f4_jX",
        "outputId": "223ca57c-0fad-4e25-82a7-ccc99c65c33c"
      },
      "execution_count": 28,
      "outputs": [
        {
          "output_type": "stream",
          "name": "stdout",
          "text": [
            "\n",
            "No previous results found. This is the first recorded run.\n",
            "\n",
            "Results saved successfully!\n"
          ]
        }
      ]
    }
  ]
}