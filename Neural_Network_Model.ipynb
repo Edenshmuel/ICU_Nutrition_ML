{
  "nbformat": 4,
  "nbformat_minor": 0,
  "metadata": {
    "colab": {
      "provenance": [],
      "authorship_tag": "ABX9TyPhbDS6/ybl2ersBQ5GCKht",
      "include_colab_link": true
    },
    "kernelspec": {
      "name": "python3",
      "display_name": "Python 3"
    },
    "language_info": {
      "name": "python"
    }
  },
  "cells": [
    {
      "cell_type": "markdown",
      "metadata": {
        "id": "view-in-github",
        "colab_type": "text"
      },
      "source": [
        "<a href=\"https://colab.research.google.com/github/Edenshmuel/ICU_Nutrition_ML/blob/main/Neural_Network_Model.ipynb\" target=\"_parent\"><img src=\"https://colab.research.google.com/assets/colab-badge.svg\" alt=\"Open In Colab\"/></a>"
      ]
    },
    {
      "cell_type": "markdown",
      "source": [
        "**Loading Preprocessing Pipeline from GitHub**"
      ],
      "metadata": {
        "id": "8RhxfRT5UgLW"
      }
    },
    {
      "cell_type": "code",
      "source": [
        "import requests\n",
        "import nbformat\n",
        "from nbconvert import PythonExporter\n",
        "\n",
        "url = \"https://raw.githubusercontent.com/Edenshmuel/ICU_Nutrition_ML/refs/heads/main/Pipeline.ipynb\"\n",
        "\n",
        "response = requests.get(url)\n",
        "\n",
        "if response.status_code == 200:\n",
        "    notebook_content = response.text\n",
        "    notebook = nbformat.reads(notebook_content, as_version=4)\n",
        "    python_exporter = PythonExporter()\n",
        "    source, _ = python_exporter.from_notebook_node(notebook)\n",
        "    exec(source)\n",
        "\n",
        "    print(\"✅ Pipeline loaded successfully from GitHub!\")\n",
        "else:\n",
        "    print(f\"❌ Failed to fetch notebook: {response.status_code}\")"
      ],
      "metadata": {
        "colab": {
          "base_uri": "https://localhost:8080/"
        },
        "id": "kka4ddEzRxLZ",
        "outputId": "f4dc6b42-ba56-4658-9720-cb369818314d"
      },
      "execution_count": 1,
      "outputs": [
        {
          "output_type": "stream",
          "name": "stdout",
          "text": [
            "✅ Pipeline loaded successfully from GitHub!\n"
          ]
        }
      ]
    },
    {
      "cell_type": "markdown",
      "source": [
        "**Importing the Data**"
      ],
      "metadata": {
        "id": "bRzcP5CnmWbU"
      }
    },
    {
      "cell_type": "markdown",
      "source": [
        "Importing Necessary Libraries"
      ],
      "metadata": {
        "id": "yNyvA-Jzl5Tk"
      }
    },
    {
      "cell_type": "code",
      "execution_count": 2,
      "metadata": {
        "id": "4thHdg2IztdQ"
      },
      "outputs": [],
      "source": [
        "import copy\n",
        "import numpy as np\n",
        "import pandas as pd\n",
        "from sklearn.impute import SimpleImputer\n",
        "from sklearn.metrics import mean_absolute_error\n",
        "from sklearn.model_selection import train_test_split"
      ]
    },
    {
      "cell_type": "markdown",
      "source": [
        "Cloning the Project Repository"
      ],
      "metadata": {
        "id": "LtvbgvpZl_MR"
      }
    },
    {
      "cell_type": "code",
      "source": [
        "!git clone https://github.com/Edenshmuel/ICU_Nutrition_ML.git"
      ],
      "metadata": {
        "colab": {
          "base_uri": "https://localhost:8080/"
        },
        "id": "-i810gpGzz2r",
        "outputId": "03298a0a-1559-4bc7-eaaa-37058a097968"
      },
      "execution_count": 3,
      "outputs": [
        {
          "output_type": "stream",
          "name": "stdout",
          "text": [
            "fatal: destination path 'ICU_Nutrition_ML' already exists and is not an empty directory.\n"
          ]
        }
      ]
    },
    {
      "cell_type": "markdown",
      "source": [
        "Loading the Dataset"
      ],
      "metadata": {
        "id": "gHccSnnXmFvf"
      }
    },
    {
      "cell_type": "code",
      "source": [
        "df = pd.read_csv(\"https://raw.githubusercontent.com/Edenshmuel/ICU_Nutrition_ML/refs/heads/main/Food_and_Nutrition__.csv\")\n",
        "df.head()"
      ],
      "metadata": {
        "colab": {
          "base_uri": "https://localhost:8080/",
          "height": 573
        },
        "id": "IiK4Bf1oz4GD",
        "outputId": "14915a41-9e6e-4b66-c5c6-dcf98db628e5"
      },
      "execution_count": 4,
      "outputs": [
        {
          "output_type": "execute_result",
          "data": {
            "text/plain": [
              "   Ages  Gender  Height  Weight     Activity Level Dietary Preference  \\\n",
              "0    25    Male     180      80  Moderately Active           Omnivore   \n",
              "1    32  Female     165      65     Lightly Active         Vegetarian   \n",
              "2    48    Male     175      95          Sedentary              Vegan   \n",
              "3    55  Female     160      70        Very Active           Omnivore   \n",
              "4    62    Male     170      85          Sedentary         Vegetarian   \n",
              "\n",
              "   Daily Calorie Target  Protein  Sugar  Sodium  Calories  Carbohydrates  \\\n",
              "0                  2000      120  125.0    24.0      2020            250   \n",
              "1                  1600       80  100.0    16.0      1480            200   \n",
              "2                  2200      100  150.0    20.0      2185            300   \n",
              "3                  2500      140  175.0    28.0      2680            350   \n",
              "4                  2000       80  125.0    16.0      1815            250   \n",
              "\n",
              "   Fiber  Fat                               Breakfast Suggestion  \\\n",
              "0   30.0   60                      Oatmeal with berries and nuts   \n",
              "1   24.0   40                         Tofu scramble with veggies   \n",
              "2   36.0   65                  Tofu and veggie breakfast burrito   \n",
              "3   42.0   80                Greek yogurt with granola and fruit   \n",
              "4   30.0   55  Scrambled eggs with whole wheat toast and avocado   \n",
              "\n",
              "                             Lunch Suggestion  \\\n",
              "0     Grilled chicken salad with mixed greens   \n",
              "1          Lentil soup with whole wheat bread   \n",
              "2      Black bean burger on a whole wheat bun   \n",
              "3              Chicken and vegetable stir-fry   \n",
              "4  Quinoa salad with chickpeas and vegetables   \n",
              "\n",
              "                    Dinner Suggestion           Snack Suggestion  \\\n",
              "0      Salmon with roasted vegetables    Greek yogurt with fruit   \n",
              "1  Vegetable stir-fry with brown rice   Apple with almond butter   \n",
              "2          Lentil and vegetable curry                  Trail mix   \n",
              "3        Turkey chili with brown rice  Banana with peanut butter   \n",
              "4     Vegetarian chili with cornbread          Fruit and nut mix   \n",
              "\n",
              "                                    Disease  \n",
              "0                               Weight Gain  \n",
              "1  Weight Gain, Hypertension, Heart Disease  \n",
              "2                               Weight Gain  \n",
              "3                               Weight Gain  \n",
              "4                               Weight Gain  "
            ],
            "text/html": [
              "\n",
              "  <div id=\"df-c62121e5-4097-4579-ad20-188177c70564\" class=\"colab-df-container\">\n",
              "    <div>\n",
              "<style scoped>\n",
              "    .dataframe tbody tr th:only-of-type {\n",
              "        vertical-align: middle;\n",
              "    }\n",
              "\n",
              "    .dataframe tbody tr th {\n",
              "        vertical-align: top;\n",
              "    }\n",
              "\n",
              "    .dataframe thead th {\n",
              "        text-align: right;\n",
              "    }\n",
              "</style>\n",
              "<table border=\"1\" class=\"dataframe\">\n",
              "  <thead>\n",
              "    <tr style=\"text-align: right;\">\n",
              "      <th></th>\n",
              "      <th>Ages</th>\n",
              "      <th>Gender</th>\n",
              "      <th>Height</th>\n",
              "      <th>Weight</th>\n",
              "      <th>Activity Level</th>\n",
              "      <th>Dietary Preference</th>\n",
              "      <th>Daily Calorie Target</th>\n",
              "      <th>Protein</th>\n",
              "      <th>Sugar</th>\n",
              "      <th>Sodium</th>\n",
              "      <th>Calories</th>\n",
              "      <th>Carbohydrates</th>\n",
              "      <th>Fiber</th>\n",
              "      <th>Fat</th>\n",
              "      <th>Breakfast Suggestion</th>\n",
              "      <th>Lunch Suggestion</th>\n",
              "      <th>Dinner Suggestion</th>\n",
              "      <th>Snack Suggestion</th>\n",
              "      <th>Disease</th>\n",
              "    </tr>\n",
              "  </thead>\n",
              "  <tbody>\n",
              "    <tr>\n",
              "      <th>0</th>\n",
              "      <td>25</td>\n",
              "      <td>Male</td>\n",
              "      <td>180</td>\n",
              "      <td>80</td>\n",
              "      <td>Moderately Active</td>\n",
              "      <td>Omnivore</td>\n",
              "      <td>2000</td>\n",
              "      <td>120</td>\n",
              "      <td>125.0</td>\n",
              "      <td>24.0</td>\n",
              "      <td>2020</td>\n",
              "      <td>250</td>\n",
              "      <td>30.0</td>\n",
              "      <td>60</td>\n",
              "      <td>Oatmeal with berries and nuts</td>\n",
              "      <td>Grilled chicken salad with mixed greens</td>\n",
              "      <td>Salmon with roasted vegetables</td>\n",
              "      <td>Greek yogurt with fruit</td>\n",
              "      <td>Weight Gain</td>\n",
              "    </tr>\n",
              "    <tr>\n",
              "      <th>1</th>\n",
              "      <td>32</td>\n",
              "      <td>Female</td>\n",
              "      <td>165</td>\n",
              "      <td>65</td>\n",
              "      <td>Lightly Active</td>\n",
              "      <td>Vegetarian</td>\n",
              "      <td>1600</td>\n",
              "      <td>80</td>\n",
              "      <td>100.0</td>\n",
              "      <td>16.0</td>\n",
              "      <td>1480</td>\n",
              "      <td>200</td>\n",
              "      <td>24.0</td>\n",
              "      <td>40</td>\n",
              "      <td>Tofu scramble with veggies</td>\n",
              "      <td>Lentil soup with whole wheat bread</td>\n",
              "      <td>Vegetable stir-fry with brown rice</td>\n",
              "      <td>Apple with almond butter</td>\n",
              "      <td>Weight Gain, Hypertension, Heart Disease</td>\n",
              "    </tr>\n",
              "    <tr>\n",
              "      <th>2</th>\n",
              "      <td>48</td>\n",
              "      <td>Male</td>\n",
              "      <td>175</td>\n",
              "      <td>95</td>\n",
              "      <td>Sedentary</td>\n",
              "      <td>Vegan</td>\n",
              "      <td>2200</td>\n",
              "      <td>100</td>\n",
              "      <td>150.0</td>\n",
              "      <td>20.0</td>\n",
              "      <td>2185</td>\n",
              "      <td>300</td>\n",
              "      <td>36.0</td>\n",
              "      <td>65</td>\n",
              "      <td>Tofu and veggie breakfast burrito</td>\n",
              "      <td>Black bean burger on a whole wheat bun</td>\n",
              "      <td>Lentil and vegetable curry</td>\n",
              "      <td>Trail mix</td>\n",
              "      <td>Weight Gain</td>\n",
              "    </tr>\n",
              "    <tr>\n",
              "      <th>3</th>\n",
              "      <td>55</td>\n",
              "      <td>Female</td>\n",
              "      <td>160</td>\n",
              "      <td>70</td>\n",
              "      <td>Very Active</td>\n",
              "      <td>Omnivore</td>\n",
              "      <td>2500</td>\n",
              "      <td>140</td>\n",
              "      <td>175.0</td>\n",
              "      <td>28.0</td>\n",
              "      <td>2680</td>\n",
              "      <td>350</td>\n",
              "      <td>42.0</td>\n",
              "      <td>80</td>\n",
              "      <td>Greek yogurt with granola and fruit</td>\n",
              "      <td>Chicken and vegetable stir-fry</td>\n",
              "      <td>Turkey chili with brown rice</td>\n",
              "      <td>Banana with peanut butter</td>\n",
              "      <td>Weight Gain</td>\n",
              "    </tr>\n",
              "    <tr>\n",
              "      <th>4</th>\n",
              "      <td>62</td>\n",
              "      <td>Male</td>\n",
              "      <td>170</td>\n",
              "      <td>85</td>\n",
              "      <td>Sedentary</td>\n",
              "      <td>Vegetarian</td>\n",
              "      <td>2000</td>\n",
              "      <td>80</td>\n",
              "      <td>125.0</td>\n",
              "      <td>16.0</td>\n",
              "      <td>1815</td>\n",
              "      <td>250</td>\n",
              "      <td>30.0</td>\n",
              "      <td>55</td>\n",
              "      <td>Scrambled eggs with whole wheat toast and avocado</td>\n",
              "      <td>Quinoa salad with chickpeas and vegetables</td>\n",
              "      <td>Vegetarian chili with cornbread</td>\n",
              "      <td>Fruit and nut mix</td>\n",
              "      <td>Weight Gain</td>\n",
              "    </tr>\n",
              "  </tbody>\n",
              "</table>\n",
              "</div>\n",
              "    <div class=\"colab-df-buttons\">\n",
              "\n",
              "  <div class=\"colab-df-container\">\n",
              "    <button class=\"colab-df-convert\" onclick=\"convertToInteractive('df-c62121e5-4097-4579-ad20-188177c70564')\"\n",
              "            title=\"Convert this dataframe to an interactive table.\"\n",
              "            style=\"display:none;\">\n",
              "\n",
              "  <svg xmlns=\"http://www.w3.org/2000/svg\" height=\"24px\" viewBox=\"0 -960 960 960\">\n",
              "    <path d=\"M120-120v-720h720v720H120Zm60-500h600v-160H180v160Zm220 220h160v-160H400v160Zm0 220h160v-160H400v160ZM180-400h160v-160H180v160Zm440 0h160v-160H620v160ZM180-180h160v-160H180v160Zm440 0h160v-160H620v160Z\"/>\n",
              "  </svg>\n",
              "    </button>\n",
              "\n",
              "  <style>\n",
              "    .colab-df-container {\n",
              "      display:flex;\n",
              "      gap: 12px;\n",
              "    }\n",
              "\n",
              "    .colab-df-convert {\n",
              "      background-color: #E8F0FE;\n",
              "      border: none;\n",
              "      border-radius: 50%;\n",
              "      cursor: pointer;\n",
              "      display: none;\n",
              "      fill: #1967D2;\n",
              "      height: 32px;\n",
              "      padding: 0 0 0 0;\n",
              "      width: 32px;\n",
              "    }\n",
              "\n",
              "    .colab-df-convert:hover {\n",
              "      background-color: #E2EBFA;\n",
              "      box-shadow: 0px 1px 2px rgba(60, 64, 67, 0.3), 0px 1px 3px 1px rgba(60, 64, 67, 0.15);\n",
              "      fill: #174EA6;\n",
              "    }\n",
              "\n",
              "    .colab-df-buttons div {\n",
              "      margin-bottom: 4px;\n",
              "    }\n",
              "\n",
              "    [theme=dark] .colab-df-convert {\n",
              "      background-color: #3B4455;\n",
              "      fill: #D2E3FC;\n",
              "    }\n",
              "\n",
              "    [theme=dark] .colab-df-convert:hover {\n",
              "      background-color: #434B5C;\n",
              "      box-shadow: 0px 1px 3px 1px rgba(0, 0, 0, 0.15);\n",
              "      filter: drop-shadow(0px 1px 2px rgba(0, 0, 0, 0.3));\n",
              "      fill: #FFFFFF;\n",
              "    }\n",
              "  </style>\n",
              "\n",
              "    <script>\n",
              "      const buttonEl =\n",
              "        document.querySelector('#df-c62121e5-4097-4579-ad20-188177c70564 button.colab-df-convert');\n",
              "      buttonEl.style.display =\n",
              "        google.colab.kernel.accessAllowed ? 'block' : 'none';\n",
              "\n",
              "      async function convertToInteractive(key) {\n",
              "        const element = document.querySelector('#df-c62121e5-4097-4579-ad20-188177c70564');\n",
              "        const dataTable =\n",
              "          await google.colab.kernel.invokeFunction('convertToInteractive',\n",
              "                                                    [key], {});\n",
              "        if (!dataTable) return;\n",
              "\n",
              "        const docLinkHtml = 'Like what you see? Visit the ' +\n",
              "          '<a target=\"_blank\" href=https://colab.research.google.com/notebooks/data_table.ipynb>data table notebook</a>'\n",
              "          + ' to learn more about interactive tables.';\n",
              "        element.innerHTML = '';\n",
              "        dataTable['output_type'] = 'display_data';\n",
              "        await google.colab.output.renderOutput(dataTable, element);\n",
              "        const docLink = document.createElement('div');\n",
              "        docLink.innerHTML = docLinkHtml;\n",
              "        element.appendChild(docLink);\n",
              "      }\n",
              "    </script>\n",
              "  </div>\n",
              "\n",
              "\n",
              "<div id=\"df-05870270-2e21-4373-b632-6cc5006c4053\">\n",
              "  <button class=\"colab-df-quickchart\" onclick=\"quickchart('df-05870270-2e21-4373-b632-6cc5006c4053')\"\n",
              "            title=\"Suggest charts\"\n",
              "            style=\"display:none;\">\n",
              "\n",
              "<svg xmlns=\"http://www.w3.org/2000/svg\" height=\"24px\"viewBox=\"0 0 24 24\"\n",
              "     width=\"24px\">\n",
              "    <g>\n",
              "        <path d=\"M19 3H5c-1.1 0-2 .9-2 2v14c0 1.1.9 2 2 2h14c1.1 0 2-.9 2-2V5c0-1.1-.9-2-2-2zM9 17H7v-7h2v7zm4 0h-2V7h2v10zm4 0h-2v-4h2v4z\"/>\n",
              "    </g>\n",
              "</svg>\n",
              "  </button>\n",
              "\n",
              "<style>\n",
              "  .colab-df-quickchart {\n",
              "      --bg-color: #E8F0FE;\n",
              "      --fill-color: #1967D2;\n",
              "      --hover-bg-color: #E2EBFA;\n",
              "      --hover-fill-color: #174EA6;\n",
              "      --disabled-fill-color: #AAA;\n",
              "      --disabled-bg-color: #DDD;\n",
              "  }\n",
              "\n",
              "  [theme=dark] .colab-df-quickchart {\n",
              "      --bg-color: #3B4455;\n",
              "      --fill-color: #D2E3FC;\n",
              "      --hover-bg-color: #434B5C;\n",
              "      --hover-fill-color: #FFFFFF;\n",
              "      --disabled-bg-color: #3B4455;\n",
              "      --disabled-fill-color: #666;\n",
              "  }\n",
              "\n",
              "  .colab-df-quickchart {\n",
              "    background-color: var(--bg-color);\n",
              "    border: none;\n",
              "    border-radius: 50%;\n",
              "    cursor: pointer;\n",
              "    display: none;\n",
              "    fill: var(--fill-color);\n",
              "    height: 32px;\n",
              "    padding: 0;\n",
              "    width: 32px;\n",
              "  }\n",
              "\n",
              "  .colab-df-quickchart:hover {\n",
              "    background-color: var(--hover-bg-color);\n",
              "    box-shadow: 0 1px 2px rgba(60, 64, 67, 0.3), 0 1px 3px 1px rgba(60, 64, 67, 0.15);\n",
              "    fill: var(--button-hover-fill-color);\n",
              "  }\n",
              "\n",
              "  .colab-df-quickchart-complete:disabled,\n",
              "  .colab-df-quickchart-complete:disabled:hover {\n",
              "    background-color: var(--disabled-bg-color);\n",
              "    fill: var(--disabled-fill-color);\n",
              "    box-shadow: none;\n",
              "  }\n",
              "\n",
              "  .colab-df-spinner {\n",
              "    border: 2px solid var(--fill-color);\n",
              "    border-color: transparent;\n",
              "    border-bottom-color: var(--fill-color);\n",
              "    animation:\n",
              "      spin 1s steps(1) infinite;\n",
              "  }\n",
              "\n",
              "  @keyframes spin {\n",
              "    0% {\n",
              "      border-color: transparent;\n",
              "      border-bottom-color: var(--fill-color);\n",
              "      border-left-color: var(--fill-color);\n",
              "    }\n",
              "    20% {\n",
              "      border-color: transparent;\n",
              "      border-left-color: var(--fill-color);\n",
              "      border-top-color: var(--fill-color);\n",
              "    }\n",
              "    30% {\n",
              "      border-color: transparent;\n",
              "      border-left-color: var(--fill-color);\n",
              "      border-top-color: var(--fill-color);\n",
              "      border-right-color: var(--fill-color);\n",
              "    }\n",
              "    40% {\n",
              "      border-color: transparent;\n",
              "      border-right-color: var(--fill-color);\n",
              "      border-top-color: var(--fill-color);\n",
              "    }\n",
              "    60% {\n",
              "      border-color: transparent;\n",
              "      border-right-color: var(--fill-color);\n",
              "    }\n",
              "    80% {\n",
              "      border-color: transparent;\n",
              "      border-right-color: var(--fill-color);\n",
              "      border-bottom-color: var(--fill-color);\n",
              "    }\n",
              "    90% {\n",
              "      border-color: transparent;\n",
              "      border-bottom-color: var(--fill-color);\n",
              "    }\n",
              "  }\n",
              "</style>\n",
              "\n",
              "  <script>\n",
              "    async function quickchart(key) {\n",
              "      const quickchartButtonEl =\n",
              "        document.querySelector('#' + key + ' button');\n",
              "      quickchartButtonEl.disabled = true;  // To prevent multiple clicks.\n",
              "      quickchartButtonEl.classList.add('colab-df-spinner');\n",
              "      try {\n",
              "        const charts = await google.colab.kernel.invokeFunction(\n",
              "            'suggestCharts', [key], {});\n",
              "      } catch (error) {\n",
              "        console.error('Error during call to suggestCharts:', error);\n",
              "      }\n",
              "      quickchartButtonEl.classList.remove('colab-df-spinner');\n",
              "      quickchartButtonEl.classList.add('colab-df-quickchart-complete');\n",
              "    }\n",
              "    (() => {\n",
              "      let quickchartButtonEl =\n",
              "        document.querySelector('#df-05870270-2e21-4373-b632-6cc5006c4053 button');\n",
              "      quickchartButtonEl.style.display =\n",
              "        google.colab.kernel.accessAllowed ? 'block' : 'none';\n",
              "    })();\n",
              "  </script>\n",
              "</div>\n",
              "\n",
              "    </div>\n",
              "  </div>\n"
            ],
            "application/vnd.google.colaboratory.intrinsic+json": {
              "type": "dataframe",
              "variable_name": "df",
              "summary": "{\n  \"name\": \"df\",\n  \"rows\": 1698,\n  \"fields\": [\n    {\n      \"column\": \"Ages\",\n      \"properties\": {\n        \"dtype\": \"number\",\n        \"std\": 15,\n        \"min\": 18,\n        \"max\": 79,\n        \"num_unique_values\": 62,\n        \"samples\": [\n          26,\n          43,\n          25\n        ],\n        \"semantic_type\": \"\",\n        \"description\": \"\"\n      }\n    },\n    {\n      \"column\": \"Gender\",\n      \"properties\": {\n        \"dtype\": \"category\",\n        \"num_unique_values\": 2,\n        \"samples\": [\n          \"Female\",\n          \"Male\"\n        ],\n        \"semantic_type\": \"\",\n        \"description\": \"\"\n      }\n    },\n    {\n      \"column\": \"Height\",\n      \"properties\": {\n        \"dtype\": \"number\",\n        \"std\": 13,\n        \"min\": 150,\n        \"max\": 200,\n        \"num_unique_values\": 51,\n        \"samples\": [\n          159,\n          189\n        ],\n        \"semantic_type\": \"\",\n        \"description\": \"\"\n      }\n    },\n    {\n      \"column\": \"Weight\",\n      \"properties\": {\n        \"dtype\": \"number\",\n        \"std\": 16,\n        \"min\": 48,\n        \"max\": 119,\n        \"num_unique_values\": 71,\n        \"samples\": [\n          115,\n          80\n        ],\n        \"semantic_type\": \"\",\n        \"description\": \"\"\n      }\n    },\n    {\n      \"column\": \"Activity Level\",\n      \"properties\": {\n        \"dtype\": \"category\",\n        \"num_unique_values\": 5,\n        \"samples\": [\n          \"Lightly Active\",\n          \"Extremely Active\"\n        ],\n        \"semantic_type\": \"\",\n        \"description\": \"\"\n      }\n    },\n    {\n      \"column\": \"Dietary Preference\",\n      \"properties\": {\n        \"dtype\": \"category\",\n        \"num_unique_values\": 4,\n        \"samples\": [\n          \"Vegetarian\",\n          \"Pescatarian\"\n        ],\n        \"semantic_type\": \"\",\n        \"description\": \"\"\n      }\n    },\n    {\n      \"column\": \"Daily Calorie Target\",\n      \"properties\": {\n        \"dtype\": \"number\",\n        \"std\": 558,\n        \"min\": 1200,\n        \"max\": 4364,\n        \"num_unique_values\": 895,\n        \"samples\": [\n          1782,\n          1828\n        ],\n        \"semantic_type\": \"\",\n        \"description\": \"\"\n      }\n    },\n    {\n      \"column\": \"Protein\",\n      \"properties\": {\n        \"dtype\": \"number\",\n        \"std\": 53,\n        \"min\": 50,\n        \"max\": 327,\n        \"num_unique_values\": 231,\n        \"samples\": [\n          272,\n          72\n        ],\n        \"semantic_type\": \"\",\n        \"description\": \"\"\n      }\n    },\n    {\n      \"column\": \"Sugar\",\n      \"properties\": {\n        \"dtype\": \"number\",\n        \"std\": 34.93890219462492,\n        \"min\": 60.0,\n        \"max\": 218.0,\n        \"num_unique_values\": 276,\n        \"samples\": [\n          158.0,\n          172.0\n        ],\n        \"semantic_type\": \"\",\n        \"description\": \"\"\n      }\n    },\n    {\n      \"column\": \"Sodium\",\n      \"properties\": {\n        \"dtype\": \"number\",\n        \"std\": 10.6653176771373,\n        \"min\": 10.0,\n        \"max\": 65.4,\n        \"num_unique_values\": 231,\n        \"samples\": [\n          54.4,\n          14.4\n        ],\n        \"semantic_type\": \"\",\n        \"description\": \"\"\n      }\n    },\n    {\n      \"column\": \"Calories\",\n      \"properties\": {\n        \"dtype\": \"number\",\n        \"std\": 571,\n        \"min\": 990,\n        \"max\": 4357,\n        \"num_unique_values\": 759,\n        \"samples\": [\n          1698,\n          1804\n        ],\n        \"semantic_type\": \"\",\n        \"description\": \"\"\n      }\n    },\n    {\n      \"column\": \"Carbohydrates\",\n      \"properties\": {\n        \"dtype\": \"number\",\n        \"std\": 69,\n        \"min\": 120,\n        \"max\": 436,\n        \"num_unique_values\": 276,\n        \"samples\": [\n          316,\n          344\n        ],\n        \"semantic_type\": \"\",\n        \"description\": \"\"\n      }\n    },\n    {\n      \"column\": \"Fiber\",\n      \"properties\": {\n        \"dtype\": \"number\",\n        \"std\": 8.385336526709985,\n        \"min\": 14.4,\n        \"max\": 52.32,\n        \"num_unique_values\": 276,\n        \"samples\": [\n          37.92,\n          41.28\n        ],\n        \"semantic_type\": \"\",\n        \"description\": \"\"\n      }\n    },\n    {\n      \"column\": \"Fat\",\n      \"properties\": {\n        \"dtype\": \"number\",\n        \"std\": 21,\n        \"min\": 30,\n        \"max\": 145,\n        \"num_unique_values\": 103,\n        \"samples\": [\n          82,\n          87\n        ],\n        \"semantic_type\": \"\",\n        \"description\": \"\"\n      }\n    },\n    {\n      \"column\": \"Breakfast Suggestion\",\n      \"properties\": {\n        \"dtype\": \"category\",\n        \"num_unique_values\": 121,\n        \"samples\": [\n          \"Scrambled tofu with whole-wheat toast and avocado\",\n          \"Tofu and vegetable scramble with whole wheat toast\"\n        ],\n        \"semantic_type\": \"\",\n        \"description\": \"\"\n      }\n    },\n    {\n      \"column\": \"Lunch Suggestion\",\n      \"properties\": {\n        \"dtype\": \"category\",\n        \"num_unique_values\": 190,\n        \"samples\": [\n          \"Tuna salad sandwich on whole grain bread\",\n          \"Vegan chili with whole wheat bread\"\n        ],\n        \"semantic_type\": \"\",\n        \"description\": \"\"\n      }\n    },\n    {\n      \"column\": \"Dinner Suggestion\",\n      \"properties\": {\n        \"dtype\": \"category\",\n        \"num_unique_values\": 177,\n        \"samples\": [\n          \"Tofu stir-fry with brown rice and vegetables\",\n          \"Tuna with quinoa and roasted vegetables\"\n        ],\n        \"semantic_type\": \"\",\n        \"description\": \"\"\n      }\n    },\n    {\n      \"column\": \"Snack Suggestion\",\n      \"properties\": {\n        \"dtype\": \"category\",\n        \"num_unique_values\": 112,\n        \"samples\": [\n          \"Greek yogurt with berries\",\n          \"Fruit with yogurt\"\n        ],\n        \"semantic_type\": \"\",\n        \"description\": \"\"\n      }\n    },\n    {\n      \"column\": \"Disease\",\n      \"properties\": {\n        \"dtype\": \"category\",\n        \"num_unique_values\": 13,\n        \"samples\": [\n          \"Diabetes, Acne, Weight Gain, Hypertension, Heart Disease\",\n          \"Hypertension, Heart Disease\"\n        ],\n        \"semantic_type\": \"\",\n        \"description\": \"\"\n      }\n    }\n  ]\n}"
            }
          },
          "metadata": {},
          "execution_count": 4
        }
      ]
    },
    {
      "cell_type": "markdown",
      "source": [
        "**Data Preprocessing**"
      ],
      "metadata": {
        "id": "lTDAYOWv2M-D"
      }
    },
    {
      "cell_type": "markdown",
      "source": [
        "Categorize Features: Numerical, Categorical, and Skewed Columns"
      ],
      "metadata": {
        "id": "Moj4Hxel0G5i"
      }
    },
    {
      "cell_type": "code",
      "source": [
        "numerical_features = [\"Ages\", \"Height\", \"Weight\", \"Fiber\"]\n",
        "categorical_features = [\"Gender\", \"Dietary Preference\"]"
      ],
      "metadata": {
        "id": "8nZG7Cdn0EEN"
      },
      "execution_count": 5,
      "outputs": []
    },
    {
      "cell_type": "markdown",
      "source": [
        "Features identified as right-skewed from EDA. Applying log transformation"
      ],
      "metadata": {
        "id": "eAMFK6Zm-dWw"
      }
    },
    {
      "cell_type": "code",
      "source": [
        "right_skewed_features = [\"Fat\", \"Sodium\"]"
      ],
      "metadata": {
        "id": "I9j7YtCS-esj"
      },
      "execution_count": 6,
      "outputs": []
    },
    {
      "cell_type": "markdown",
      "source": [
        "To ensure consistency, we remove diseases that appear only once, as they cause mismatched features between training and test sets and provide no learning value for the model"
      ],
      "metadata": {
        "id": "mPhKnevhv0QU"
      }
    },
    {
      "cell_type": "code",
      "source": [
        "from collections import Counter\n",
        "\n",
        "df[\"Disease_Split\"] = df[\"Disease\"].astype(str).str.split(\", \")\n",
        "\n",
        "all_diseases = [disease for sublist in df[\"Disease_Split\"] for disease in sublist]\n",
        "disease_counts = Counter(all_diseases)\n",
        "\n",
        "print(\"Single disease count:\")\n",
        "for disease, count in disease_counts.items():\n",
        "    print(f\"{disease}: {count}\")\n",
        "\n",
        "rare_diseases = [disease for disease, count in disease_counts.items() if count < 2]\n",
        "\n",
        "print(\"\\nRare diseases (appear less than 2 times):\")\n",
        "print(rare_diseases)"
      ],
      "metadata": {
        "colab": {
          "base_uri": "https://localhost:8080/"
        },
        "id": "ZDjQz0Je2f4H",
        "outputId": "b3bcf304-497c-4b68-859c-3907bd834465"
      },
      "execution_count": 7,
      "outputs": [
        {
          "output_type": "stream",
          "name": "stdout",
          "text": [
            "Single disease count:\n",
            "Weight Gain: 1664\n",
            "Hypertension: 292\n",
            "Heart Disease: 289\n",
            "Kidney Disease: 189\n",
            "Diabetes: 66\n",
            "Acne: 66\n",
            "Weight Loss: 1\n",
            "\n",
            "Rare diseases (appear less than 2 times):\n",
            "['Weight Loss']\n"
          ]
        }
      ]
    },
    {
      "cell_type": "code",
      "source": [
        "df = df[~df[\"Disease\"].str.contains(\"Weight Loss\", na=False)]"
      ],
      "metadata": {
        "id": "fpK9WiKT3hc2"
      },
      "execution_count": 8,
      "outputs": []
    },
    {
      "cell_type": "code",
      "source": [
        "Multy_categorical_features = [\"Disease\"]"
      ],
      "metadata": {
        "id": "Ug8XqT-dR-2U"
      },
      "execution_count": 9,
      "outputs": []
    },
    {
      "cell_type": "code",
      "source": [
        "X = df.drop(columns=[\"Daily Calorie Target\", \"Protein\", \"Carbohydrates\"])\n",
        "y = df[[\"Daily Calorie Target\", \"Protein\", \"Carbohydrates\"]]"
      ],
      "metadata": {
        "id": "wJK4I6TH4K_H"
      },
      "execution_count": 10,
      "outputs": []
    },
    {
      "cell_type": "markdown",
      "source": [
        "Prevent Data Leakage: Remove Columns That Contain Target Information"
      ],
      "metadata": {
        "id": "5NBNeGu1yvlK"
      }
    },
    {
      "cell_type": "code",
      "source": [
        "X = df.drop(columns=[\"Calories\"])"
      ],
      "metadata": {
        "id": "4zbgxTs4y1M5"
      },
      "execution_count": 11,
      "outputs": []
    },
    {
      "cell_type": "markdown",
      "source": [
        "Removing Non-Contributing Columns"
      ],
      "metadata": {
        "id": "4ZOl8kIay9IK"
      }
    },
    {
      "cell_type": "code",
      "source": [
        "columns_to_remove = [\"Sugar\", \"Breakfast Suggestion\", \"Lunch Suggestion\",\n",
        "                     \"Dinner Suggestion\", \"Snack Suggestion\"]\n",
        "\n",
        "X = df.drop(columns=columns_to_remove)"
      ],
      "metadata": {
        "id": "yOM-UgfBzAJ6"
      },
      "execution_count": 12,
      "outputs": []
    },
    {
      "cell_type": "markdown",
      "source": [
        "Analysis showed that keeping 'Sodium' and 'Fiber' significantly reduced the model's error, so I decided to keep them"
      ],
      "metadata": {
        "id": "TAu22t5pzDRN"
      }
    },
    {
      "cell_type": "markdown",
      "source": [
        "**Splitting the Data**"
      ],
      "metadata": {
        "id": "TxXjVCZ58s1m"
      }
    },
    {
      "cell_type": "code",
      "source": [
        "X_train, X_test, y_train, y_test = train_test_split(X, y, test_size=0.2, random_state=42)\n",
        "\n",
        "print(f\"Train: {X_train.shape}, Test: {X_test.shape}\")\n",
        "print(f\"Y Train: {y_train.shape}, Y Test: {y_test.shape}\")"
      ],
      "metadata": {
        "colab": {
          "base_uri": "https://localhost:8080/"
        },
        "id": "jHtj51Ycy9zR",
        "outputId": "81238e27-6602-4662-8960-2de987b8d76c"
      },
      "execution_count": 13,
      "outputs": [
        {
          "output_type": "stream",
          "name": "stdout",
          "text": [
            "Train: (1357, 15), Test: (340, 15)\n",
            "Y Train: (1357, 3), Y Test: (340, 3)\n"
          ]
        }
      ]
    },
    {
      "cell_type": "markdown",
      "source": [
        "**Apply the Pipeline**"
      ],
      "metadata": {
        "id": "IBZVCqBg8zSj"
      }
    },
    {
      "cell_type": "code",
      "source": [
        "preprocessor = create_preprocessor(numerical_features,categorical_features, right_skewed_features,\n",
        "                                   Multy_categorical_features)\n"
      ],
      "metadata": {
        "id": "NfiTwCvmSGzm"
      },
      "execution_count": 14,
      "outputs": []
    },
    {
      "cell_type": "code",
      "source": [
        "X_train_transformed = preprocessor.fit_transform(X_train)\n",
        "X_test_transformed = preprocessor.transform(X_test)"
      ],
      "metadata": {
        "id": "8Zs-iBFX8u5w"
      },
      "execution_count": 15,
      "outputs": []
    },
    {
      "cell_type": "code",
      "source": [
        "print(f\"✅ Training Data Processed: {X_train_transformed.shape} (Rows, Features)\")\n",
        "print(f\"✅ Test Data Processed: {X_test_transformed.shape} (Rows, Features)\")"
      ],
      "metadata": {
        "colab": {
          "base_uri": "https://localhost:8080/"
        },
        "id": "YHMPqcLA9ST1",
        "outputId": "8f5c9f72-5434-4a78-e609-86672ace3ebb"
      },
      "execution_count": 16,
      "outputs": [
        {
          "output_type": "stream",
          "name": "stdout",
          "text": [
            "✅ Training Data Processed: (1357, 19) (Rows, Features)\n",
            "✅ Test Data Processed: (340, 19) (Rows, Features)\n"
          ]
        }
      ]
    },
    {
      "cell_type": "markdown",
      "source": [
        "**Baseline Model**"
      ],
      "metadata": {
        "id": "wGOkqBZLFtLN"
      }
    },
    {
      "cell_type": "markdown",
      "source": [
        "A baseline model is created by randomly shuffling the target values to compare the neural network's performance against a naive prediction"
      ],
      "metadata": {
        "id": "M1f8omGXxdiC"
      }
    },
    {
      "cell_type": "code",
      "source": [
        "from sklearn.metrics import mean_absolute_error\n",
        "from sklearn.metrics import mean_squared_error\n",
        "from sklearn.metrics import r2_score"
      ],
      "metadata": {
        "id": "sgncaWp3W7Kh"
      },
      "execution_count": 17,
      "outputs": []
    },
    {
      "cell_type": "code",
      "source": [
        "y_test_copy = np.array(copy.deepcopy(y_test))\n",
        "\n",
        "np.random.shuffle(y_test_copy)\n",
        "\n",
        "random_baseline_mae = mean_absolute_error(y_test, y_test_copy, multioutput=\"raw_values\")\n",
        "random_baseline_mse = mean_squared_error(y_test, y_test_copy, multioutput=\"raw_values\")\n",
        "random_baseline_rmse = np.sqrt(random_baseline_mse)\n",
        "random_baseline_r2 = r2_score(y_test, y_test_copy, multioutput=\"raw_values\")\n",
        "\n",
        "print(f\"Random Baseline MAE per target: {random_baseline_mae}\")\n",
        "print(f\"Average Random Baseline MAE: {random_baseline_mae.mean():.2f}\")\n",
        "\n",
        "print(f\"Random Baseline MSE per target: {random_baseline_mse}\")\n",
        "print(f\"Average Random Baseline MSE: {random_baseline_mse.mean():.2f}\")\n",
        "\n",
        "print(f\"Random Baseline RMSE per target: {random_baseline_rmse}\")\n",
        "print(f\"Average Random Baseline RMSE: {random_baseline_rmse.mean():.2f}\")\n",
        "\n",
        "print(f\"Random Baseline R² per target: {random_baseline_r2}\")\n",
        "print(f\"Average Random Baseline R²: {random_baseline_r2.mean():.2f}\")"
      ],
      "metadata": {
        "colab": {
          "base_uri": "https://localhost:8080/"
        },
        "id": "NSPDEmFe9X5X",
        "outputId": "f7b1c4d7-1c5c-47f9-e591-1bd1356405c5"
      },
      "execution_count": 18,
      "outputs": [
        {
          "output_type": "stream",
          "name": "stdout",
          "text": [
            "Random Baseline MAE per target: [626.05882353  59.88823529  78.59411765]\n",
            "Average Random Baseline MAE: 254.85\n",
            "Random Baseline MSE per target: [654721.92941176   5858.39411765   9899.08823529]\n",
            "Average Random Baseline MSE: 223493.14\n",
            "Random Baseline RMSE per target: [809.14889199  76.5401471   99.49416182]\n",
            "Average Random Baseline RMSE: 328.39\n",
            "Random Baseline R² per target: [-1.00366349 -0.9662656  -0.98967552]\n",
            "Average Random Baseline R²: -0.99\n"
          ]
        }
      ]
    },
    {
      "cell_type": "markdown",
      "source": [
        "**Neural Network Model**"
      ],
      "metadata": {
        "id": "oS2QS2_mIovg"
      }
    },
    {
      "cell_type": "markdown",
      "source": [
        "This section defines and trains a neural network using K-Fold cross-validation. The model includes batch normalization, dropout, L2 regularization, and an exponentially decaying learning rate. The Mean Absolute Error (MAE) is calculated for each fold and averaged across all folds\n",
        "\n"
      ],
      "metadata": {
        "id": "0v3cDuBTxUHT"
      }
    },
    {
      "cell_type": "code",
      "source": [
        "#!pip install scikit-learn==1.3.1"
      ],
      "metadata": {
        "id": "auG_U4rz0F8N"
      },
      "execution_count": 19,
      "outputs": []
    },
    {
      "cell_type": "code",
      "source": [
        "!pip install --upgrade scikit-learn scikeras --quiet"
      ],
      "metadata": {
        "id": "FDzqg0_C0Xtp"
      },
      "execution_count": 20,
      "outputs": []
    },
    {
      "cell_type": "code",
      "source": [
        "import tensorflow as tf\n",
        "from tensorflow.keras.models import Sequential\n",
        "from tensorflow.keras.optimizers import Adam\n",
        "from tensorflow.keras.regularizers import l2\n",
        "from sklearn.model_selection import KFold, cross_val_score\n",
        "from tensorflow.keras.callbacks import EarlyStopping, ReduceLROnPlateau\n",
        "from scikeras.wrappers import KerasRegressor\n",
        "from tensorflow.keras.optimizers.schedules import ExponentialDecay\n",
        "from tensorflow.keras.layers import Dense, Dropout, BatchNormalization"
      ],
      "metadata": {
        "id": "NDnvwLumCmgl"
      },
      "execution_count": 21,
      "outputs": []
    },
    {
      "cell_type": "code",
      "source": [
        "y_train_np = y_train.to_numpy()"
      ],
      "metadata": {
        "id": "ST7Z4aRM4onY"
      },
      "execution_count": 22,
      "outputs": []
    },
    {
      "cell_type": "code",
      "source": [
        "lr_schedule = ExponentialDecay(initial_learning_rate=0.01, decay_steps=1000, decay_rate=0.96, staircase=True)"
      ],
      "metadata": {
        "id": "Otvhm2GK6TDX"
      },
      "execution_count": 23,
      "outputs": []
    },
    {
      "cell_type": "code",
      "source": [
        "def build_model():\n",
        "    model = Sequential([\n",
        "        Dense(128, activation='relu', kernel_regularizer=l2(0.01), input_shape=(X_train_transformed.shape[1],)),\n",
        "        BatchNormalization(),\n",
        "        Dropout(0.2),\n",
        "\n",
        "        Dense(64, activation='relu', kernel_regularizer=l2(0.01)),\n",
        "        BatchNormalization(),\n",
        "        Dropout(0.2),\n",
        "\n",
        "        Dense(32, activation='relu', kernel_regularizer=l2(0.01)),\n",
        "        BatchNormalization(),\n",
        "        Dropout(0.2),\n",
        "\n",
        "        Dense(y_train.shape[1], activation='linear')])\n",
        "\n",
        "    optimizer = Adam(learning_rate=lr_schedule)\n",
        "    model.compile(optimizer=optimizer, loss='mse', metrics=['mae'])\n",
        "    return model"
      ],
      "metadata": {
        "id": "gYnX5JVGmEjN"
      },
      "execution_count": 24,
      "outputs": []
    },
    {
      "cell_type": "code",
      "source": [
        "kfold = KFold(n_splits=4, shuffle=True, random_state=42)\n",
        "\n",
        "mae_per_column = []\n",
        "\n",
        "early_stopping = EarlyStopping(monitor='val_loss', patience=10, restore_best_weights=True)\n",
        "\n",
        "for train_idx, val_idx in kfold.split(X_train_transformed):\n",
        "    X_train_fold, X_val_fold = X_train_transformed[train_idx], X_train_transformed[val_idx]\n",
        "    y_train_fold, y_val_fold = y_train_np[train_idx], y_train_np[val_idx]\n",
        "\n",
        "    model = build_model()\n",
        "\n",
        "    history = model.fit(X_train_fold, y_train_fold, epochs=50, batch_size=16, verbose=1,\n",
        "                        validation_data=(X_val_fold, y_val_fold), callbacks=[early_stopping])\n",
        "\n",
        "    y_val_pred = model.predict(X_val_fold)\n",
        "\n",
        "    fold_mae_per_column = mean_absolute_error(y_val_fold, y_val_pred, multioutput=\"raw_values\")\n",
        "\n",
        "    mae_per_column.append(fold_mae_per_column)\n",
        "\n",
        "    print(f\"MAE per column in the current fold: {fold_mae_per_column}\")\n",
        "\n",
        "mae_per_column = np.array(mae_per_column)\n",
        "\n",
        "mean_mae_per_column = mae_per_column.mean(axis=0)\n",
        "\n",
        "print(\"\\nAverage MAE per column:\")\n",
        "for i, col_name in enumerate([\"Calories\", \"Carbohydrates\", \"Protein\"]):\n",
        "    print(f\"{col_name}: {mean_mae_per_column[i]:.2f}\")"
      ],
      "metadata": {
        "colab": {
          "base_uri": "https://localhost:8080/"
        },
        "id": "toCYnSH3mLjH",
        "outputId": "787bd12e-100a-4df2-d5a3-f4c8d9862162"
      },
      "execution_count": 25,
      "outputs": [
        {
          "output_type": "stream",
          "name": "stderr",
          "text": [
            "/usr/local/lib/python3.11/dist-packages/keras/src/layers/core/dense.py:87: UserWarning: Do not pass an `input_shape`/`input_dim` argument to a layer. When using Sequential models, prefer using an `Input(shape)` object as the first layer in the model instead.\n",
            "  super().__init__(activity_regularizer=activity_regularizer, **kwargs)\n"
          ]
        },
        {
          "output_type": "stream",
          "name": "stdout",
          "text": [
            "Epoch 1/50\n",
            "\u001b[1m64/64\u001b[0m \u001b[32m━━━━━━━━━━━━━━━━━━━━\u001b[0m\u001b[37m\u001b[0m \u001b[1m4s\u001b[0m 10ms/step - loss: 1833420.2500 - mae: 882.6155 - val_loss: 1768591.6250 - val_mae: 842.4438\n",
            "Epoch 2/50\n",
            "\u001b[1m64/64\u001b[0m \u001b[32m━━━━━━━━━━━━━━━━━━━━\u001b[0m\u001b[37m\u001b[0m \u001b[1m1s\u001b[0m 9ms/step - loss: 1756653.7500 - mae: 851.6582 - val_loss: 1638580.1250 - val_mae: 783.5590\n",
            "Epoch 3/50\n",
            "\u001b[1m64/64\u001b[0m \u001b[32m━━━━━━━━━━━━━━━━━━━━\u001b[0m\u001b[37m\u001b[0m \u001b[1m1s\u001b[0m 9ms/step - loss: 1577617.6250 - mae: 778.2429 - val_loss: 1348729.0000 - val_mae: 717.3760\n",
            "Epoch 4/50\n",
            "\u001b[1m64/64\u001b[0m \u001b[32m━━━━━━━━━━━━━━━━━━━━\u001b[0m\u001b[37m\u001b[0m \u001b[1m1s\u001b[0m 9ms/step - loss: 1345695.3750 - mae: 709.8433 - val_loss: 951674.3750 - val_mae: 613.4452\n",
            "Epoch 5/50\n",
            "\u001b[1m64/64\u001b[0m \u001b[32m━━━━━━━━━━━━━━━━━━━━\u001b[0m\u001b[37m\u001b[0m \u001b[1m1s\u001b[0m 8ms/step - loss: 1116026.5000 - mae: 641.3443 - val_loss: 883433.4375 - val_mae: 578.9284\n",
            "Epoch 6/50\n",
            "\u001b[1m64/64\u001b[0m \u001b[32m━━━━━━━━━━━━━━━━━━━━\u001b[0m\u001b[37m\u001b[0m \u001b[1m0s\u001b[0m 7ms/step - loss: 830420.6250 - mae: 551.7700 - val_loss: 703112.1875 - val_mae: 502.1164\n",
            "Epoch 7/50\n",
            "\u001b[1m64/64\u001b[0m \u001b[32m━━━━━━━━━━━━━━━━━━━━\u001b[0m\u001b[37m\u001b[0m \u001b[1m0s\u001b[0m 5ms/step - loss: 564520.4375 - mae: 444.6390 - val_loss: 382059.2812 - val_mae: 365.1549\n",
            "Epoch 8/50\n",
            "\u001b[1m64/64\u001b[0m \u001b[32m━━━━━━━━━━━━━━━━━━━━\u001b[0m\u001b[37m\u001b[0m \u001b[1m1s\u001b[0m 6ms/step - loss: 360999.1562 - mae: 350.5056 - val_loss: 195692.5469 - val_mae: 257.9731\n",
            "Epoch 9/50\n",
            "\u001b[1m64/64\u001b[0m \u001b[32m━━━━━━━━━━━━━━━━━━━━\u001b[0m\u001b[37m\u001b[0m \u001b[1m1s\u001b[0m 5ms/step - loss: 221238.2812 - mae: 267.7512 - val_loss: 93387.9844 - val_mae: 173.6761\n",
            "Epoch 10/50\n",
            "\u001b[1m64/64\u001b[0m \u001b[32m━━━━━━━━━━━━━━━━━━━━\u001b[0m\u001b[37m\u001b[0m \u001b[1m1s\u001b[0m 4ms/step - loss: 127968.9688 - mae: 198.3522 - val_loss: 54637.2070 - val_mae: 120.9790\n",
            "Epoch 11/50\n",
            "\u001b[1m64/64\u001b[0m \u001b[32m━━━━━━━━━━━━━━━━━━━━\u001b[0m\u001b[37m\u001b[0m \u001b[1m1s\u001b[0m 3ms/step - loss: 89299.7188 - mae: 160.9104 - val_loss: 42541.3906 - val_mae: 110.3870\n",
            "Epoch 12/50\n",
            "\u001b[1m64/64\u001b[0m \u001b[32m━━━━━━━━━━━━━━━━━━━━\u001b[0m\u001b[37m\u001b[0m \u001b[1m0s\u001b[0m 3ms/step - loss: 56617.1445 - mae: 130.6833 - val_loss: 37856.8945 - val_mae: 97.6681\n",
            "Epoch 13/50\n",
            "\u001b[1m64/64\u001b[0m \u001b[32m━━━━━━━━━━━━━━━━━━━━\u001b[0m\u001b[37m\u001b[0m \u001b[1m0s\u001b[0m 3ms/step - loss: 58090.3008 - mae: 127.5071 - val_loss: 30681.6992 - val_mae: 82.3323\n",
            "Epoch 14/50\n",
            "\u001b[1m64/64\u001b[0m \u001b[32m━━━━━━━━━━━━━━━━━━━━\u001b[0m\u001b[37m\u001b[0m \u001b[1m0s\u001b[0m 3ms/step - loss: 51550.1328 - mae: 124.1648 - val_loss: 37474.0547 - val_mae: 92.5291\n",
            "Epoch 15/50\n",
            "\u001b[1m64/64\u001b[0m \u001b[32m━━━━━━━━━━━━━━━━━━━━\u001b[0m\u001b[37m\u001b[0m \u001b[1m0s\u001b[0m 3ms/step - loss: 50617.4609 - mae: 124.3216 - val_loss: 29342.3262 - val_mae: 83.2196\n",
            "Epoch 16/50\n",
            "\u001b[1m64/64\u001b[0m \u001b[32m━━━━━━━━━━━━━━━━━━━━\u001b[0m\u001b[37m\u001b[0m \u001b[1m0s\u001b[0m 3ms/step - loss: 49012.1211 - mae: 124.0860 - val_loss: 32787.7930 - val_mae: 94.6606\n",
            "Epoch 17/50\n",
            "\u001b[1m64/64\u001b[0m \u001b[32m━━━━━━━━━━━━━━━━━━━━\u001b[0m\u001b[37m\u001b[0m \u001b[1m0s\u001b[0m 3ms/step - loss: 47654.6602 - mae: 120.3547 - val_loss: 30348.5742 - val_mae: 86.0333\n",
            "Epoch 18/50\n",
            "\u001b[1m64/64\u001b[0m \u001b[32m━━━━━━━━━━━━━━━━━━━━\u001b[0m\u001b[37m\u001b[0m \u001b[1m0s\u001b[0m 3ms/step - loss: 48208.3320 - mae: 121.3199 - val_loss: 31107.2598 - val_mae: 81.6904\n",
            "Epoch 19/50\n",
            "\u001b[1m64/64\u001b[0m \u001b[32m━━━━━━━━━━━━━━━━━━━━\u001b[0m\u001b[37m\u001b[0m \u001b[1m0s\u001b[0m 3ms/step - loss: 50504.9883 - mae: 123.4382 - val_loss: 31387.5352 - val_mae: 88.4613\n",
            "Epoch 20/50\n",
            "\u001b[1m64/64\u001b[0m \u001b[32m━━━━━━━━━━━━━━━━━━━━\u001b[0m\u001b[37m\u001b[0m \u001b[1m0s\u001b[0m 3ms/step - loss: 46922.8555 - mae: 117.2497 - val_loss: 34925.0703 - val_mae: 99.6135\n",
            "Epoch 21/50\n",
            "\u001b[1m64/64\u001b[0m \u001b[32m━━━━━━━━━━━━━━━━━━━━\u001b[0m\u001b[37m\u001b[0m \u001b[1m0s\u001b[0m 3ms/step - loss: 48510.3984 - mae: 120.4638 - val_loss: 29952.6055 - val_mae: 79.1584\n",
            "Epoch 22/50\n",
            "\u001b[1m64/64\u001b[0m \u001b[32m━━━━━━━━━━━━━━━━━━━━\u001b[0m\u001b[37m\u001b[0m \u001b[1m0s\u001b[0m 3ms/step - loss: 53476.2461 - mae: 123.2705 - val_loss: 30619.2559 - val_mae: 86.4279\n",
            "Epoch 23/50\n",
            "\u001b[1m64/64\u001b[0m \u001b[32m━━━━━━━━━━━━━━━━━━━━\u001b[0m\u001b[37m\u001b[0m \u001b[1m0s\u001b[0m 3ms/step - loss: 52062.2109 - mae: 123.7053 - val_loss: 30834.5410 - val_mae: 80.7946\n",
            "Epoch 24/50\n",
            "\u001b[1m64/64\u001b[0m \u001b[32m━━━━━━━━━━━━━━━━━━━━\u001b[0m\u001b[37m\u001b[0m \u001b[1m0s\u001b[0m 3ms/step - loss: 49659.3086 - mae: 120.9923 - val_loss: 30398.6758 - val_mae: 81.4333\n",
            "Epoch 25/50\n",
            "\u001b[1m64/64\u001b[0m \u001b[32m━━━━━━━━━━━━━━━━━━━━\u001b[0m\u001b[37m\u001b[0m \u001b[1m0s\u001b[0m 3ms/step - loss: 50553.7930 - mae: 122.9335 - val_loss: 28349.1699 - val_mae: 80.5105\n",
            "Epoch 26/50\n",
            "\u001b[1m64/64\u001b[0m \u001b[32m━━━━━━━━━━━━━━━━━━━━\u001b[0m\u001b[37m\u001b[0m \u001b[1m0s\u001b[0m 3ms/step - loss: 41557.6797 - mae: 113.4297 - val_loss: 28705.5742 - val_mae: 78.8265\n",
            "Epoch 27/50\n",
            "\u001b[1m64/64\u001b[0m \u001b[32m━━━━━━━━━━━━━━━━━━━━\u001b[0m\u001b[37m\u001b[0m \u001b[1m0s\u001b[0m 3ms/step - loss: 56109.8359 - mae: 127.7733 - val_loss: 30095.3086 - val_mae: 83.3470\n",
            "Epoch 28/50\n",
            "\u001b[1m64/64\u001b[0m \u001b[32m━━━━━━━━━━━━━━━━━━━━\u001b[0m\u001b[37m\u001b[0m \u001b[1m0s\u001b[0m 3ms/step - loss: 48120.0938 - mae: 119.9862 - val_loss: 38262.4883 - val_mae: 101.7979\n",
            "Epoch 29/50\n",
            "\u001b[1m64/64\u001b[0m \u001b[32m━━━━━━━━━━━━━━━━━━━━\u001b[0m\u001b[37m\u001b[0m \u001b[1m0s\u001b[0m 3ms/step - loss: 46964.7227 - mae: 118.4117 - val_loss: 30648.5801 - val_mae: 83.1108\n",
            "Epoch 30/50\n",
            "\u001b[1m64/64\u001b[0m \u001b[32m━━━━━━━━━━━━━━━━━━━━\u001b[0m\u001b[37m\u001b[0m \u001b[1m0s\u001b[0m 3ms/step - loss: 41874.3555 - mae: 110.4403 - val_loss: 31070.8438 - val_mae: 81.0421\n",
            "Epoch 31/50\n",
            "\u001b[1m64/64\u001b[0m \u001b[32m━━━━━━━━━━━━━━━━━━━━\u001b[0m\u001b[37m\u001b[0m \u001b[1m0s\u001b[0m 4ms/step - loss: 47487.7305 - mae: 119.2683 - val_loss: 28849.0586 - val_mae: 81.3446\n",
            "Epoch 32/50\n",
            "\u001b[1m64/64\u001b[0m \u001b[32m━━━━━━━━━━━━━━━━━━━━\u001b[0m\u001b[37m\u001b[0m \u001b[1m0s\u001b[0m 3ms/step - loss: 46144.1562 - mae: 116.4468 - val_loss: 41818.9688 - val_mae: 90.5743\n",
            "Epoch 33/50\n",
            "\u001b[1m64/64\u001b[0m \u001b[32m━━━━━━━━━━━━━━━━━━━━\u001b[0m\u001b[37m\u001b[0m \u001b[1m0s\u001b[0m 3ms/step - loss: 46451.4570 - mae: 115.6789 - val_loss: 33437.7344 - val_mae: 95.4406\n",
            "Epoch 34/50\n",
            "\u001b[1m64/64\u001b[0m \u001b[32m━━━━━━━━━━━━━━━━━━━━\u001b[0m\u001b[37m\u001b[0m \u001b[1m0s\u001b[0m 3ms/step - loss: 46482.2031 - mae: 117.2064 - val_loss: 31544.8262 - val_mae: 85.2361\n",
            "Epoch 35/50\n",
            "\u001b[1m64/64\u001b[0m \u001b[32m━━━━━━━━━━━━━━━━━━━━\u001b[0m\u001b[37m\u001b[0m \u001b[1m0s\u001b[0m 3ms/step - loss: 50654.5742 - mae: 123.1472 - val_loss: 31021.2285 - val_mae: 82.8123\n",
            "\u001b[1m11/11\u001b[0m \u001b[32m━━━━━━━━━━━━━━━━━━━━\u001b[0m\u001b[37m\u001b[0m \u001b[1m0s\u001b[0m 8ms/step\n",
            "MAE per column in the current fold: [189.72919   24.739563  27.062765]\n",
            "Epoch 1/50\n"
          ]
        },
        {
          "output_type": "stream",
          "name": "stderr",
          "text": [
            "/usr/local/lib/python3.11/dist-packages/keras/src/layers/core/dense.py:87: UserWarning: Do not pass an `input_shape`/`input_dim` argument to a layer. When using Sequential models, prefer using an `Input(shape)` object as the first layer in the model instead.\n",
            "  super().__init__(activity_regularizer=activity_regularizer, **kwargs)\n"
          ]
        },
        {
          "output_type": "stream",
          "name": "stdout",
          "text": [
            "\u001b[1m64/64\u001b[0m \u001b[32m━━━━━━━━━━━━━━━━━━━━\u001b[0m\u001b[37m\u001b[0m \u001b[1m3s\u001b[0m 6ms/step - loss: 1848951.0000 - mae: 885.7141 - val_loss: 1736369.2500 - val_mae: 841.1459\n",
            "Epoch 2/50\n",
            "\u001b[1m64/64\u001b[0m \u001b[32m━━━━━━━━━━━━━━━━━━━━\u001b[0m\u001b[37m\u001b[0m \u001b[1m0s\u001b[0m 3ms/step - loss: 1794482.1250 - mae: 858.7435 - val_loss: 1578074.3750 - val_mae: 768.9757\n",
            "Epoch 3/50\n",
            "\u001b[1m64/64\u001b[0m \u001b[32m━━━━━━━━━━━━━━━━━━━━\u001b[0m\u001b[37m\u001b[0m \u001b[1m0s\u001b[0m 3ms/step - loss: 1659411.2500 - mae: 793.9570 - val_loss: 1303221.8750 - val_mae: 698.3083\n",
            "Epoch 4/50\n",
            "\u001b[1m64/64\u001b[0m \u001b[32m━━━━━━━━━━━━━━━━━━━━\u001b[0m\u001b[37m\u001b[0m \u001b[1m0s\u001b[0m 3ms/step - loss: 1362674.0000 - mae: 711.8126 - val_loss: 874743.4375 - val_mae: 598.2651\n",
            "Epoch 5/50\n",
            "\u001b[1m64/64\u001b[0m \u001b[32m━━━━━━━━━━━━━━━━━━━━\u001b[0m\u001b[37m\u001b[0m \u001b[1m0s\u001b[0m 3ms/step - loss: 1090459.2500 - mae: 632.2917 - val_loss: 592304.0625 - val_mae: 494.1664\n",
            "Epoch 6/50\n",
            "\u001b[1m64/64\u001b[0m \u001b[32m━━━━━━━━━━━━━━━━━━━━\u001b[0m\u001b[37m\u001b[0m \u001b[1m0s\u001b[0m 3ms/step - loss: 817222.4375 - mae: 544.6746 - val_loss: 390408.7500 - val_mae: 389.1572\n",
            "Epoch 7/50\n",
            "\u001b[1m64/64\u001b[0m \u001b[32m━━━━━━━━━━━━━━━━━━━━\u001b[0m\u001b[37m\u001b[0m \u001b[1m0s\u001b[0m 3ms/step - loss: 574944.5625 - mae: 451.9611 - val_loss: 338360.0625 - val_mae: 345.7336\n",
            "Epoch 8/50\n",
            "\u001b[1m64/64\u001b[0m \u001b[32m━━━━━━━━━━━━━━━━━━━━\u001b[0m\u001b[37m\u001b[0m \u001b[1m0s\u001b[0m 3ms/step - loss: 362039.6875 - mae: 351.5552 - val_loss: 198221.5000 - val_mae: 259.1941\n",
            "Epoch 9/50\n",
            "\u001b[1m64/64\u001b[0m \u001b[32m━━━━━━━━━━━━━━━━━━━━\u001b[0m\u001b[37m\u001b[0m \u001b[1m0s\u001b[0m 3ms/step - loss: 218899.4844 - mae: 268.4280 - val_loss: 113788.1641 - val_mae: 193.6564\n",
            "Epoch 10/50\n",
            "\u001b[1m64/64\u001b[0m \u001b[32m━━━━━━━━━━━━━━━━━━━━\u001b[0m\u001b[37m\u001b[0m \u001b[1m0s\u001b[0m 3ms/step - loss: 136773.9531 - mae: 207.6517 - val_loss: 76192.2344 - val_mae: 161.6391\n",
            "Epoch 11/50\n",
            "\u001b[1m64/64\u001b[0m \u001b[32m━━━━━━━━━━━━━━━━━━━━\u001b[0m\u001b[37m\u001b[0m \u001b[1m0s\u001b[0m 3ms/step - loss: 92409.2734 - mae: 162.6721 - val_loss: 43870.0117 - val_mae: 118.2745\n",
            "Epoch 12/50\n",
            "\u001b[1m64/64\u001b[0m \u001b[32m━━━━━━━━━━━━━━━━━━━━\u001b[0m\u001b[37m\u001b[0m \u001b[1m0s\u001b[0m 3ms/step - loss: 69536.3594 - mae: 142.0221 - val_loss: 26485.0742 - val_mae: 82.4177\n",
            "Epoch 13/50\n",
            "\u001b[1m64/64\u001b[0m \u001b[32m━━━━━━━━━━━━━━━━━━━━\u001b[0m\u001b[37m\u001b[0m \u001b[1m0s\u001b[0m 3ms/step - loss: 53380.9023 - mae: 122.6958 - val_loss: 28304.9766 - val_mae: 82.5657\n",
            "Epoch 14/50\n",
            "\u001b[1m64/64\u001b[0m \u001b[32m━━━━━━━━━━━━━━━━━━━━\u001b[0m\u001b[37m\u001b[0m \u001b[1m0s\u001b[0m 3ms/step - loss: 52422.6836 - mae: 124.1422 - val_loss: 29283.2559 - val_mae: 81.8783\n",
            "Epoch 15/50\n",
            "\u001b[1m64/64\u001b[0m \u001b[32m━━━━━━━━━━━━━━━━━━━━\u001b[0m\u001b[37m\u001b[0m \u001b[1m0s\u001b[0m 3ms/step - loss: 52998.7930 - mae: 125.1118 - val_loss: 29415.2305 - val_mae: 83.5071\n",
            "Epoch 16/50\n",
            "\u001b[1m64/64\u001b[0m \u001b[32m━━━━━━━━━━━━━━━━━━━━\u001b[0m\u001b[37m\u001b[0m \u001b[1m0s\u001b[0m 3ms/step - loss: 45735.0625 - mae: 118.7720 - val_loss: 28661.6641 - val_mae: 86.0276\n",
            "Epoch 17/50\n",
            "\u001b[1m64/64\u001b[0m \u001b[32m━━━━━━━━━━━━━━━━━━━━\u001b[0m\u001b[37m\u001b[0m \u001b[1m0s\u001b[0m 3ms/step - loss: 50623.2773 - mae: 123.4693 - val_loss: 28641.1895 - val_mae: 85.0097\n",
            "Epoch 18/50\n",
            "\u001b[1m64/64\u001b[0m \u001b[32m━━━━━━━━━━━━━━━━━━━━\u001b[0m\u001b[37m\u001b[0m \u001b[1m0s\u001b[0m 3ms/step - loss: 52704.8711 - mae: 121.3686 - val_loss: 28742.8379 - val_mae: 87.5760\n",
            "Epoch 19/50\n",
            "\u001b[1m64/64\u001b[0m \u001b[32m━━━━━━━━━━━━━━━━━━━━\u001b[0m\u001b[37m\u001b[0m \u001b[1m0s\u001b[0m 3ms/step - loss: 46122.5078 - mae: 120.2294 - val_loss: 28783.5312 - val_mae: 82.8667\n",
            "Epoch 20/50\n",
            "\u001b[1m64/64\u001b[0m \u001b[32m━━━━━━━━━━━━━━━━━━━━\u001b[0m\u001b[37m\u001b[0m \u001b[1m0s\u001b[0m 3ms/step - loss: 47398.2266 - mae: 119.8027 - val_loss: 28333.1719 - val_mae: 84.8725\n",
            "Epoch 21/50\n",
            "\u001b[1m64/64\u001b[0m \u001b[32m━━━━━━━━━━━━━━━━━━━━\u001b[0m\u001b[37m\u001b[0m \u001b[1m0s\u001b[0m 3ms/step - loss: 43898.8125 - mae: 114.2655 - val_loss: 25831.1914 - val_mae: 79.8624\n",
            "Epoch 22/50\n",
            "\u001b[1m64/64\u001b[0m \u001b[32m━━━━━━━━━━━━━━━━━━━━\u001b[0m\u001b[37m\u001b[0m \u001b[1m0s\u001b[0m 3ms/step - loss: 47726.6484 - mae: 118.4246 - val_loss: 28401.8965 - val_mae: 82.5061\n",
            "Epoch 23/50\n",
            "\u001b[1m64/64\u001b[0m \u001b[32m━━━━━━━━━━━━━━━━━━━━\u001b[0m\u001b[37m\u001b[0m \u001b[1m0s\u001b[0m 3ms/step - loss: 49928.2500 - mae: 120.0078 - val_loss: 31537.9648 - val_mae: 91.5661\n",
            "Epoch 24/50\n",
            "\u001b[1m64/64\u001b[0m \u001b[32m━━━━━━━━━━━━━━━━━━━━\u001b[0m\u001b[37m\u001b[0m \u001b[1m0s\u001b[0m 3ms/step - loss: 45528.5352 - mae: 114.6830 - val_loss: 27892.0801 - val_mae: 85.4262\n",
            "Epoch 25/50\n",
            "\u001b[1m64/64\u001b[0m \u001b[32m━━━━━━━━━━━━━━━━━━━━\u001b[0m\u001b[37m\u001b[0m \u001b[1m0s\u001b[0m 3ms/step - loss: 49625.0625 - mae: 122.3888 - val_loss: 30737.3008 - val_mae: 92.3204\n",
            "Epoch 26/50\n",
            "\u001b[1m64/64\u001b[0m \u001b[32m━━━━━━━━━━━━━━━━━━━━\u001b[0m\u001b[37m\u001b[0m \u001b[1m0s\u001b[0m 3ms/step - loss: 49316.8164 - mae: 121.6610 - val_loss: 26739.8672 - val_mae: 78.7076\n",
            "Epoch 27/50\n",
            "\u001b[1m64/64\u001b[0m \u001b[32m━━━━━━━━━━━━━━━━━━━━\u001b[0m\u001b[37m\u001b[0m \u001b[1m0s\u001b[0m 3ms/step - loss: 50962.9844 - mae: 123.8672 - val_loss: 29025.2539 - val_mae: 81.1264\n",
            "Epoch 28/50\n",
            "\u001b[1m64/64\u001b[0m \u001b[32m━━━━━━━━━━━━━━━━━━━━\u001b[0m\u001b[37m\u001b[0m \u001b[1m0s\u001b[0m 3ms/step - loss: 43968.1016 - mae: 116.0480 - val_loss: 27509.4453 - val_mae: 78.2147\n",
            "Epoch 29/50\n",
            "\u001b[1m64/64\u001b[0m \u001b[32m━━━━━━━━━━━━━━━━━━━━\u001b[0m\u001b[37m\u001b[0m \u001b[1m0s\u001b[0m 3ms/step - loss: 54087.9844 - mae: 124.5633 - val_loss: 26495.0410 - val_mae: 77.8566\n",
            "Epoch 30/50\n",
            "\u001b[1m64/64\u001b[0m \u001b[32m━━━━━━━━━━━━━━━━━━━━\u001b[0m\u001b[37m\u001b[0m \u001b[1m0s\u001b[0m 3ms/step - loss: 52975.1445 - mae: 122.2976 - val_loss: 27265.2031 - val_mae: 84.2931\n",
            "Epoch 31/50\n",
            "\u001b[1m64/64\u001b[0m \u001b[32m━━━━━━━━━━━━━━━━━━━━\u001b[0m\u001b[37m\u001b[0m \u001b[1m0s\u001b[0m 3ms/step - loss: 47990.5469 - mae: 120.6402 - val_loss: 28027.2734 - val_mae: 83.5570\n",
            "\u001b[1m11/11\u001b[0m \u001b[32m━━━━━━━━━━━━━━━━━━━━\u001b[0m\u001b[37m\u001b[0m \u001b[1m0s\u001b[0m 8ms/step\n",
            "MAE per column in the current fold: [186.20995   23.240494  30.136929]\n",
            "Epoch 1/50\n"
          ]
        },
        {
          "output_type": "stream",
          "name": "stderr",
          "text": [
            "/usr/local/lib/python3.11/dist-packages/keras/src/layers/core/dense.py:87: UserWarning: Do not pass an `input_shape`/`input_dim` argument to a layer. When using Sequential models, prefer using an `Input(shape)` object as the first layer in the model instead.\n",
            "  super().__init__(activity_regularizer=activity_regularizer, **kwargs)\n"
          ]
        },
        {
          "output_type": "stream",
          "name": "stdout",
          "text": [
            "\u001b[1m64/64\u001b[0m \u001b[32m━━━━━━━━━━━━━━━━━━━━\u001b[0m\u001b[37m\u001b[0m \u001b[1m3s\u001b[0m 6ms/step - loss: 1832068.5000 - mae: 883.5057 - val_loss: 1775110.7500 - val_mae: 846.1991\n",
            "Epoch 2/50\n",
            "\u001b[1m64/64\u001b[0m \u001b[32m━━━━━━━━━━━━━━━━━━━━\u001b[0m\u001b[37m\u001b[0m \u001b[1m0s\u001b[0m 3ms/step - loss: 1735728.5000 - mae: 845.5225 - val_loss: 1594544.7500 - val_mae: 771.6728\n",
            "Epoch 3/50\n",
            "\u001b[1m64/64\u001b[0m \u001b[32m━━━━━━━━━━━━━━━━━━━━\u001b[0m\u001b[37m\u001b[0m \u001b[1m0s\u001b[0m 3ms/step - loss: 1624699.1250 - mae: 789.4149 - val_loss: 1314412.0000 - val_mae: 694.9755\n",
            "Epoch 4/50\n",
            "\u001b[1m64/64\u001b[0m \u001b[32m━━━━━━━━━━━━━━━━━━━━\u001b[0m\u001b[37m\u001b[0m \u001b[1m0s\u001b[0m 3ms/step - loss: 1361672.7500 - mae: 709.0558 - val_loss: 868786.6250 - val_mae: 607.5093\n",
            "Epoch 5/50\n",
            "\u001b[1m64/64\u001b[0m \u001b[32m━━━━━━━━━━━━━━━━━━━━\u001b[0m\u001b[37m\u001b[0m \u001b[1m0s\u001b[0m 3ms/step - loss: 1071565.2500 - mae: 628.1321 - val_loss: 670976.3750 - val_mae: 515.3130\n",
            "Epoch 6/50\n",
            "\u001b[1m64/64\u001b[0m \u001b[32m━━━━━━━━━━━━━━━━━━━━\u001b[0m\u001b[37m\u001b[0m \u001b[1m0s\u001b[0m 3ms/step - loss: 835469.6250 - mae: 549.1488 - val_loss: 580570.1250 - val_mae: 463.8846\n",
            "Epoch 7/50\n",
            "\u001b[1m64/64\u001b[0m \u001b[32m━━━━━━━━━━━━━━━━━━━━\u001b[0m\u001b[37m\u001b[0m \u001b[1m0s\u001b[0m 3ms/step - loss: 563650.7500 - mae: 445.7660 - val_loss: 297062.5938 - val_mae: 324.7990\n",
            "Epoch 8/50\n",
            "\u001b[1m64/64\u001b[0m \u001b[32m━━━━━━━━━━━━━━━━━━━━\u001b[0m\u001b[37m\u001b[0m \u001b[1m0s\u001b[0m 3ms/step - loss: 353639.3750 - mae: 350.6614 - val_loss: 167890.2344 - val_mae: 239.3975\n",
            "Epoch 9/50\n",
            "\u001b[1m64/64\u001b[0m \u001b[32m━━━━━━━━━━━━━━━━━━━━\u001b[0m\u001b[37m\u001b[0m \u001b[1m0s\u001b[0m 3ms/step - loss: 206472.5312 - mae: 261.0378 - val_loss: 103082.8828 - val_mae: 186.7253\n",
            "Epoch 10/50\n",
            "\u001b[1m64/64\u001b[0m \u001b[32m━━━━━━━━━━━━━━━━━━━━\u001b[0m\u001b[37m\u001b[0m \u001b[1m0s\u001b[0m 3ms/step - loss: 128990.6484 - mae: 200.7140 - val_loss: 70846.8047 - val_mae: 151.9527\n",
            "Epoch 11/50\n",
            "\u001b[1m64/64\u001b[0m \u001b[32m━━━━━━━━━━━━━━━━━━━━\u001b[0m\u001b[37m\u001b[0m \u001b[1m0s\u001b[0m 3ms/step - loss: 91051.6797 - mae: 165.2670 - val_loss: 51551.4219 - val_mae: 127.4925\n",
            "Epoch 12/50\n",
            "\u001b[1m64/64\u001b[0m \u001b[32m━━━━━━━━━━━━━━━━━━━━\u001b[0m\u001b[37m\u001b[0m \u001b[1m0s\u001b[0m 3ms/step - loss: 65360.4648 - mae: 141.5142 - val_loss: 37032.0547 - val_mae: 100.9212\n",
            "Epoch 13/50\n",
            "\u001b[1m64/64\u001b[0m \u001b[32m━━━━━━━━━━━━━━━━━━━━\u001b[0m\u001b[37m\u001b[0m \u001b[1m0s\u001b[0m 3ms/step - loss: 58982.6523 - mae: 129.2169 - val_loss: 43657.7305 - val_mae: 114.1250\n",
            "Epoch 14/50\n",
            "\u001b[1m64/64\u001b[0m \u001b[32m━━━━━━━━━━━━━━━━━━━━\u001b[0m\u001b[37m\u001b[0m \u001b[1m0s\u001b[0m 3ms/step - loss: 51399.2734 - mae: 125.3676 - val_loss: 29743.8730 - val_mae: 88.9688\n",
            "Epoch 15/50\n",
            "\u001b[1m64/64\u001b[0m \u001b[32m━━━━━━━━━━━━━━━━━━━━\u001b[0m\u001b[37m\u001b[0m \u001b[1m0s\u001b[0m 4ms/step - loss: 54013.7812 - mae: 128.4882 - val_loss: 26926.3418 - val_mae: 81.9675\n",
            "Epoch 16/50\n",
            "\u001b[1m64/64\u001b[0m \u001b[32m━━━━━━━━━━━━━━━━━━━━\u001b[0m\u001b[37m\u001b[0m \u001b[1m0s\u001b[0m 3ms/step - loss: 50086.3164 - mae: 121.8172 - val_loss: 27084.1270 - val_mae: 84.4264\n",
            "Epoch 17/50\n",
            "\u001b[1m64/64\u001b[0m \u001b[32m━━━━━━━━━━━━━━━━━━━━\u001b[0m\u001b[37m\u001b[0m \u001b[1m0s\u001b[0m 3ms/step - loss: 42891.8281 - mae: 112.5104 - val_loss: 28767.9121 - val_mae: 84.1505\n",
            "Epoch 18/50\n",
            "\u001b[1m64/64\u001b[0m \u001b[32m━━━━━━━━━━━━━━━━━━━━\u001b[0m\u001b[37m\u001b[0m \u001b[1m0s\u001b[0m 3ms/step - loss: 42616.7422 - mae: 111.5138 - val_loss: 29091.0098 - val_mae: 88.6329\n",
            "Epoch 19/50\n",
            "\u001b[1m64/64\u001b[0m \u001b[32m━━━━━━━━━━━━━━━━━━━━\u001b[0m\u001b[37m\u001b[0m \u001b[1m0s\u001b[0m 3ms/step - loss: 51592.4961 - mae: 123.6324 - val_loss: 33385.1094 - val_mae: 91.2284\n",
            "Epoch 20/50\n",
            "\u001b[1m64/64\u001b[0m \u001b[32m━━━━━━━━━━━━━━━━━━━━\u001b[0m\u001b[37m\u001b[0m \u001b[1m0s\u001b[0m 3ms/step - loss: 51009.5312 - mae: 120.3557 - val_loss: 28287.7402 - val_mae: 80.2959\n",
            "Epoch 21/50\n",
            "\u001b[1m64/64\u001b[0m \u001b[32m━━━━━━━━━━━━━━━━━━━━\u001b[0m\u001b[37m\u001b[0m \u001b[1m0s\u001b[0m 3ms/step - loss: 53672.4453 - mae: 124.7343 - val_loss: 28965.8262 - val_mae: 84.0994\n",
            "Epoch 22/50\n",
            "\u001b[1m64/64\u001b[0m \u001b[32m━━━━━━━━━━━━━━━━━━━━\u001b[0m\u001b[37m\u001b[0m \u001b[1m0s\u001b[0m 3ms/step - loss: 48412.3789 - mae: 118.8550 - val_loss: 29578.2793 - val_mae: 81.6577\n",
            "Epoch 23/50\n",
            "\u001b[1m64/64\u001b[0m \u001b[32m━━━━━━━━━━━━━━━━━━━━\u001b[0m\u001b[37m\u001b[0m \u001b[1m0s\u001b[0m 3ms/step - loss: 45512.7188 - mae: 115.9762 - val_loss: 28347.8906 - val_mae: 76.5281\n",
            "Epoch 24/50\n",
            "\u001b[1m64/64\u001b[0m \u001b[32m━━━━━━━━━━━━━━━━━━━━\u001b[0m\u001b[37m\u001b[0m \u001b[1m0s\u001b[0m 3ms/step - loss: 46745.2266 - mae: 116.6391 - val_loss: 30037.5078 - val_mae: 82.2962\n",
            "Epoch 25/50\n",
            "\u001b[1m64/64\u001b[0m \u001b[32m━━━━━━━━━━━━━━━━━━━━\u001b[0m\u001b[37m\u001b[0m \u001b[1m0s\u001b[0m 3ms/step - loss: 44720.6133 - mae: 114.5300 - val_loss: 26488.4336 - val_mae: 76.4138\n",
            "Epoch 26/50\n",
            "\u001b[1m64/64\u001b[0m \u001b[32m━━━━━━━━━━━━━━━━━━━━\u001b[0m\u001b[37m\u001b[0m \u001b[1m0s\u001b[0m 3ms/step - loss: 48960.1953 - mae: 119.0102 - val_loss: 28018.5781 - val_mae: 80.8655\n",
            "Epoch 27/50\n",
            "\u001b[1m64/64\u001b[0m \u001b[32m━━━━━━━━━━━━━━━━━━━━\u001b[0m\u001b[37m\u001b[0m \u001b[1m0s\u001b[0m 3ms/step - loss: 45186.4609 - mae: 116.0474 - val_loss: 30623.9609 - val_mae: 83.6269\n",
            "Epoch 28/50\n",
            "\u001b[1m64/64\u001b[0m \u001b[32m━━━━━━━━━━━━━━━━━━━━\u001b[0m\u001b[37m\u001b[0m \u001b[1m0s\u001b[0m 3ms/step - loss: 45331.8047 - mae: 115.6259 - val_loss: 27122.1719 - val_mae: 75.4165\n",
            "Epoch 29/50\n",
            "\u001b[1m64/64\u001b[0m \u001b[32m━━━━━━━━━━━━━━━━━━━━\u001b[0m\u001b[37m\u001b[0m \u001b[1m0s\u001b[0m 3ms/step - loss: 44625.4688 - mae: 115.9499 - val_loss: 27202.3477 - val_mae: 77.9156\n",
            "Epoch 30/50\n",
            "\u001b[1m64/64\u001b[0m \u001b[32m━━━━━━━━━━━━━━━━━━━━\u001b[0m\u001b[37m\u001b[0m \u001b[1m0s\u001b[0m 3ms/step - loss: 45618.5898 - mae: 115.6511 - val_loss: 28225.5312 - val_mae: 79.0642\n",
            "Epoch 31/50\n",
            "\u001b[1m64/64\u001b[0m \u001b[32m━━━━━━━━━━━━━━━━━━━━\u001b[0m\u001b[37m\u001b[0m \u001b[1m0s\u001b[0m 3ms/step - loss: 45746.4180 - mae: 117.2470 - val_loss: 29622.4277 - val_mae: 80.7754\n",
            "Epoch 32/50\n",
            "\u001b[1m64/64\u001b[0m \u001b[32m━━━━━━━━━━━━━━━━━━━━\u001b[0m\u001b[37m\u001b[0m \u001b[1m0s\u001b[0m 3ms/step - loss: 44645.6914 - mae: 117.2209 - val_loss: 28607.5605 - val_mae: 83.1311\n",
            "Epoch 33/50\n",
            "\u001b[1m64/64\u001b[0m \u001b[32m━━━━━━━━━━━━━━━━━━━━\u001b[0m\u001b[37m\u001b[0m \u001b[1m0s\u001b[0m 3ms/step - loss: 44573.5898 - mae: 115.6303 - val_loss: 27913.1836 - val_mae: 78.4765\n",
            "Epoch 34/50\n",
            "\u001b[1m64/64\u001b[0m \u001b[32m━━━━━━━━━━━━━━━━━━━━\u001b[0m\u001b[37m\u001b[0m \u001b[1m0s\u001b[0m 3ms/step - loss: 42913.0547 - mae: 112.1273 - val_loss: 28666.1094 - val_mae: 81.5238\n",
            "Epoch 35/50\n",
            "\u001b[1m64/64\u001b[0m \u001b[32m━━━━━━━━━━━━━━━━━━━━\u001b[0m\u001b[37m\u001b[0m \u001b[1m0s\u001b[0m 3ms/step - loss: 43470.6367 - mae: 112.8348 - val_loss: 27833.4375 - val_mae: 77.1194\n",
            "\u001b[1m11/11\u001b[0m \u001b[32m━━━━━━━━━━━━━━━━━━━━\u001b[0m\u001b[37m\u001b[0m \u001b[1m0s\u001b[0m 11ms/step\n",
            "MAE per column in the current fold: [179.97362   22.361246  26.906544]\n",
            "Epoch 1/50\n"
          ]
        },
        {
          "output_type": "stream",
          "name": "stderr",
          "text": [
            "/usr/local/lib/python3.11/dist-packages/keras/src/layers/core/dense.py:87: UserWarning: Do not pass an `input_shape`/`input_dim` argument to a layer. When using Sequential models, prefer using an `Input(shape)` object as the first layer in the model instead.\n",
            "  super().__init__(activity_regularizer=activity_regularizer, **kwargs)\n"
          ]
        },
        {
          "output_type": "stream",
          "name": "stdout",
          "text": [
            "\u001b[1m64/64\u001b[0m \u001b[32m━━━━━━━━━━━━━━━━━━━━\u001b[0m\u001b[37m\u001b[0m \u001b[1m3s\u001b[0m 6ms/step - loss: 1923234.7500 - mae: 904.1672 - val_loss: 1708711.1250 - val_mae: 832.7166\n",
            "Epoch 2/50\n",
            "\u001b[1m64/64\u001b[0m \u001b[32m━━━━━━━━━━━━━━━━━━━━\u001b[0m\u001b[37m\u001b[0m \u001b[1m0s\u001b[0m 3ms/step - loss: 1802338.2500 - mae: 864.6049 - val_loss: 1561394.2500 - val_mae: 766.1498\n",
            "Epoch 3/50\n",
            "\u001b[1m64/64\u001b[0m \u001b[32m━━━━━━━━━━━━━━━━━━━━\u001b[0m\u001b[37m\u001b[0m \u001b[1m0s\u001b[0m 3ms/step - loss: 1624377.5000 - mae: 790.6970 - val_loss: 1275422.2500 - val_mae: 701.5838\n",
            "Epoch 4/50\n",
            "\u001b[1m64/64\u001b[0m \u001b[32m━━━━━━━━━━━━━━━━━━━━\u001b[0m\u001b[37m\u001b[0m \u001b[1m0s\u001b[0m 3ms/step - loss: 1363735.1250 - mae: 715.4872 - val_loss: 990773.1250 - val_mae: 634.5957\n",
            "Epoch 5/50\n",
            "\u001b[1m64/64\u001b[0m \u001b[32m━━━━━━━━━━━━━━━━━━━━\u001b[0m\u001b[37m\u001b[0m \u001b[1m0s\u001b[0m 3ms/step - loss: 1079612.3750 - mae: 632.2876 - val_loss: 706817.0000 - val_mae: 514.7922\n",
            "Epoch 6/50\n",
            "\u001b[1m64/64\u001b[0m \u001b[32m━━━━━━━━━━━━━━━━━━━━\u001b[0m\u001b[37m\u001b[0m \u001b[1m0s\u001b[0m 3ms/step - loss: 839361.7500 - mae: 551.5004 - val_loss: 405854.8750 - val_mae: 389.8665\n",
            "Epoch 7/50\n",
            "\u001b[1m64/64\u001b[0m \u001b[32m━━━━━━━━━━━━━━━━━━━━\u001b[0m\u001b[37m\u001b[0m \u001b[1m0s\u001b[0m 3ms/step - loss: 552915.1875 - mae: 443.6613 - val_loss: 370986.1875 - val_mae: 363.1080\n",
            "Epoch 8/50\n",
            "\u001b[1m64/64\u001b[0m \u001b[32m━━━━━━━━━━━━━━━━━━━━\u001b[0m\u001b[37m\u001b[0m \u001b[1m0s\u001b[0m 3ms/step - loss: 356871.1875 - mae: 349.4071 - val_loss: 188466.4062 - val_mae: 254.4320\n",
            "Epoch 9/50\n",
            "\u001b[1m64/64\u001b[0m \u001b[32m━━━━━━━━━━━━━━━━━━━━\u001b[0m\u001b[37m\u001b[0m \u001b[1m0s\u001b[0m 3ms/step - loss: 218827.6562 - mae: 265.1094 - val_loss: 100378.8828 - val_mae: 182.1869\n",
            "Epoch 10/50\n",
            "\u001b[1m64/64\u001b[0m \u001b[32m━━━━━━━━━━━━━━━━━━━━\u001b[0m\u001b[37m\u001b[0m \u001b[1m0s\u001b[0m 3ms/step - loss: 138671.7812 - mae: 209.0867 - val_loss: 50616.4609 - val_mae: 122.5418\n",
            "Epoch 11/50\n",
            "\u001b[1m64/64\u001b[0m \u001b[32m━━━━━━━━━━━━━━━━━━━━\u001b[0m\u001b[37m\u001b[0m \u001b[1m0s\u001b[0m 3ms/step - loss: 85684.0938 - mae: 161.3279 - val_loss: 41992.6562 - val_mae: 110.6421\n",
            "Epoch 12/50\n",
            "\u001b[1m64/64\u001b[0m \u001b[32m━━━━━━━━━━━━━━━━━━━━\u001b[0m\u001b[37m\u001b[0m \u001b[1m0s\u001b[0m 3ms/step - loss: 59796.4375 - mae: 133.3057 - val_loss: 37807.7578 - val_mae: 108.1138\n",
            "Epoch 13/50\n",
            "\u001b[1m64/64\u001b[0m \u001b[32m━━━━━━━━━━━━━━━━━━━━\u001b[0m\u001b[37m\u001b[0m \u001b[1m0s\u001b[0m 3ms/step - loss: 53609.3008 - mae: 127.4404 - val_loss: 26710.4336 - val_mae: 86.2921\n",
            "Epoch 14/50\n",
            "\u001b[1m64/64\u001b[0m \u001b[32m━━━━━━━━━━━━━━━━━━━━\u001b[0m\u001b[37m\u001b[0m \u001b[1m0s\u001b[0m 3ms/step - loss: 47959.6289 - mae: 123.1484 - val_loss: 30019.4512 - val_mae: 88.0464\n",
            "Epoch 15/50\n",
            "\u001b[1m64/64\u001b[0m \u001b[32m━━━━━━━━━━━━━━━━━━━━\u001b[0m\u001b[37m\u001b[0m \u001b[1m0s\u001b[0m 3ms/step - loss: 52004.7461 - mae: 123.6710 - val_loss: 31878.3594 - val_mae: 96.2656\n",
            "Epoch 16/50\n",
            "\u001b[1m64/64\u001b[0m \u001b[32m━━━━━━━━━━━━━━━━━━━━\u001b[0m\u001b[37m\u001b[0m \u001b[1m0s\u001b[0m 3ms/step - loss: 51001.0664 - mae: 125.0247 - val_loss: 29274.7676 - val_mae: 86.4657\n",
            "Epoch 17/50\n",
            "\u001b[1m64/64\u001b[0m \u001b[32m━━━━━━━━━━━━━━━━━━━━\u001b[0m\u001b[37m\u001b[0m \u001b[1m0s\u001b[0m 3ms/step - loss: 54578.2383 - mae: 127.8552 - val_loss: 28563.1113 - val_mae: 85.3475\n",
            "Epoch 18/50\n",
            "\u001b[1m64/64\u001b[0m \u001b[32m━━━━━━━━━━━━━━━━━━━━\u001b[0m\u001b[37m\u001b[0m \u001b[1m0s\u001b[0m 3ms/step - loss: 48739.3164 - mae: 120.0124 - val_loss: 29393.9141 - val_mae: 88.2499\n",
            "Epoch 19/50\n",
            "\u001b[1m64/64\u001b[0m \u001b[32m━━━━━━━━━━━━━━━━━━━━\u001b[0m\u001b[37m\u001b[0m \u001b[1m0s\u001b[0m 3ms/step - loss: 54683.5273 - mae: 129.5427 - val_loss: 26793.1562 - val_mae: 81.1637\n",
            "Epoch 20/50\n",
            "\u001b[1m64/64\u001b[0m \u001b[32m━━━━━━━━━━━━━━━━━━━━\u001b[0m\u001b[37m\u001b[0m \u001b[1m0s\u001b[0m 3ms/step - loss: 54057.3672 - mae: 123.3574 - val_loss: 26476.0234 - val_mae: 81.0621\n",
            "Epoch 21/50\n",
            "\u001b[1m64/64\u001b[0m \u001b[32m━━━━━━━━━━━━━━━━━━━━\u001b[0m\u001b[37m\u001b[0m \u001b[1m0s\u001b[0m 3ms/step - loss: 52730.5547 - mae: 124.8362 - val_loss: 27655.3828 - val_mae: 83.1577\n",
            "Epoch 22/50\n",
            "\u001b[1m64/64\u001b[0m \u001b[32m━━━━━━━━━━━━━━━━━━━━\u001b[0m\u001b[37m\u001b[0m \u001b[1m0s\u001b[0m 3ms/step - loss: 54519.3398 - mae: 124.6190 - val_loss: 26035.7500 - val_mae: 80.3702\n",
            "Epoch 23/50\n",
            "\u001b[1m64/64\u001b[0m \u001b[32m━━━━━━━━━━━━━━━━━━━━\u001b[0m\u001b[37m\u001b[0m \u001b[1m0s\u001b[0m 3ms/step - loss: 46346.1406 - mae: 116.3749 - val_loss: 27495.9062 - val_mae: 83.5013\n",
            "Epoch 24/50\n",
            "\u001b[1m64/64\u001b[0m \u001b[32m━━━━━━━━━━━━━━━━━━━━\u001b[0m\u001b[37m\u001b[0m \u001b[1m0s\u001b[0m 3ms/step - loss: 50123.6680 - mae: 122.0928 - val_loss: 29361.0449 - val_mae: 87.5030\n",
            "Epoch 25/50\n",
            "\u001b[1m64/64\u001b[0m \u001b[32m━━━━━━━━━━━━━━━━━━━━\u001b[0m\u001b[37m\u001b[0m \u001b[1m0s\u001b[0m 3ms/step - loss: 46751.1328 - mae: 115.9425 - val_loss: 28470.6934 - val_mae: 82.3901\n",
            "Epoch 26/50\n",
            "\u001b[1m64/64\u001b[0m \u001b[32m━━━━━━━━━━━━━━━━━━━━\u001b[0m\u001b[37m\u001b[0m \u001b[1m0s\u001b[0m 3ms/step - loss: 46311.7773 - mae: 115.1840 - val_loss: 33168.9805 - val_mae: 96.0353\n",
            "Epoch 27/50\n",
            "\u001b[1m64/64\u001b[0m \u001b[32m━━━━━━━━━━━━━━━━━━━━\u001b[0m\u001b[37m\u001b[0m \u001b[1m0s\u001b[0m 3ms/step - loss: 49414.0664 - mae: 122.0174 - val_loss: 27922.8496 - val_mae: 85.2831\n",
            "Epoch 28/50\n",
            "\u001b[1m64/64\u001b[0m \u001b[32m━━━━━━━━━━━━━━━━━━━━\u001b[0m\u001b[37m\u001b[0m \u001b[1m0s\u001b[0m 3ms/step - loss: 51773.6523 - mae: 124.8585 - val_loss: 26806.5781 - val_mae: 80.6777\n",
            "Epoch 29/50\n",
            "\u001b[1m64/64\u001b[0m \u001b[32m━━━━━━━━━━━━━━━━━━━━\u001b[0m\u001b[37m\u001b[0m \u001b[1m0s\u001b[0m 3ms/step - loss: 49058.3203 - mae: 119.0277 - val_loss: 29276.8379 - val_mae: 85.1814\n",
            "Epoch 30/50\n",
            "\u001b[1m64/64\u001b[0m \u001b[32m━━━━━━━━━━━━━━━━━━━━\u001b[0m\u001b[37m\u001b[0m \u001b[1m0s\u001b[0m 3ms/step - loss: 50584.1328 - mae: 122.8315 - val_loss: 26898.8887 - val_mae: 81.3898\n",
            "Epoch 31/50\n",
            "\u001b[1m64/64\u001b[0m \u001b[32m━━━━━━━━━━━━━━━━━━━━\u001b[0m\u001b[37m\u001b[0m \u001b[1m0s\u001b[0m 3ms/step - loss: 46690.7344 - mae: 117.4403 - val_loss: 26752.7734 - val_mae: 78.2202\n",
            "Epoch 32/50\n",
            "\u001b[1m64/64\u001b[0m \u001b[32m━━━━━━━━━━━━━━━━━━━━\u001b[0m\u001b[37m\u001b[0m \u001b[1m0s\u001b[0m 3ms/step - loss: 45949.6367 - mae: 116.4183 - val_loss: 30797.9727 - val_mae: 94.2924\n",
            "\u001b[1m11/11\u001b[0m \u001b[32m━━━━━━━━━━━━━━━━━━━━\u001b[0m\u001b[37m\u001b[0m \u001b[1m0s\u001b[0m 10ms/step\n",
            "MAE per column in the current fold: [189.10306   24.343836  27.663837]\n",
            "\n",
            "Average MAE per column:\n",
            "Calories: 186.25\n",
            "Carbohydrates: 23.67\n",
            "Protein: 27.94\n"
          ]
        }
      ]
    },
    {
      "cell_type": "markdown",
      "source": [
        "**Plot Training vs. Validation Loss**"
      ],
      "metadata": {
        "id": "HnYPIe1ULnnt"
      }
    },
    {
      "cell_type": "code",
      "source": [
        "import matplotlib.pyplot as plt\n",
        "\n",
        "plt.figure(figsize=(12, 5))\n",
        "plt.subplot(1, 2, 1)\n",
        "plt.plot(history.history['loss'], label='Training Loss')\n",
        "plt.plot(history.history['val_loss'], label='Validation Loss')\n",
        "plt.xlabel('Epochs')\n",
        "plt.ylabel('Loss (MSE)')\n",
        "plt.title('Training vs Validation Loss')\n",
        "plt.legend()"
      ],
      "metadata": {
        "colab": {
          "base_uri": "https://localhost:8080/",
          "height": 504
        },
        "id": "kcfPYbYmgEv0",
        "outputId": "fda231d1-3469-4a8b-ba42-a5962745e726"
      },
      "execution_count": 26,
      "outputs": [
        {
          "output_type": "execute_result",
          "data": {
            "text/plain": [
              "<matplotlib.legend.Legend at 0x7fdb2443b350>"
            ]
          },
          "metadata": {},
          "execution_count": 26
        },
        {
          "output_type": "display_data",
          "data": {
            "text/plain": [
              "<Figure size 1200x500 with 1 Axes>"
            ],
            "image/png": "[encoded data removed]"
          },
          "metadata": {}
        }
      ]
    },
    {
      "cell_type": "markdown",
      "source": [
        "**Model Evaluation**"
      ],
      "metadata": {
        "id": "bg-UQ71INoNw"
      }
    },
    {
      "cell_type": "code",
      "source": [
        "y_test_pred = model.predict(X_test_transformed)\n",
        "\n",
        "test_mae = mean_absolute_error(y_test, y_test_pred, multioutput=\"raw_values\")\n",
        "test_mse = mean_squared_error(y_test, y_test_pred, multioutput=\"raw_values\")\n",
        "test_rmse = np.sqrt(test_mse)\n",
        "test_r2 = r2_score(y_test, y_test_pred, multioutput=\"raw_values\")\n",
        "\n",
        "print(\"\\n**Model Performance Comparison vs. Baseline**\")\n",
        "\n",
        "print(\"\\nMAE - Mean Absolute Error:\")\n",
        "print(f\"Random Baseline: {np.round([631.62, 58.01, 82.83], 2)}\")\n",
        "print(f\"Model Performance: {np.round(test_mae, 2)}\")\n",
        "\n",
        "print(\"\\nMSE-Mean Squared Error:\")\n",
        "print(f\"Random Baseline: {np.round([637653.03, 5360.05, 10613.26], 2)}\")\n",
        "print(f\"Model Performance: {np.round(test_mse, 2)}\")\n",
        "\n",
        "print(\"\\nRMSE - Root Mean Squared Error:\")\n",
        "print(f\"Random Baseline: {np.round([798.53, 73.21, 103.02], 2)}\")\n",
        "print(f\"Model Performance: {np.round(test_rmse, 2)}\")\n",
        "\n",
        "print(\"\\nR² - Proportion of Variance Explained by the Model:\")\n",
        "print(f\"Random Baseline: {np.round([-0.94, -0.94, -1.03], 2)}\")\n",
        "print(f\"Model Performance: {np.round(test_r2, 2)}\")\n",
        "\n",
        "print(\"\\nAverage Metric Comparison Between Model and Baseline:\")\n",
        "print(f\"Average Random Baseline MAE: {np.round(257.49, 2)}, Model MAE: {np.round(test_mae.mean(), 2)}\")\n",
        "print(f\"Average Random Baseline MSE: {np.round(217875.45, 2)}, Model MSE: {np.round(test_mse.mean(), 2)}\")\n",
        "print(f\"Average Random Baseline RMSE: {np.round(324.92, 2)}, Model RMSE: {np.round(test_rmse.mean(), 2)}\")\n",
        "print(f\"Average Random Baseline R²: {np.round(-0.97, 2)}, Model R²: {np.round(test_r2.mean(), 2)}\")"
      ],
      "metadata": {
        "id": "X2ZuQhnQLi_2",
        "colab": {
          "base_uri": "https://localhost:8080/"
        },
        "outputId": "217c2cb5-56a3-4e18-9718-b49840d2a47e"
      },
      "execution_count": 27,
      "outputs": [
        {
          "output_type": "stream",
          "name": "stdout",
          "text": [
            "\u001b[1m11/11\u001b[0m \u001b[32m━━━━━━━━━━━━━━━━━━━━\u001b[0m\u001b[37m\u001b[0m \u001b[1m0s\u001b[0m 3ms/step \n",
            "\n",
            "**Model Performance Comparison vs. Baseline**\n",
            "\n",
            "MAE - Mean Absolute Error:\n",
            "Random Baseline: [631.62  58.01  82.83]\n",
            "Model Performance: [203.95  25.54  27.36]\n",
            "\n",
            "MSE-Mean Squared Error:\n",
            "Random Baseline: [637653.03   5360.05  10613.26]\n",
            "Model Performance: [86032.11   878.11  1460.89]\n",
            "\n",
            "RMSE - Root Mean Squared Error:\n",
            "Random Baseline: [798.53  73.21 103.02]\n",
            "Model Performance: [293.31  29.63  38.22]\n",
            "\n",
            "R² - Proportion of Variance Explained by the Model:\n",
            "Random Baseline: [-0.94 -0.94 -1.03]\n",
            "Model Performance: [0.74 0.71 0.71]\n",
            "\n",
            "Average Metric Comparison Between Model and Baseline:\n",
            "Average Random Baseline MAE: 257.49, Model MAE: 85.61000061035156\n",
            "Average Random Baseline MSE: 217875.45, Model MSE: 29457.0390625\n",
            "Average Random Baseline RMSE: 324.92, Model RMSE: 120.38999938964844\n",
            "Average Random Baseline R²: -0.97, Model R²: 0.7200000286102295\n"
          ]
        }
      ]
    },
    {
      "cell_type": "markdown",
      "source": [
        "**Tracking Model Performance Across Runs**"
      ],
      "metadata": {
        "id": "KFx36wK55dBL"
      }
    },
    {
      "cell_type": "code",
      "source": [
        "import os\n",
        "\n",
        "# Define the file to store results\n",
        "results_file = \"model_results.csv\"\n",
        "\n",
        "current_results = {\n",
        "    \"MAE\": np.round(test_mae.mean(), 2),\n",
        "    \"MSE\": np.round(test_mse.mean(), 2),\n",
        "    \"RMSE\": np.round(test_rmse.mean(), 2),\n",
        "    \"R2\": np.round(test_r2.mean(), 2)}\n",
        "\n",
        "if os.path.exists(results_file):\n",
        "    previous_results = pd.read_csv(results_file)\n",
        "\n",
        "    std_results = previous_results.std().round(2)\n",
        "    mean_results = previous_results.mean().round(2)\n",
        "\n",
        "    print(\"\\nComparison with Previous Run:\")\n",
        "    last_run = previous_results.iloc[-1]\n",
        "    for metric in current_results:\n",
        "        prev_value = last_run[metric]\n",
        "        current_value = current_results[metric]\n",
        "        change = current_value - prev_value\n",
        "        print(f\"{metric}: {current_value} (Previous: {prev_value}, Change: {change:+.2f})\")\n",
        "\n",
        "    print(\"\\nHistorical Performance Stats:\")\n",
        "    for metric in current_results:\n",
        "        print(f\"{metric}: Mean = {mean_results[metric]}, Std = {std_results[metric]}\")\n",
        "\n",
        "else:\n",
        "    print(\"\\nNo previous results found. This is the first recorded run.\")\n",
        "\n",
        "# Append new results to the file\n",
        "new_entry = pd.DataFrame([current_results])\n",
        "new_entry.to_csv(results_file, mode='a', header=not os.path.exists(results_file), index=False)\n",
        "\n",
        "print(\"\\nResults saved successfully!\")"
      ],
      "metadata": {
        "colab": {
          "base_uri": "https://localhost:8080/"
        },
        "id": "zNUj7q3f4_jX",
        "outputId": "867d37ff-2240-4fe7-9c52-df43b0324e2f"
      },
      "execution_count": 28,
      "outputs": [
        {
          "output_type": "stream",
          "name": "stdout",
          "text": [
            "\n",
            "Comparison with Previous Run:\n",
            "MAE: 85.61000061035156 (Previous: 82.99, Change: +2.62)\n",
            "MSE: 29457.0390625 (Previous: 30806.7, Change: -1349.66)\n",
            "RMSE: 120.38999938964844 (Previous: 120.46, Change: -0.07)\n",
            "R2: 0.7200000286102295 (Previous: 0.75, Change: -0.03)\n",
            "\n",
            "Historical Performance Stats:\n",
            "MAE: Mean = 82.99, Std = nan\n",
            "MSE: Mean = 30806.7, Std = nan\n",
            "RMSE: Mean = 120.46, Std = nan\n",
            "R2: Mean = 0.75, Std = nan\n",
            "\n",
            "Results saved successfully!\n"
          ]
        }
      ]
    }
  ]
}